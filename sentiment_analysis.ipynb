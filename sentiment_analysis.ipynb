{
 "cells": [
  {
   "attachments": {},
   "cell_type": "markdown",
   "metadata": {},
   "source": [
    "# Sentiment Analysis\n",
    "\n",
    "Для сентимент-анализа новостей предлагается использовать [TimeLMs](https://huggingface.co/cardiffnlp/twitter-roberta-base-sentiment-latest). Эта модель представляет собой RoBERTa, тюнингованную на датасете твитов (124M твитов с января 2018 по декабрь 2021, возможно позже). Благодаря тому, что RoBERTa была обучена на датасетах за большой период времени, содержащих тексты разных стилей. Тюнинг на твитах даёт обновление модели, параллельно давая некоторую временную деградацию, что не должно повлиять на задачу сентимент-анализа."
   ]
  },
  {
   "attachments": {},
   "cell_type": "markdown",
   "metadata": {},
   "source": [
    "## Data"
   ]
  },
  {
   "cell_type": "code",
   "execution_count": 1,
   "metadata": {},
   "outputs": [],
   "source": [
    "import pandas as pd\n",
    "import numpy as np\n",
    "import pymongo\n",
    "from pprint import pprint"
   ]
  },
  {
   "cell_type": "code",
   "execution_count": 2,
   "metadata": {},
   "outputs": [],
   "source": [
    "client = pymongo.MongoClient('localhost', 27017)\n",
    "db = client[\"news\"]\n",
    "data = db[\"data\"]"
   ]
  },
  {
   "attachments": {},
   "cell_type": "markdown",
   "metadata": {},
   "source": [
    "## Model"
   ]
  },
  {
   "cell_type": "code",
   "execution_count": 3,
   "metadata": {},
   "outputs": [
    {
     "name": "stderr",
     "output_type": "stream",
     "text": [
      "/home/scurrra/Programs/Anaconda/envs/nlp/lib/python3.8/site-packages/tqdm/auto.py:22: TqdmWarning: IProgress not found. Please update jupyter and ipywidgets. See https://ipywidgets.readthedocs.io/en/stable/user_install.html\n",
      "  from .autonotebook import tqdm as notebook_tqdm\n"
     ]
    }
   ],
   "source": [
    "from nltk.tokenize import sent_tokenize\n",
    "\n",
    "from transformers import AutoModelForSequenceClassification\n",
    "from transformers import AutoTokenizer, AutoConfig\n",
    "\n",
    "from scipy.special import softmax"
   ]
  },
  {
   "cell_type": "code",
   "execution_count": 4,
   "metadata": {},
   "outputs": [
    {
     "name": "stderr",
     "output_type": "stream",
     "text": [
      "Some weights of the model checkpoint at cardiffnlp/twitter-roberta-base-sentiment-latest were not used when initializing RobertaForSequenceClassification: ['roberta.pooler.dense.bias', 'roberta.pooler.dense.weight']\n",
      "- This IS expected if you are initializing RobertaForSequenceClassification from the checkpoint of a model trained on another task or with another architecture (e.g. initializing a BertForSequenceClassification model from a BertForPreTraining model).\n",
      "- This IS NOT expected if you are initializing RobertaForSequenceClassification from the checkpoint of a model that you expect to be exactly identical (initializing a BertForSequenceClassification model from a BertForSequenceClassification model).\n"
     ]
    }
   ],
   "source": [
    "MODEL = f\"cardiffnlp/twitter-roberta-base-sentiment-latest\"\n",
    "tokenizer = AutoTokenizer.from_pretrained(MODEL)\n",
    "config = AutoConfig.from_pretrained(MODEL)\n",
    "model = AutoModelForSequenceClassification.from_pretrained(MODEL)"
   ]
  },
  {
   "cell_type": "code",
   "execution_count": 5,
   "metadata": {},
   "outputs": [],
   "source": [
    "def se_eval(text : str):\n",
    "    encoded_input = tokenizer(text, return_tensors='pt')\n",
    "    output = model(**encoded_input)\n",
    "    return output[0][0]"
   ]
  },
  {
   "cell_type": "code",
   "execution_count": 6,
   "metadata": {},
   "outputs": [],
   "source": [
    "def se_score(output : list):\n",
    "    scores = output.detach().numpy()\n",
    "    scores = softmax(scores)\n",
    "\n",
    "    return {\n",
    "        config.id2label[i] : scores[i].item()\n",
    "        for i in range(3)\n",
    "    }"
   ]
  },
  {
   "cell_type": "markdown",
   "metadata": {},
   "source": [
    "### Test on one of the news"
   ]
  },
  {
   "cell_type": "code",
   "execution_count": 7,
   "metadata": {},
   "outputs": [
    {
     "data": {
      "text/plain": [
       "{'_id': ObjectId('63e51459fb0fef334ccf63b4'),\n",
       " 'index': 4712,\n",
       " 'source': 'CNN',\n",
       " 'date': datetime.datetime(2021, 7, 15, 0, 0),\n",
       " 'title': \"There's a shortage of truckers, but TuSimple thinks it has a solution: no driver needed - CNN\",\n",
       " 'category': 'news',\n",
       " 'description': 'The e-commerce boom has exacerbated a global truck driver shortage, but could autonomous trucks help fix the problem?',\n",
       " 'content': '(CNN)Right now, there\\'s a shortage of truck drivers in the US and worldwide, exacerbated by the e-commerce boom brought on by the pandemic. One solution to the problem is autonomous trucks, and several companies are in a race to be the first to launch one. Among them is San Diego-based TuSimple.Founded in 2015, TuSimple has completed about 2 million miles of road tests with its 70 prototype trucks across the US, China and Europe. Although these are simply commercially available trucks retrofitted with its technology, TuSimple has deals in place with two of the world\\'s largest truck manufacturers -- Navistar in the US and Traton, Volkswagen\\'s trucking business, in Europe -- to design and build fully autonomous models, which it hopes to launch by 2024. Photos: The Yara Birkeland is what its builders call the world\\'s first zero-emission, autonomous cargo ship. The ship is scheduled to make its first journey between two Norwegian towns before the end of the year. Click through to see more forms of transport set to transform the future.Hide Caption 1 of 13 Photos: Pictured here as a rendering, Oceanbird is a wind-powered transatlantic car carrier that cuts carbon emissions by 90%, compared to a standard car carrier.Hide Caption 2 of 13 Photos: It\\'s not just maritime ships that are going green. Cities around the world are adopting electric ferries. Norwegian startup Zeabuz hopes its self-driving electric ferry (pictured here as a rendering) will help revive urban waterways.Hide Caption 3 of 13 Photos: In China, a new Maglev high-speed train rolls off the production line in Qingdao, east China\\'s Shandong Province, on July 20. It has a top speed of 600 km per hour -- currently the fastest ground vehicle available globally. Hide Caption 4 of 13 Photos: Reaching speeds of up to 1,000 kilometers (620 miles) per hour, Hyperloop could be a sustainable replacement to short-haul flights. Dutch company Hardt (shown here as a rendering) started work on its Hyperloop test facility in Europe, anticipated to open in 2022.Hide Caption 5 of 13 Photos: Hyperloop is like a bullet train, without tracks and rails. Floating pods are propelled through a low-pressure steel tube using magnetic levitation. Virgin has been running tests with passengers on its XP-2 vehicle, pictured here.Hide Caption 6 of 13 Photos: Low carbon travel isn\\'t just about switching to sustainable fuel sources -- it\\'s also about redesigning the transport itself. A \"Flying-V\" plane designed by Delft\\'s University of Technology in the Netherlands and Dutch airline KLM can cut fuel consumption by 20%. Ultimately, researchers hope to switch out the kerosene with a sustainable fuel source, like liquid hydrogen.Hide Caption 7 of 13 Photos: Hydrogen aviation could provide a sustainable solution for short and medium-haul flights. In September, Airbus unveiled plans for three hydrogen-powered, zero-emission aircraft which can carry 100 to 200 passengers. It hopes to launch the first ZEROe aircraft in 2035.Hide Caption 8 of 13 Photos: In December 2019, Canadian airline Harbour Air flew the world\\'s first all-electric, zero-emission commercial aircraft. The six-seater seaplane was retrofitted with magniX\\'s magni500 all-electric motor. Harbour Air -- which carries half a million passengers annually -- hopes to become the world\\'s first all-electric airline. Hide Caption 9 of 13 Photos: In the case of electric bikes, the future is now: one retailer reported the sale of e-bikes and e-scooters had increased 230% this year. E-bikes give the user a boost to their pedaling, allowing them to go further with less effort. E-bikes are now even available on ride-share apps, like Uber.Hide Caption 10 of 13 Photos: While sleeper trains or buses might be the way most of us get some shut-eye on overnight travel, this rendering of a self-driving hotel suite from Toronto-based designer Steve Lee of Aprilli Design Studio might offer a plush alternative in the future.Hide Caption 11 of 13 Photos: In the UAE, these futuristic-looking pods are undergoing testing on a 400-meter line in Sharjah, which borders Dubai. Belarus-based uSky Transport says its pods can help cities solve traffic problems.Hide Caption 12 of 13 Photos: The Coradia iLint by French rail transport company Alstom is the world\\'s first hydrogen-powered passenger train. It began testing in Germany in 2018, and in September 2020 entered regular service in Austria.Hide Caption 13 of 13No sleepTuSimple\\'s latest road test involved hauling fresh produce 951 miles, from Nogales, Arizona to Oklahoma City. The pickup and the dropoff were handled by a human driver, but for the bulk of the route -- from Tucson to Dallas -- the truck drove itself. Read More\"Today, because the system is not fully ready, we have a safety driver and a safety engineer on board at all times when we\\'re testing, but we drove in full autonomy: the driver wasn\\'t touching the wheel,\" said Cheng Lu, TuSimple\\'s president and CEO. The journey was completed in 14 hours versus the usual 24 with a human driver, mostly because a truck doesn\\'t need to sleep. \"In the US, a driver can only work 11 hours a day. We simply had a handoff when our first pair of drivers had to stop because they reached their 11 hours of operation,\" said Lu. That, of course, negates the advantage of an autonomous system, so the idea is that once TuSimple\\'s trucks hit the market, there will be no need to have anyone onboard. Picking up the watermelons still required the human touch.Unlike self-driving cars, which are a still a way from being commercially available, TuSimple trucks won\\'t be required to operate in bustling city traffic, but only on stretches of highway that have been thoroughly mapped via the company\\'s own software. \"We collect data from the roads, and we create this very detailed, high definition map of each route. That adds another layer of safety for the vehicles,\" said Lu. As a result, TuSimple\\'s trucks will only be able to self-drive along these pre-mapped trade corridors, which Lu calls \"virtual railroads,\" and nowhere else. This swarm of robots gets smarter the more it worksAccording to the company, in the US 80% of goods travel through just 10% of the nation\\'s trade corridors, so even selective mapping allows for capturing a large portion of the business. TuSimple is currently mapping routes between Arizona and Texas, and plans to have mapped routes across the nation by 2024. Its plans are dependent on state legislation, however, because currently some states do not allow for testing of autonomous trucks on public roads. Happier drivers?The technology will add about $50,000 to the cost of a truck, making the final price roughly $200,000. According to Lu, that\\'s still cheaper than paying for a human driver. \"If you take $50,000 and divide it by 1 million miles, the average lifespan of a truck, that means you\\'re adding five cents per mile. But you\\'re saving the cost of a human driver, which based on average US wages is about $80,000 to $120,000 per year -- or 80 cents to $1.20 per mile. Today, the direct labor cost is about 50% of the cost of operating a truck,\" he said. Read: A robotic \\'Ironhand\\' could protect factory workers from injuriesThat doesn\\'t mean driverless trucks will take away jobs, according to Lu. By focusing on the \"middle mile,\" rather than on the pickup and delivery of the goods, TuSimple believes it can create new freight capacity without creating new demand for drivers, while at the same time protecting existing jobs. \"A UPS driver is dropping off 200 packages a day -- that\\'s not what autonomy is meant for. We believe that every driver will be able to retire as a driver, even if they enter the workforce today,\" said Lu. TuSimple\\'s autonomous fleet.Instead, TuSimple aims to take over the routes between terminals and distribution centers, which involve long stretches of monotonous driving. \"Take Phoenix to El Paso: that\\'s a six-hour drive. A person cannot make the round trip, because it\\'s more than 11 hours. But the truck can go back and forth all day, the most mundane job that drivers don\\'t want to do. That means you free up that human driver to do the first and the last mile (pickup and delivery).They get to work a full day, which is a more efficient use of their time, and they get to go home at night to their family,\" said Lu.No distractions Although Lu says that the reliability of both the software and the hardware still needs to be increased, TuSimple is planning its first fully autonomous tests, without a human safety driver in the cabin at all, before the end of the year. The results of such tests will indicate whether the company can meet its goal to launch its own trucks by 2024. Lu says that 7,000 have been reserved in the US alone. Photos: The robots running our warehouses Photos: The robots running our warehousesRobots are an increasingly familiar presence in warehouses. At the south-east London warehouse run by British online supermarket Ocado, 3,000 robots fulfill shopping orders. When an order is sent to the warehouse, the bots spring to life and head towards the container they require. Scroll through to see more robots that are revolutionizing warehouses.Hide Caption 1 of 8 Photos: The robots running our warehousesIn response to the coronavirus pandemic, MIT collaborated with Ava Robotics and the Greater Boston Food Bank to design a robot that can use UV light to sanitize the floor of a 4,000-square foot warehouse in just 30 minutes. Hide Caption 2 of 8 Photos: The robots running our warehousesSeven-foot \"Model-T\" robots produced by Japanese startup Telexistence have been stacking shelves in two of Tokyo\\'s largest convenience store franchises. Featuring cameras, microphones and sensors, the Model-T uses three \"fingers\" to stock items such as bottled drinks, cans and rice bowls. The robot is controlled by shop staff remotely.Hide Caption 3 of 8 Photos: The robots running our warehousesUS company Boston Dynamics has become known for its advanced work robots. \"Handle\" is made for the warehouse and equipped with an on-board vision system. It can lift boxes weighing over 30 pounds. Hide Caption 4 of 8 Photos: The robots running our warehousesStretch is the latest robot from Boston Dynamics and can work in warehouses and distribution centers. Designed to keep human workers out of harm\\'s way, Stretch\\'s tentacle-like grippers mean it can manipulate boxes. Hide Caption 5 of 8 Photos: The robots running our warehousesAlthough not specifically designed for warehouses, Boston Dynamics\\' dog-like robot \"Spot\" can lift objects, pick itself up after a fall, open and walk through doors, and even remind people to practice social distancing. Hide Caption 6 of 8 Photos: The robots running our warehousesThis robot is used to plant seeds and check plants at the \"Nordic Harvest\" vertical farm  based in Taastrup, Denmark. The indoor farm is one of the biggest in Europe.Hide Caption 7 of 8 Photos: The robots running our warehousesRobots sort packages at a warehouse run by JD.com -- one of China\\'s largest e-commerce firms, in Wuhan, China, ahead of the annual Singles Day online shopping bonanza, in 2019.Hide Caption 8 of 8 TuSimple has prominent competitors, such as Google spinoff Waymo and Uber-backed Aurora, but those are working on a wider range of self-driving vehicles, including passenger cars. TuSimple is working exclusively on driverless trucks, like US companies Plus and Embark. Grayson Brulte, an autonomy expert at consulting firm Brulte & Co., believes TuSimple is on the right track. \"The biggest competitive advantage that TuSimple has over its competitors is that their technology was purpose-built for trucking. They\\'re not trying to port an autonomy system built for passenger vehicles in dense urban environments to trucking or to build a virtual driver which can both drive passenger vehicles and class-8 trucks. These are different skills and different systems altogether,\" he said. Removing the human element on long trucking routes has other benefits. The company says its trucks react 15 times faster than human drivers, and can see farther down the road, even at night. \"In the US every year there are about 5,000 fatalities involving trucks, and most are due to human error,\" said Lu. \"The truck doesn\\'t get tired, doesn\\'t watch a movie or look at a phone. It doesn\\'t get distracted.\"'}"
      ]
     },
     "execution_count": 7,
     "metadata": {},
     "output_type": "execute_result"
    }
   ],
   "source": [
    "# new that has description (4712)\n",
    "new_test = data.find_one({\"index\": 4712})\n",
    "new_test"
   ]
  },
  {
   "cell_type": "markdown",
   "metadata": {},
   "source": [
    "#### Title"
   ]
  },
  {
   "cell_type": "code",
   "execution_count": 7,
   "metadata": {},
   "outputs": [],
   "source": [
    "def sa_title(title: str):\n",
    "    return se_score(se_eval(title))"
   ]
  },
  {
   "cell_type": "code",
   "execution_count": 9,
   "metadata": {},
   "outputs": [
    {
     "data": {
      "text/plain": [
       "\"There's a shortage of truckers, but TuSimple thinks it has a solution: no driver needed - CNN\""
      ]
     },
     "execution_count": 9,
     "metadata": {},
     "output_type": "execute_result"
    }
   ],
   "source": [
    "new_test[\"title\"]"
   ]
  },
  {
   "cell_type": "code",
   "execution_count": 10,
   "metadata": {},
   "outputs": [
    {
     "data": {
      "text/plain": [
       "{'negative': 0.2651931047439575,\n",
       " 'neutral': 0.6773514747619629,\n",
       " 'positive': 0.057455483824014664}"
      ]
     },
     "execution_count": 10,
     "metadata": {},
     "output_type": "execute_result"
    }
   ],
   "source": [
    "sa_title(new_test[\"title\"])"
   ]
  },
  {
   "attachments": {},
   "cell_type": "markdown",
   "metadata": {},
   "source": [
    "#### Description"
   ]
  },
  {
   "cell_type": "code",
   "execution_count": 8,
   "metadata": {},
   "outputs": [],
   "source": [
    "def sa_description(desc):\n",
    "    if isinstance(desc, str):\n",
    "        desc = sent_tokenize(desc)\n",
    "        \n",
    "        return [\n",
    "            se_score(se_eval(sent))\n",
    "            for sent in desc\n",
    "        ]\n",
    "    else: # np.NaN\n",
    "        return [{\n",
    "            config.id2label[i] : np.nan\n",
    "            for i in range(3)\n",
    "        }]"
   ]
  },
  {
   "cell_type": "code",
   "execution_count": 12,
   "metadata": {},
   "outputs": [
    {
     "data": {
      "text/plain": [
       "'The e-commerce boom has exacerbated a global truck driver shortage, but could autonomous trucks help fix the problem?'"
      ]
     },
     "execution_count": 12,
     "metadata": {},
     "output_type": "execute_result"
    }
   ],
   "source": [
    "new_test[\"description\"]"
   ]
  },
  {
   "cell_type": "code",
   "execution_count": 13,
   "metadata": {},
   "outputs": [
    {
     "data": {
      "text/plain": [
       "[{'negative': 0.30483901500701904,\n",
       "  'neutral': 0.6038489937782288,\n",
       "  'positive': 0.09131209552288055}]"
      ]
     },
     "execution_count": 13,
     "metadata": {},
     "output_type": "execute_result"
    }
   ],
   "source": [
    "sa_description(new_test[\"description\"])"
   ]
  },
  {
   "attachments": {},
   "cell_type": "markdown",
   "metadata": {},
   "source": [
    "#### Content"
   ]
  },
  {
   "cell_type": "code",
   "execution_count": 9,
   "metadata": {},
   "outputs": [],
   "source": [
    "def sa_content_full(content: str):\n",
    "    content = sent_tokenize(content)\n",
    "\n",
    "    return [\n",
    "        se_score(se_eval(sent))\n",
    "        for sent in content\n",
    "    ]"
   ]
  },
  {
   "cell_type": "code",
   "execution_count": 10,
   "metadata": {},
   "outputs": [],
   "source": [
    "def sa_content(content: str):\n",
    "    content = sent_tokenize(content)[:10]\n",
    "\n",
    "    return [\n",
    "        se_score(se_eval(sent))\n",
    "        for sent in content\n",
    "    ]"
   ]
  },
  {
   "cell_type": "code",
   "execution_count": 16,
   "metadata": {},
   "outputs": [],
   "source": [
    "new_test[\"content\"];"
   ]
  },
  {
   "cell_type": "code",
   "execution_count": 17,
   "metadata": {},
   "outputs": [],
   "source": [
    "sa_c = sa_content_full(new_test[\"content\"])"
   ]
  },
  {
   "cell_type": "markdown",
   "metadata": {},
   "source": [
    "#### Pipeline for the new"
   ]
  },
  {
   "cell_type": "code",
   "execution_count": 11,
   "metadata": {},
   "outputs": [],
   "source": [
    "from collections import Counter\n",
    "from operator import itemgetter"
   ]
  },
  {
   "cell_type": "code",
   "execution_count": 12,
   "metadata": {},
   "outputs": [],
   "source": [
    "def get_sentiment(score: dict):\n",
    "    return max(score, key=score.get)"
   ]
  },
  {
   "cell_type": "code",
   "execution_count": 13,
   "metadata": {},
   "outputs": [],
   "source": [
    "def the_most(key: str, scores: list):\n",
    "    st = max(enumerate(scores), key=lambda sa: sa[1][key])\n",
    "    return {\n",
    "        \"sentence_number\": st[0], \n",
    "        f\"{key} score\": st[1][key]\n",
    "    }"
   ]
  },
  {
   "cell_type": "code",
   "execution_count": 14,
   "metadata": {},
   "outputs": [],
   "source": [
    "def sa_report_full(new):\n",
    "    title = sa_title(new[\"title\"])\n",
    "    description = sa_description(new[\"description\"])\n",
    "    content = sa_content_full(new[\"content\"])\n",
    "\n",
    "    report = {\n",
    "        \"title_sentiment\": get_sentiment(title),\n",
    "        \"description_sentiment\": Counter(get_sentiment(sa) for sa in description),\n",
    "        \"content_sentiment_full\": Counter(get_sentiment(sa) for sa in content),\n",
    "        \"content_sentiment_f10\": Counter(get_sentiment(sa) for sa in content[:10]),\n",
    "        \"most_positive_sentense\": the_most(\"positive\", content),\n",
    "        \"most_negative_sentense\": the_most(\"negative\", content)\n",
    "    }\n",
    "\n",
    "    return {\n",
    "        \"index\": new[\"index\"],\n",
    "        \"report\": report,\n",
    "        \"details\": {\n",
    "            \"title\": title,\n",
    "            \"description\": description,\n",
    "            \"content\": content\n",
    "        }\n",
    "    }"
   ]
  },
  {
   "cell_type": "code",
   "execution_count": 15,
   "metadata": {},
   "outputs": [],
   "source": [
    "def sa_report(new):\n",
    "    title = sa_title(new[\"title\"])\n",
    "    description = sa_description(new[\"description\"])\n",
    "    content = sa_content(new[\"content\"])\n",
    "\n",
    "    report = {\n",
    "        \"title_sentiment\": get_sentiment(title),\n",
    "        \"description_sentiment\": Counter(get_sentiment(sa) for sa in description),\n",
    "        \"content_sentiment\": Counter(get_sentiment(sa) for sa in content)\n",
    "    }\n",
    "\n",
    "    return {\n",
    "        \"index\": new[\"index\"],\n",
    "        \"report\": report,\n",
    "        \"details\": {\n",
    "            \"title\": title,\n",
    "            \"description\": description,\n",
    "            \"content\": content\n",
    "        }\n",
    "    }"
   ]
  },
  {
   "cell_type": "code",
   "execution_count": 23,
   "metadata": {},
   "outputs": [
    {
     "data": {
      "text/plain": [
       "{'index': 4712,\n",
       " 'report': {'title_sentiment': 'neutral',\n",
       "  'description_sentiment': Counter({'neutral': 1}),\n",
       "  'content_sentiment': Counter({'negative': 1, 'neutral': 6, 'positive': 3})},\n",
       " 'details': {'title': {'negative': 0.2651931047439575,\n",
       "   'neutral': 0.6773514747619629,\n",
       "   'positive': 0.057455483824014664},\n",
       "  'description': [{'negative': 0.30483901500701904,\n",
       "    'neutral': 0.6038489937782288,\n",
       "    'positive': 0.09131209552288055}],\n",
       "  'content': [{'negative': 0.6836929321289062,\n",
       "    'neutral': 0.29760292172431946,\n",
       "    'positive': 0.018704118207097054},\n",
       "   {'negative': 0.03147675096988678,\n",
       "    'neutral': 0.6021249294281006,\n",
       "    'positive': 0.3663983941078186},\n",
       "   {'negative': 0.005951882340013981,\n",
       "    'neutral': 0.7542198300361633,\n",
       "    'positive': 0.23982815444469452},\n",
       "   {'negative': 0.009524310007691383,\n",
       "    'neutral': 0.6008063554763794,\n",
       "    'positive': 0.389669269323349},\n",
       "   {'negative': 0.0052651711739599705,\n",
       "    'neutral': 0.5081960558891296,\n",
       "    'positive': 0.486538827419281},\n",
       "   {'negative': 0.007141564041376114,\n",
       "    'neutral': 0.9138311147689819,\n",
       "    'positive': 0.0790272206068039},\n",
       "   {'negative': 0.008209709078073502,\n",
       "    'neutral': 0.48054298758506775,\n",
       "    'positive': 0.5112473368644714},\n",
       "   {'negative': 0.0072282725013792515,\n",
       "    'neutral': 0.7601931095123291,\n",
       "    'positive': 0.23257848620414734},\n",
       "   {'negative': 0.0030554754193872213,\n",
       "    'neutral': 0.2367967814207077,\n",
       "    'positive': 0.760147750377655},\n",
       "   {'negative': 0.002939739264547825,\n",
       "    'neutral': 0.09552045166492462,\n",
       "    'positive': 0.9015398025512695}]}}"
      ]
     },
     "execution_count": 23,
     "metadata": {},
     "output_type": "execute_result"
    }
   ],
   "source": [
    "sa_report(new_test)"
   ]
  },
  {
   "cell_type": "code",
   "execution_count": 24,
   "metadata": {},
   "outputs": [
    {
     "data": {
      "text/plain": [
       "{'index': 4712,\n",
       " 'report': {'title_sentiment': 'neutral',\n",
       "  'description_sentiment': Counter({'neutral': 1}),\n",
       "  'content_sentiment_full': Counter({'negative': 4,\n",
       "           'neutral': 60,\n",
       "           'positive': 14}),\n",
       "  'content_sentiment_f10': Counter({'negative': 1,\n",
       "           'neutral': 6,\n",
       "           'positive': 3}),\n",
       "  'most_positive_sentense': {'sentence_number': 9,\n",
       "   'positive score': 0.9015398025512695},\n",
       "  'most_negative_sentense': {'sentence_number': 45,\n",
       "   'negative score': 0.8231138586997986}},\n",
       " 'details': {'title': {'negative': 0.2651931047439575,\n",
       "   'neutral': 0.6773514747619629,\n",
       "   'positive': 0.057455483824014664},\n",
       "  'description': [{'negative': 0.30483901500701904,\n",
       "    'neutral': 0.6038489937782288,\n",
       "    'positive': 0.09131209552288055}],\n",
       "  'content': [{'negative': 0.6836929321289062,\n",
       "    'neutral': 0.29760292172431946,\n",
       "    'positive': 0.018704118207097054},\n",
       "   {'negative': 0.03147675096988678,\n",
       "    'neutral': 0.6021249294281006,\n",
       "    'positive': 0.3663983941078186},\n",
       "   {'negative': 0.005951882340013981,\n",
       "    'neutral': 0.7542198300361633,\n",
       "    'positive': 0.23982815444469452},\n",
       "   {'negative': 0.009524310007691383,\n",
       "    'neutral': 0.6008063554763794,\n",
       "    'positive': 0.389669269323349},\n",
       "   {'negative': 0.0052651711739599705,\n",
       "    'neutral': 0.5081960558891296,\n",
       "    'positive': 0.486538827419281},\n",
       "   {'negative': 0.007141564041376114,\n",
       "    'neutral': 0.9138311147689819,\n",
       "    'positive': 0.0790272206068039},\n",
       "   {'negative': 0.008209709078073502,\n",
       "    'neutral': 0.48054298758506775,\n",
       "    'positive': 0.5112473368644714},\n",
       "   {'negative': 0.0072282725013792515,\n",
       "    'neutral': 0.7601931095123291,\n",
       "    'positive': 0.23257848620414734},\n",
       "   {'negative': 0.0030554754193872213,\n",
       "    'neutral': 0.2367967814207077,\n",
       "    'positive': 0.760147750377655},\n",
       "   {'negative': 0.002939739264547825,\n",
       "    'neutral': 0.09552045166492462,\n",
       "    'positive': 0.9015398025512695},\n",
       "   {'negative': 0.005402034148573875,\n",
       "    'neutral': 0.3736423850059509,\n",
       "    'positive': 0.6209557056427002},\n",
       "   {'negative': 0.007572077214717865,\n",
       "    'neutral': 0.8592166900634766,\n",
       "    'positive': 0.13321124017238617},\n",
       "   {'negative': 0.026770615950226784,\n",
       "    'neutral': 0.8794031739234924,\n",
       "    'positive': 0.09382616728544235},\n",
       "   {'negative': 0.007909126579761505,\n",
       "    'neutral': 0.8331398367881775,\n",
       "    'positive': 0.15895111858844757},\n",
       "   {'negative': 0.014686211943626404,\n",
       "    'neutral': 0.5731608271598816,\n",
       "    'positive': 0.4121530055999756},\n",
       "   {'negative': 0.009607536718249321,\n",
       "    'neutral': 0.5051834583282471,\n",
       "    'positive': 0.4852089583873749},\n",
       "   {'negative': 0.0053867860697209835,\n",
       "    'neutral': 0.528587281703949,\n",
       "    'positive': 0.46602582931518555},\n",
       "   {'negative': 0.0031812512315809727,\n",
       "    'neutral': 0.4494495987892151,\n",
       "    'positive': 0.547369122505188},\n",
       "   {'negative': 0.00785284023731947,\n",
       "    'neutral': 0.8877517580986023,\n",
       "    'positive': 0.1043953076004982},\n",
       "   {'negative': 0.003277477575466037,\n",
       "    'neutral': 0.2623603045940399,\n",
       "    'positive': 0.7343621253967285},\n",
       "   {'negative': 0.004702761769294739,\n",
       "    'neutral': 0.45795002579689026,\n",
       "    'positive': 0.5373470783233643},\n",
       "   {'negative': 0.006407538428902626,\n",
       "    'neutral': 0.18145297467708588,\n",
       "    'positive': 0.8121395111083984},\n",
       "   {'negative': 0.007121150381863117,\n",
       "    'neutral': 0.5648526549339294,\n",
       "    'positive': 0.42802631855010986},\n",
       "   {'negative': 0.004573083948343992,\n",
       "    'neutral': 0.4575030505657196,\n",
       "    'positive': 0.5379238128662109},\n",
       "   {'negative': 0.08830251544713974,\n",
       "    'neutral': 0.8646783232688904,\n",
       "    'positive': 0.047019168734550476},\n",
       "   {'negative': 0.011498167179524899,\n",
       "    'neutral': 0.9278140068054199,\n",
       "    'positive': 0.060687754303216934},\n",
       "   {'negative': 0.09537826478481293,\n",
       "    'neutral': 0.8241982460021973,\n",
       "    'positive': 0.08042357116937637},\n",
       "   {'negative': 0.05589044839143753,\n",
       "    'neutral': 0.7583903074264526,\n",
       "    'positive': 0.18571928143501282},\n",
       "   {'negative': 0.16277627646923065,\n",
       "    'neutral': 0.7961933016777039,\n",
       "    'positive': 0.04103036969900131},\n",
       "   {'negative': 0.03792281076312065,\n",
       "    'neutral': 0.8958036303520203,\n",
       "    'positive': 0.06627345085144043},\n",
       "   {'negative': 0.4717062711715698,\n",
       "    'neutral': 0.5018301010131836,\n",
       "    'positive': 0.026463573798537254},\n",
       "   {'negative': 0.10377911478281021,\n",
       "    'neutral': 0.8202402591705322,\n",
       "    'positive': 0.07598069310188293},\n",
       "   {'negative': 0.009234778583049774,\n",
       "    'neutral': 0.8707159757614136,\n",
       "    'positive': 0.12004924565553665},\n",
       "   {'negative': 0.01652376912534237,\n",
       "    'neutral': 0.6299378275871277,\n",
       "    'positive': 0.35353830456733704},\n",
       "   {'negative': 0.469047486782074,\n",
       "    'neutral': 0.5150641202926636,\n",
       "    'positive': 0.01588832214474678},\n",
       "   {'negative': 0.023891063407063484,\n",
       "    'neutral': 0.5657986402511597,\n",
       "    'positive': 0.410310298204422},\n",
       "   {'negative': 0.0042854552157223225,\n",
       "    'neutral': 0.8837838172912598,\n",
       "    'positive': 0.11193080246448517},\n",
       "   {'negative': 0.29502758383750916,\n",
       "    'neutral': 0.6902838945388794,\n",
       "    'positive': 0.014688431285321712},\n",
       "   {'negative': 0.020614394918084145,\n",
       "    'neutral': 0.39156705141067505,\n",
       "    'positive': 0.5878186821937561},\n",
       "   {'negative': 0.15572360157966614,\n",
       "    'neutral': 0.7682216167449951,\n",
       "    'positive': 0.07605476677417755},\n",
       "   {'negative': 0.15735706686973572,\n",
       "    'neutral': 0.7438228726387024,\n",
       "    'positive': 0.09881997853517532},\n",
       "   {'negative': 0.18705201148986816,\n",
       "    'neutral': 0.690153181552887,\n",
       "    'positive': 0.12279491126537323},\n",
       "   {'negative': 0.17805540561676025,\n",
       "    'neutral': 0.776474118232727,\n",
       "    'positive': 0.045470453798770905},\n",
       "   {'negative': 0.14212875068187714,\n",
       "    'neutral': 0.7959660887718201,\n",
       "    'positive': 0.06190510094165802},\n",
       "   {'negative': 0.03144694119691849,\n",
       "    'neutral': 0.8162781596183777,\n",
       "    'positive': 0.15227492153644562},\n",
       "   {'negative': 0.8231138586997986,\n",
       "    'neutral': 0.16620773077011108,\n",
       "    'positive': 0.010678284801542759},\n",
       "   {'negative': 0.009298108518123627,\n",
       "    'neutral': 0.6337425112724304,\n",
       "    'positive': 0.3569592237472534},\n",
       "   {'negative': 0.12258841842412949,\n",
       "    'neutral': 0.8121750354766846,\n",
       "    'positive': 0.06523661315441132},\n",
       "   {'negative': 0.19905830919742584,\n",
       "    'neutral': 0.7643836736679077,\n",
       "    'positive': 0.03655802085995674},\n",
       "   {'negative': 0.4789395034313202,\n",
       "    'neutral': 0.492551326751709,\n",
       "    'positive': 0.02850911021232605},\n",
       "   {'negative': 0.6153152585029602,\n",
       "    'neutral': 0.32479941844940186,\n",
       "    'positive': 0.059885408729314804},\n",
       "   {'negative': 0.016575166955590248,\n",
       "    'neutral': 0.44513195753097534,\n",
       "    'positive': 0.5382928848266602},\n",
       "   {'negative': 0.005168385803699493,\n",
       "    'neutral': 0.6649462580680847,\n",
       "    'positive': 0.32988542318344116},\n",
       "   {'negative': 0.011137026362121105,\n",
       "    'neutral': 0.9495334625244141,\n",
       "    'positive': 0.03932939097285271},\n",
       "   {'negative': 0.01016032975167036,\n",
       "    'neutral': 0.786720871925354,\n",
       "    'positive': 0.20311880111694336},\n",
       "   {'negative': 0.007069272454828024,\n",
       "    'neutral': 0.7989498972892761,\n",
       "    'positive': 0.19398076832294464},\n",
       "   {'negative': 0.015341156162321568,\n",
       "    'neutral': 0.8683220744132996,\n",
       "    'positive': 0.11633674055337906},\n",
       "   {'negative': 0.004239292815327644,\n",
       "    'neutral': 0.3743150234222412,\n",
       "    'positive': 0.6214457750320435},\n",
       "   {'negative': 0.028286149725317955,\n",
       "    'neutral': 0.9371755719184875,\n",
       "    'positive': 0.034538280218839645},\n",
       "   {'negative': 0.007758654188364744,\n",
       "    'neutral': 0.9072921872138977,\n",
       "    'positive': 0.0849490761756897},\n",
       "   {'negative': 0.004059588070958853,\n",
       "    'neutral': 0.7779805064201355,\n",
       "    'positive': 0.21796000003814697},\n",
       "   {'negative': 0.010911055840551853,\n",
       "    'neutral': 0.9086392521858215,\n",
       "    'positive': 0.08044955879449844},\n",
       "   {'negative': 0.02409421280026436,\n",
       "    'neutral': 0.6597213745117188,\n",
       "    'positive': 0.316184401512146},\n",
       "   {'negative': 0.0043867831118404865,\n",
       "    'neutral': 0.8570107817649841,\n",
       "    'positive': 0.13860245048999786},\n",
       "   {'negative': 0.25467246770858765,\n",
       "    'neutral': 0.6876929998397827,\n",
       "    'positive': 0.05763447657227516},\n",
       "   {'negative': 0.02593885362148285,\n",
       "    'neutral': 0.8560603857040405,\n",
       "    'positive': 0.11800079047679901},\n",
       "   {'negative': 0.009164332412183285,\n",
       "    'neutral': 0.9600792527198792,\n",
       "    'positive': 0.030756404623389244},\n",
       "   {'negative': 0.006110603921115398,\n",
       "    'neutral': 0.6405045986175537,\n",
       "    'positive': 0.3533848524093628},\n",
       "   {'negative': 0.02137218974530697,\n",
       "    'neutral': 0.862076461315155,\n",
       "    'positive': 0.11655138432979584},\n",
       "   {'negative': 0.006401128601282835,\n",
       "    'neutral': 0.6577262878417969,\n",
       "    'positive': 0.33587250113487244},\n",
       "   {'negative': 0.010214834474027157,\n",
       "    'neutral': 0.292194664478302,\n",
       "    'positive': 0.6975904703140259},\n",
       "   {'negative': 0.2855667769908905,\n",
       "    'neutral': 0.6849653720855713,\n",
       "    'positive': 0.029467890039086342},\n",
       "   {'negative': 0.04591669887304306,\n",
       "    'neutral': 0.8703991174697876,\n",
       "    'positive': 0.08368423581123352},\n",
       "   {'negative': 0.02838030830025673,\n",
       "    'neutral': 0.5844318270683289,\n",
       "    'positive': 0.38718780875205994},\n",
       "   {'negative': 0.009443425573408604,\n",
       "    'neutral': 0.3783991038799286,\n",
       "    'positive': 0.6121575236320496},\n",
       "   {'negative': 0.8126049637794495,\n",
       "    'neutral': 0.17829908430576324,\n",
       "    'positive': 0.009095833636820316},\n",
       "   {'negative': 0.12526313960552216,\n",
       "    'neutral': 0.7296883463859558,\n",
       "    'positive': 0.14504843950271606},\n",
       "   {'negative': 0.08852711319923401,\n",
       "    'neutral': 0.7208947539329529,\n",
       "    'positive': 0.19057802855968475}]}}"
      ]
     },
     "execution_count": 24,
     "metadata": {},
     "output_type": "execute_result"
    }
   ],
   "source": [
    "sa_report_full(new_test)"
   ]
  },
  {
   "attachments": {},
   "cell_type": "markdown",
   "metadata": {},
   "source": [
    "## Evaluating"
   ]
  },
  {
   "cell_type": "code",
   "execution_count": 16,
   "metadata": {},
   "outputs": [],
   "source": [
    "from tqdm import tqdm"
   ]
  },
  {
   "attachments": {},
   "cell_type": "markdown",
   "metadata": {},
   "source": [
    "### Full text"
   ]
  },
  {
   "cell_type": "code",
   "execution_count": 26,
   "metadata": {},
   "outputs": [],
   "source": [
    "FULL_TEXT_SA_N_SAMPLES = 100"
   ]
  },
  {
   "cell_type": "code",
   "execution_count": 27,
   "metadata": {},
   "outputs": [],
   "source": [
    "sa_full = db[\"sa_full\"]"
   ]
  },
  {
   "cell_type": "code",
   "execution_count": 28,
   "metadata": {},
   "outputs": [
    {
     "name": "stderr",
     "output_type": "stream",
     "text": [
      "100%|██████████| 100/100 [05:15<00:00,  3.15s/it]"
     ]
    },
    {
     "name": "stdout",
     "output_type": "stream",
     "text": [
      "News faild: [21744, 17840, 7281]\n",
      "News reported: [29414, 4820, 9094, 11401, 36626, 17819, 16669, 5312, 5346, 20062, 32465, 6550, 27956, 29595, 22301, 24623, 9259, 29425, 36863, 9292, 24153, 2520, 6662, 14245, 39356, 8482, 23585, 3360, 10790, 30223, 9997, 38124, 11708, 14211, 42525, 22383, 38975, 14444, 29438, 39222, 37516, 8029, 26606, 17396, 12658, 27818, 19484, 18200, 30764, 14534, 32857, 38530, 22327, 32351, 33321, 6589, 17578, 22902, 7214, 7368, 21724, 30647, 41448, 10178, 17765, 36117, 12506, 38183, 34449, 42591, 25902, 30698, 33197, 26557, 33074, 27396, 13433, 29753, 30787, 29740, 20585, 12801, 24916, 39635, 17088, 27065, 42539, 16187, 39318, 38824, 9139, 11232, 17624, 42341, 19544, 25320, 24559]\n"
     ]
    },
    {
     "name": "stderr",
     "output_type": "stream",
     "text": [
      "\n"
     ]
    }
   ],
   "source": [
    "sa_full_report_data = []\n",
    "sa_full_report_indices = []\n",
    "sa_full_report_failed = []\n",
    "for new in tqdm(data.aggregate([{\"$sample\": {\"size\": FULL_TEXT_SA_N_SAMPLES}}]), total=FULL_TEXT_SA_N_SAMPLES):\n",
    "    try:\n",
    "        report = sa_report_full(new)\n",
    "        sa_full_report_data.append(report)\n",
    "        sa_full_report_indices.append(new[\"index\"])\n",
    "    except RuntimeError:\n",
    "        sa_full_report_failed.append(new[\"index\"])\n",
    "print(\"News failed: {}\".format(sa_full_report_failed))\n",
    "print(\"News reported: {}\".format(sa_full_report_indices))"
   ]
  },
  {
   "cell_type": "code",
   "execution_count": 29,
   "metadata": {},
   "outputs": [
    {
     "data": {
      "text/plain": [
       "<pymongo.results.InsertManyResult at 0x7f520bc01700>"
      ]
     },
     "execution_count": 29,
     "metadata": {},
     "output_type": "execute_result"
    }
   ],
   "source": [
    "sa_full.insert_many(sa_full_report_data)"
   ]
  },
  {
   "attachments": {},
   "cell_type": "markdown",
   "metadata": {},
   "source": [
    "### First 10 sentences"
   ]
  },
  {
   "cell_type": "code",
   "execution_count": 17,
   "metadata": {},
   "outputs": [
    {
     "data": {
      "text/plain": [
       "42635"
      ]
     },
     "execution_count": 17,
     "metadata": {},
     "output_type": "execute_result"
    }
   ],
   "source": [
    "F10_TEXT_SA_N_SAMPLES = db.command(\"collstats\", \"data\")[\"count\"]\n",
    "F10_TEXT_SA_N_SAMPLES"
   ]
  },
  {
   "cell_type": "code",
   "execution_count": 29,
   "metadata": {},
   "outputs": [],
   "source": [
    "F10_TEXT_SA_N_SAMPLES_MAX = 10000 #F10_TEXT_SA_N_SAMPLES"
   ]
  },
  {
   "cell_type": "code",
   "execution_count": 19,
   "metadata": {},
   "outputs": [],
   "source": [
    "sa_first10 = db[\"sa_first10\"]"
   ]
  },
  {
   "cell_type": "code",
   "execution_count": 30,
   "metadata": {},
   "outputs": [
    {
     "data": {
      "text/plain": [
       "9000"
      ]
     },
     "execution_count": 30,
     "metadata": {},
     "output_type": "execute_result"
    }
   ],
   "source": [
    "F10_TEXT_SA_IND_LAST = 9000 #[sa[\"index\"] for sa in sa_first10.find()][-1] + 1 #0\n",
    "F10_TEXT_SA_IND_LAST"
   ]
  },
  {
   "cell_type": "code",
   "execution_count": 31,
   "metadata": {},
   "outputs": [
    {
     "name": "stderr",
     "output_type": "stream",
     "text": [
      "100%|██████████| 1000/1000 [15:33<00:00,  1.07it/s]"
     ]
    },
    {
     "name": "stdout",
     "output_type": "stream",
     "text": [
      "News failed: []\n",
      "News reported: [9000, 9001, 9002, 9003, 9004, 9005, 9006, 9007, 9008, 9009, 9010, 9011, 9012, 9013, 9014, 9015, 9016, 9017, 9018, 9019, 9020, 9021, 9022, 9023, 9024, 9025, 9026, 9027, 9028, 9029, 9030, 9031, 9032, 9033, 9034, 9035, 9036, 9037, 9038, 9039, 9040, 9041, 9042, 9043, 9044, 9045, 9046, 9047, 9048, 9049, 9050, 9051, 9052, 9053, 9054, 9055, 9056, 9057, 9058, 9059, 9060, 9061, 9062, 9063, 9064, 9065, 9066, 9067, 9068, 9069, 9070, 9071, 9072, 9073, 9074, 9075, 9076, 9077, 9078, 9079, 9080, 9081, 9082, 9083, 9084, 9085, 9086, 9087, 9088, 9089, 9090, 9091, 9092, 9093, 9094, 9095, 9096, 9097, 9098, 9099, 9100, 9101, 9102, 9103, 9104, 9105, 9106, 9107, 9108, 9109, 9110, 9111, 9112, 9113, 9114, 9115, 9116, 9117, 9118, 9119, 9120, 9121, 9122, 9123, 9124, 9125, 9126, 9127, 9128, 9129, 9130, 9131, 9132, 9133, 9134, 9135, 9136, 9137, 9138, 9139, 9140, 9141, 9142, 9143, 9144, 9145, 9146, 9147, 9148, 9149, 9150, 9151, 9152, 9153, 9154, 9155, 9156, 9157, 9158, 9159, 9160, 9161, 9162, 9163, 9164, 9165, 9166, 9167, 9168, 9169, 9170, 9171, 9172, 9173, 9174, 9175, 9176, 9177, 9178, 9179, 9180, 9181, 9182, 9183, 9184, 9185, 9186, 9187, 9188, 9189, 9190, 9191, 9192, 9193, 9194, 9195, 9196, 9197, 9198, 9199, 9200, 9201, 9202, 9203, 9204, 9205, 9206, 9207, 9208, 9209, 9210, 9211, 9212, 9213, 9214, 9215, 9216, 9217, 9218, 9219, 9220, 9221, 9222, 9223, 9224, 9225, 9226, 9227, 9228, 9229, 9230, 9231, 9232, 9233, 9234, 9235, 9236, 9237, 9238, 9239, 9240, 9241, 9242, 9243, 9244, 9245, 9246, 9247, 9248, 9249, 9250, 9251, 9252, 9253, 9254, 9255, 9256, 9257, 9258, 9259, 9260, 9261, 9262, 9263, 9264, 9265, 9266, 9267, 9268, 9269, 9270, 9271, 9272, 9273, 9274, 9275, 9276, 9277, 9278, 9279, 9280, 9281, 9282, 9283, 9284, 9285, 9286, 9287, 9288, 9289, 9290, 9291, 9292, 9293, 9294, 9295, 9296, 9297, 9298, 9299, 9300, 9301, 9302, 9303, 9304, 9305, 9306, 9307, 9308, 9309, 9310, 9311, 9312, 9313, 9314, 9315, 9316, 9317, 9318, 9319, 9320, 9321, 9322, 9323, 9324, 9325, 9326, 9327, 9328, 9329, 9330, 9331, 9332, 9333, 9334, 9335, 9336, 9337, 9338, 9339, 9340, 9341, 9342, 9343, 9344, 9345, 9346, 9347, 9348, 9349, 9350, 9351, 9352, 9353, 9354, 9355, 9356, 9357, 9358, 9359, 9360, 9361, 9362, 9363, 9364, 9365, 9366, 9367, 9368, 9369, 9370, 9371, 9372, 9373, 9374, 9375, 9376, 9377, 9378, 9379, 9380, 9381, 9382, 9383, 9384, 9385, 9386, 9387, 9388, 9389, 9390, 9391, 9392, 9393, 9394, 9395, 9396, 9397, 9398, 9399, 9400, 9401, 9402, 9403, 9404, 9405, 9406, 9407, 9408, 9409, 9410, 9411, 9412, 9413, 9414, 9415, 9416, 9417, 9418, 9419, 9420, 9421, 9422, 9423, 9424, 9425, 9426, 9427, 9428, 9429, 9430, 9431, 9432, 9433, 9434, 9435, 9436, 9437, 9438, 9439, 9440, 9441, 9442, 9443, 9444, 9445, 9446, 9447, 9448, 9449, 9450, 9451, 9452, 9453, 9454, 9455, 9456, 9457, 9458, 9459, 9460, 9461, 9462, 9463, 9464, 9465, 9466, 9467, 9468, 9469, 9470, 9471, 9472, 9473, 9474, 9475, 9476, 9477, 9478, 9479, 9480, 9481, 9482, 9483, 9484, 9485, 9486, 9487, 9488, 9489, 9490, 9491, 9492, 9493, 9494, 9495, 9496, 9497, 9498, 9499, 9500, 9501, 9502, 9503, 9504, 9505, 9506, 9507, 9508, 9509, 9510, 9511, 9512, 9513, 9514, 9515, 9516, 9517, 9518, 9519, 9520, 9521, 9522, 9523, 9524, 9525, 9526, 9527, 9528, 9529, 9530, 9531, 9532, 9533, 9534, 9535, 9536, 9537, 9538, 9539, 9540, 9541, 9542, 9543, 9544, 9545, 9546, 9547, 9548, 9549, 9550, 9551, 9552, 9553, 9554, 9555, 9556, 9557, 9558, 9559, 9560, 9561, 9562, 9563, 9564, 9565, 9566, 9567, 9568, 9569, 9570, 9571, 9572, 9573, 9574, 9575, 9576, 9577, 9578, 9579, 9580, 9581, 9582, 9583, 9584, 9585, 9586, 9587, 9588, 9589, 9590, 9591, 9592, 9593, 9594, 9595, 9596, 9597, 9598, 9599, 9600, 9601, 9602, 9603, 9604, 9605, 9606, 9607, 9608, 9609, 9610, 9611, 9612, 9613, 9614, 9615, 9616, 9617, 9618, 9619, 9620, 9621, 9622, 9623, 9624, 9625, 9626, 9627, 9628, 9629, 9630, 9631, 9632, 9633, 9634, 9635, 9636, 9637, 9638, 9639, 9640, 9641, 9642, 9643, 9644, 9645, 9646, 9647, 9648, 9649, 9650, 9651, 9652, 9653, 9654, 9655, 9656, 9657, 9658, 9659, 9660, 9661, 9662, 9663, 9664, 9665, 9666, 9667, 9668, 9669, 9670, 9671, 9672, 9673, 9674, 9675, 9676, 9677, 9678, 9679, 9680, 9681, 9682, 9683, 9684, 9685, 9686, 9687, 9688, 9689, 9690, 9691, 9692, 9693, 9694, 9695, 9696, 9697, 9698, 9699, 9700, 9701, 9702, 9703, 9704, 9705, 9706, 9707, 9708, 9709, 9710, 9711, 9712, 9713, 9714, 9715, 9716, 9717, 9718, 9719, 9720, 9721, 9722, 9723, 9724, 9725, 9726, 9727, 9728, 9729, 9730, 9731, 9732, 9733, 9734, 9735, 9736, 9737, 9738, 9739, 9740, 9741, 9742, 9743, 9744, 9745, 9746, 9747, 9748, 9749, 9750, 9751, 9752, 9753, 9754, 9755, 9756, 9757, 9758, 9759, 9760, 9761, 9762, 9763, 9764, 9765, 9766, 9767, 9768, 9769, 9770, 9771, 9772, 9773, 9774, 9775, 9776, 9777, 9778, 9779, 9780, 9781, 9782, 9783, 9784, 9785, 9786, 9787, 9788, 9789, 9790, 9791, 9792, 9793, 9794, 9795, 9796, 9797, 9798, 9799, 9800, 9801, 9802, 9803, 9804, 9805, 9806, 9807, 9808, 9809, 9810, 9811, 9812, 9813, 9814, 9815, 9816, 9817, 9818, 9819, 9820, 9821, 9822, 9823, 9824, 9825, 9826, 9827, 9828, 9829, 9830, 9831, 9832, 9833, 9834, 9835, 9836, 9837, 9838, 9839, 9840, 9841, 9842, 9843, 9844, 9845, 9846, 9847, 9848, 9849, 9850, 9851, 9852, 9853, 9854, 9855, 9856, 9857, 9858, 9859, 9860, 9861, 9862, 9863, 9864, 9865, 9866, 9867, 9868, 9869, 9870, 9871, 9872, 9873, 9874, 9875, 9876, 9877, 9878, 9879, 9880, 9881, 9882, 9883, 9884, 9885, 9886, 9887, 9888, 9889, 9890, 9891, 9892, 9893, 9894, 9895, 9896, 9897, 9898, 9899, 9900, 9901, 9902, 9903, 9904, 9905, 9906, 9907, 9908, 9909, 9910, 9911, 9912, 9913, 9914, 9915, 9916, 9917, 9918, 9919, 9920, 9921, 9922, 9923, 9924, 9925, 9926, 9927, 9928, 9929, 9930, 9931, 9932, 9933, 9934, 9935, 9936, 9937, 9938, 9939, 9940, 9941, 9942, 9943, 9944, 9945, 9946, 9947, 9948, 9949, 9950, 9951, 9952, 9953, 9954, 9955, 9956, 9957, 9958, 9959, 9960, 9961, 9962, 9963, 9964, 9965, 9966, 9967, 9968, 9969, 9970, 9971, 9972, 9973, 9974, 9975, 9976, 9977, 9978, 9979, 9980, 9981, 9982, 9983, 9984, 9985, 9986, 9987, 9988, 9989, 9990, 9991, 9992, 9993, 9994, 9995, 9996, 9997, 9998, 9999]\n"
     ]
    },
    {
     "name": "stderr",
     "output_type": "stream",
     "text": [
      "\n"
     ]
    }
   ],
   "source": [
    "sa_first10_report_data = []\n",
    "sa_first10_report_indices = []\n",
    "sa_first10_report_failed = []\n",
    "for new in tqdm(data.find({\"index\": {\"$gte\": F10_TEXT_SA_IND_LAST, \"$lt\": F10_TEXT_SA_N_SAMPLES_MAX}}), total=F10_TEXT_SA_N_SAMPLES_MAX-F10_TEXT_SA_IND_LAST):\n",
    "    try:\n",
    "        report = sa_report(new)\n",
    "        sa_first10_report_data.append(report)\n",
    "        sa_first10_report_indices.append(new[\"index\"])\n",
    "    except:\n",
    "        sa_first10_report_failed.append(new[\"index\"])\n",
    "print(\"News failed: {}\".format(sa_first10_report_failed))\n",
    "print(\"News reported: {}\".format(sa_first10_report_indices))"
   ]
  },
  {
   "cell_type": "code",
   "execution_count": 32,
   "metadata": {},
   "outputs": [
    {
     "data": {
      "text/plain": [
       "<pymongo.results.InsertManyResult at 0x7f57474bdb40>"
      ]
     },
     "execution_count": 32,
     "metadata": {},
     "output_type": "execute_result"
    }
   ],
   "source": [
    "sa_first10.insert_many(sa_first10_report_data)"
   ]
  },
  {
   "cell_type": "code",
   "execution_count": 33,
   "metadata": {},
   "outputs": [
    {
     "data": {
      "text/plain": [
       "9999"
      ]
     },
     "execution_count": 33,
     "metadata": {},
     "output_type": "execute_result"
    }
   ],
   "source": [
    "sa_first10_report_indices[-1]"
   ]
  },
  {
   "attachments": {},
   "cell_type": "markdown",
   "metadata": {},
   "source": [
    "## Report\n",
    "\n",
    "Сентимент-анализ проводился по заголовку, краткому описанию (где оно было), а также по самой статье, разбитым на предложения, и первым 10 её предложениям. "
   ]
  },
  {
   "cell_type": "code",
   "execution_count": 1,
   "metadata": {},
   "outputs": [],
   "source": [
    "from collections import OrderedDict\n",
    "import pandas as pd\n",
    "import numpy as np\n",
    "import pymongo\n",
    "from pprint import pprint\n",
    "from nltk.tokenize import sent_tokenize"
   ]
  },
  {
   "cell_type": "code",
   "execution_count": 2,
   "metadata": {},
   "outputs": [],
   "source": [
    "client = pymongo.MongoClient('localhost', 27017)\n",
    "db = client[\"news\"]\n",
    "\n",
    "data = db[\"data\"]\n",
    "sa_report = {\n",
    "    \"full\": db[\"sa_full\"],\n",
    "    \"first10\": db[\"sa_first10\"]\n",
    "}"
   ]
  },
  {
   "cell_type": "code",
   "execution_count": 3,
   "metadata": {},
   "outputs": [],
   "source": [
    "sa_indices = {\n",
    "    \"full\": sorted([sa[\"index\"] for sa in sa_report[\"full\"].find()]),\n",
    "    \"first10\": sorted([sa[\"index\"] for sa in sa_report[\"first10\"].find()])\n",
    "}"
   ]
  },
  {
   "cell_type": "code",
   "execution_count": 4,
   "metadata": {},
   "outputs": [],
   "source": [
    "def report(index: int, kind=\"full\"):\n",
    "    sa = sa_report[kind].find_one({\"index\": index})\n",
    "    if sa == None:\n",
    "        raise Exception(f\"No sentiment analysis for {index} of kind {kind}\")\n",
    "    new = data.find_one({\"index\": index})\n",
    "\n",
    "    result = OrderedDict({\n",
    "        \"index\": index,\n",
    "        \"category\": new[\"category\"],\n",
    "        \"title\": OrderedDict({\n",
    "            \"text\": new[\"title\"],\n",
    "            \"sentiment\": sa[\"report\"][\"title_sentiment\"],\n",
    "            \"details\": sa[\"details\"][\"title\"]\n",
    "        })\n",
    "    })\n",
    "\n",
    "    if not isinstance(new[\"description\"], float):\n",
    "        result[\"description\"] = OrderedDict({\n",
    "            \"sentiment\": sa[\"report\"][\"description_sentiment\"],\n",
    "            \"text\": new[\"description\"],\n",
    "            \"details\": sa[\"details\"][\"description\"]\n",
    "        })\n",
    "\n",
    "    if kind == \"full\":\n",
    "        result[\"content\"] = OrderedDict({\n",
    "            \"sentiment\": {\n",
    "                \"full\": sa[\"report\"][\"content_sentiment_full\"],\n",
    "                \"first10\": sa[\"report\"][\"content_sentiment_f10\"]\n",
    "            },\n",
    "            \"most_positive_sentense\": sa[\"report\"][\"most_positive_sentense\"],\n",
    "            \"most_negative_sentense\": sa[\"report\"][\"most_negative_sentense\"],\n",
    "            \"text\": new[\"content\"],\n",
    "        })\n",
    "    elif kind == \"first10\":\n",
    "        result[\"content\"] = OrderedDict({\n",
    "            \"sentiment\": sa[\"report\"][\"content_sentiment\"],\n",
    "            \"text\": new[\"content\"],\n",
    "        })\n",
    "    \n",
    "    return result"
   ]
  },
  {
   "cell_type": "code",
   "execution_count": 5,
   "metadata": {},
   "outputs": [
    {
     "name": "stdout",
     "output_type": "stream",
     "text": [
      "OrderedDict([('index', 11401),\n",
      "             ('category', 'politics'),\n",
      "             ('title',\n",
      "              OrderedDict([('text',\n",
      "                            'Trump announces new intel chief pick; No. 2 '\n",
      "                            'intelligence official is leaving administration - '\n",
      "                            'CNNPolitics'),\n",
      "                           ('sentiment', 'neutral'),\n",
      "                           ('details',\n",
      "                            {'negative': 0.07668529450893402,\n",
      "                             'neutral': 0.8802786469459534,\n",
      "                             'positive': 0.043035950511693954})])),\n",
      "             ('description',\n",
      "              OrderedDict([('sentiment', {'neutral': 1}),\n",
      "                           ('text',\n",
      "                            'President Donald Trump announced Thursday night '\n",
      "                            'that Joseph Maguire, the leader of the National '\n",
      "                            'Counterterrorism Center, is his new pick to be '\n",
      "                            'the acting director of national intelligence.'),\n",
      "                           ('details',\n",
      "                            [{'negative': 0.008314725011587143,\n",
      "                              'neutral': 0.8794234395027161,\n",
      "                              'positive': 0.11226169764995575}])])),\n",
      "             ('content',\n",
      "              OrderedDict([('sentiment',\n",
      "                            {'first10': {'neutral': 5, 'positive': 5},\n",
      "                             'full': {'negative': 12,\n",
      "                                      'neutral': 30,\n",
      "                                      'positive': 16}}),\n",
      "                           ('most_positive_sentense',\n",
      "                            {'positive score': 0.9843932390213013,\n",
      "                             'sentence_number': 55}),\n",
      "                           ('most_negative_sentense',\n",
      "                            {'negative score': 0.8460387587547302,\n",
      "                             'sentence_number': 26}),\n",
      "                           ('text',\n",
      "                            '(CNN)President Donald Trump announced Thursday '\n",
      "                            'night that Joseph Maguire, the leader of the '\n",
      "                            'National Counterterrorism Center, is his new pick '\n",
      "                            'to be the acting director of national '\n",
      "                            'intelligence.\"I am pleased to inform you that the '\n",
      "                            'Honorable Joseph Maguire, current Director of the '\n",
      "                            'National Counterterrorism Center, will be named '\n",
      "                            'Acting Director of National Intelligence, '\n",
      "                            'effective August 15th,\" Trump tweeted.The '\n",
      "                            'announcement came not long after Trump tweeted '\n",
      "                            \"that Sue Gordon, the country's number two \"\n",
      "                            'intelligence official and an intelligence veteran '\n",
      "                            'of more than 30 years, would resign. White House '\n",
      "                            'officials had been signaling such a move for '\n",
      "                            'days, saying Trump would prefer to have a '\n",
      "                            'political loyalist in the role.Under normal '\n",
      "                            'protocol, Gordon would have become acting '\n",
      "                            'director after outgoing Director of National '\n",
      "                            'Intelligence Dan Coats resigned. But '\n",
      "                            'administration officials told CNN that the White '\n",
      "                            'House was reviewing whether it could legally '\n",
      "                            'choose an acting director outside the line of '\n",
      "                            'succession. And two sources told CNN that Gordon '\n",
      "                            'was not viewed by some in the administration as '\n",
      "                            'the type of political loyalist Trump wanted in '\n",
      "                            'the role. Maguire will take over for Coats, whose '\n",
      "                            'last day with the administration is on August '\n",
      "                            '15.Read MoreIn a statement Thursday, Coats '\n",
      "                            'praised both Gordon and Maguire.\"It has been a '\n",
      "                            'privilege serving with Sue Gordon to lead the '\n",
      "                            'ODNI and the Intelligence Community over these '\n",
      "                            'past two years. She is a visionary leader who has '\n",
      "                            'made an enormous impact on the IC over the more '\n",
      "                            'than three decades she has served,\" Coats said.\"I '\n",
      "                            'have had the pleasure of working with NCTC '\n",
      "                            'Director Joseph Maguire as part of my leadership '\n",
      "                            'team at ODNI, and I am pleased that the President '\n",
      "                            'has announced that Joe will serve as Acting DNI. '\n",
      "                            'Joe has had a long, distinguished career serving '\n",
      "                            'the nation and will lead the men and women in the '\n",
      "                            'IC with distinction.\"Gordon\\'s abrupt departure, '\n",
      "                            \"with only one week's notice, and Trump's \"\n",
      "                            'longstanding hostility toward the intelligence '\n",
      "                            'community -- which he has publicly derided, '\n",
      "                            'likened to Nazis and disagreed with -- is likely '\n",
      "                            'to heighten concerns that the President may be '\n",
      "                            'trying to politicize agencies that are meant to '\n",
      "                            'stand apart from partisanship or '\n",
      "                            'politicking.House Intelligence Committee Chairman '\n",
      "                            'Adam Schiff, a California Democrat, said the '\n",
      "                            'retirements of Coats and Gordon \"represent a '\n",
      "                            'devastating loss to the Intelligence Community '\n",
      "                            'and the men and women who serve in it.\" \"These '\n",
      "                            'losses of leadership, coupled with a President '\n",
      "                            'determined to weed out anyone who may dare '\n",
      "                            'disagree, represent one of the most challenging '\n",
      "                            'moments for the Intelligence Community,\" Schiff '\n",
      "                            'said in a statement. \"It will be up to the '\n",
      "                            'Congress to ensure that the Intelligence '\n",
      "                            'Community continues to provide independent '\n",
      "                            'analysis and judgement to policy makers, and '\n",
      "                            'always speak truth to power.\"Intelligence '\n",
      "                            'professionals emphasize the need to keep politics '\n",
      "                            'out of their work in order to offer policy makers '\n",
      "                            'the clearest assessment they can of threats and '\n",
      "                            'opportunities. The next leaders of the '\n",
      "                            'intelligence community will deal with a '\n",
      "                            'particularly thorny and dangerous set of '\n",
      "                            'challenges, as Trump has escalated tensions with '\n",
      "                            'Iran, his trade war with China intensifies, he is '\n",
      "                            \"considering a third summit with North Korea's Kim \"\n",
      "                            'Jong Un, who continues to test missiles, and the '\n",
      "                            \"US-backed movement to oust Venezuela's leaders is \"\n",
      "                            \"faltering.Gordon's resignation letter seemed to \"\n",
      "                            \"indicate that retirement hadn't been her choice, \"\n",
      "                            'and that Trump had asked her to step down. \"As '\n",
      "                            'you ask a new leadership team to take the helm, I '\n",
      "                            'will resign my position effective 15 August '\n",
      "                            '2019,\" Gordon wrote. \"Know that our people are '\n",
      "                            'our strength, and they will never fail you or the '\n",
      "                            'Nation.\"Later, the White House released a '\n",
      "                            'handwritten note from Gordon that made it clear '\n",
      "                            'she was not leaving of her own accord.\"I offer '\n",
      "                            'this letter as an act of respect & patriotism, '\n",
      "                            'not preference. You should have your team,\" she '\n",
      "                            'wrote in the note to Trump.Trump has made clear '\n",
      "                            'his desire to bring to heel US intelligence '\n",
      "                            'agencies, which have produced evidence he '\n",
      "                            \"disagrees with on Iran, North Korea, Russia's \"\n",
      "                            'interference in US elections and other issues. '\n",
      "                            'When discussing his attempt to replace Coats with '\n",
      "                            'Texas Republican Rep. John Ratcliffe on July 30, '\n",
      "                            'the President told reporters that intelligence '\n",
      "                            'community needed \"somebody like that that\\'s '\n",
      "                            \"strong and can really rein it in. As you've all \"\n",
      "                            'learned, the intelligence agencies have run amok. '\n",
      "                            'They\\'ve run amok.\"And it was clear members of '\n",
      "                            \"the President's inner circle saw the acting \"\n",
      "                            'director position in political terms as well. '\n",
      "                            'Donald Trump Jr. tweeted about Gordon on August '\n",
      "                            '2, referring to former CIA Director and Trump '\n",
      "                            'critic John Brennan, and saying that \"if Adam '\n",
      "                            'Schiff wants her in there, the rumors about her '\n",
      "                            'being besties with Brennan and the rest of the '\n",
      "                            'clown cadre must be 100% true.\"CNN legal analyst '\n",
      "                            'and law professor Stephen Vladeck noted on '\n",
      "                            'Twitter, that Gordon\\'s resignation cleared \"the '\n",
      "                            'way for @realDonaldTrump to name as Acting DNI '\n",
      "                            '_any_ current Senate-confirmed Executive Branch '\n",
      "                            'officer, or a range of other senior officials '\n",
      "                            'currently serving in the Office of the Director '\n",
      "                            'of National Intelligence.\"Former CIA and National '\n",
      "                            'Security Agency Director Michael Hayden told CNN '\n",
      "                            'that it\\'s \"awful\" that Gordon resigned.\"She is a '\n",
      "                            'professional. CIA. (National '\n",
      "                            'Geospace-Intelligence Agency),\" Hayden said. \"She '\n",
      "                            'rose through the ranks at CIA to become deputy '\n",
      "                            'director of support, which is the largest '\n",
      "                            'directorate. Coats is a good man but she kept the '\n",
      "                            \"trains running on time. Trump doesn't understand \"\n",
      "                            'what it is to be a professional intelligence '\n",
      "                            'officer.\"Leaders in both parties had expressed '\n",
      "                            'confidence in Gordon, with many advocating for '\n",
      "                            'her to get the top job. Her departure is likely '\n",
      "                            'to unsettle lawmakers eager for stability in the '\n",
      "                            \"aftermath of Coats' resignation and the fallout \"\n",
      "                            \"after Trump's chosen successor, Ratcliffe, fell \"\n",
      "                            'by the wayside after scathing criticism.\"Sue '\n",
      "                            \"Gordon's retirement is a significant loss for our \"\n",
      "                            'Intelligence Community,\" said Sen. Richard Burr, '\n",
      "                            'the North Carolina Republican who chairs the '\n",
      "                            'Senate Intelligence Committee. \"In more than '\n",
      "                            'three decades of public service, Sue earned the '\n",
      "                            'respect and admiration of her colleagues with her '\n",
      "                            'patriotism and vision. She has been a stalwart '\n",
      "                            'partner to the Senate Intelligence Committee, and '\n",
      "                            'I will miss her candor and deep knowledge of the '\n",
      "                            'issues. I look forward to seeing what new '\n",
      "                            'challenges she will tackle next.\"Burr had said '\n",
      "                            'earlier that he\\'d be \"shocked\" if Gordon '\n",
      "                            'weren\\'t selected as acting director.\"The White '\n",
      "                            \"House certainly has that ability, but she's more \"\n",
      "                            'than capable of handling that job,\" he said. \"I '\n",
      "                            \"would be shocked, because that's what principal \"\n",
      "                            'deputies are in place for.\"Sen. Mark Warner, the '\n",
      "                            'vice chair of the Senate intelligence committee, '\n",
      "                            'called Gordon \"a patriot and a consummate '\n",
      "                            'professional.\" He said, \"her retirement is a '\n",
      "                            'great loss not only to the intelligence '\n",
      "                            'community, but to the country.\" And he took aim '\n",
      "                            'at Trump.\"President Trump has repeatedly '\n",
      "                            'demonstrated that he is seemingly incapable of '\n",
      "                            'hearing facts that contradict his own views,\" '\n",
      "                            'Warner said in a statement. \"The mission of the '\n",
      "                            'intelligence community is to speak truth to '\n",
      "                            'power; Yet in pushing out two dedicated public '\n",
      "                            'servants in as many weeks, once again the '\n",
      "                            'President has shown that he has no problem '\n",
      "                            'prioritizing his political ego even if it comes '\n",
      "                            'at the expense of our national security.\"Trump '\n",
      "                            \"acknowledged Gordon's career in his Thursday \"\n",
      "                            'tweet. \"Sue Gordon is a great professional with a '\n",
      "                            'long and distinguished career,\" Trump wrote. \"I '\n",
      "                            'have gotten to know Sue over the past 2 years and '\n",
      "                            'have developed great respect for her. Sue has '\n",
      "                            'announced she will be leaving on August 15, which '\n",
      "                            'coincides with the retirement of Dan Coats. A new '\n",
      "                            'Acting Director of National Intelligence will be '\n",
      "                            'named shortly.\"Trump tweeted that Maguire, who '\n",
      "                            'will take her place, \"has a long and '\n",
      "                            'distinguished career in the military, retiring '\n",
      "                            'from the U.S. Navy in 2010. He commanded at every '\n",
      "                            'level, including the Naval Special Warfare '\n",
      "                            'Command. He has also served as a National '\n",
      "                            'Security Fellow at Harvard University. I have no '\n",
      "                            'doubt he will do a great job!\"Trump\\'s apparent '\n",
      "                            'distrust of the intelligence community can be '\n",
      "                            'traced back to the 2016 presidential campaign '\n",
      "                            \"when he first cast doubt on Russia's efforts to \"\n",
      "                            'interfere in US elections despite stark warnings '\n",
      "                            'from top national security officials.Since taking '\n",
      "                            'office, Trump has repeatedly clashed with '\n",
      "                            'intelligence officials, including Coats, over '\n",
      "                            'their public comments acknowledging Russia not '\n",
      "                            'only interfered in 2016, but also poses a threat '\n",
      "                            'to future elections -- an assessment that was '\n",
      "                            \"reaffirmed by special counsel Robert Mueller's \"\n",
      "                            'investigation, which the President has '\n",
      "                            'characterized as a \"political witch hunt.\"Trump '\n",
      "                            'has publicly disagreed with his own intelligence '\n",
      "                            'officials on a myriad of other issues including '\n",
      "                            \"North Korea's nuclear ambitions, the threat posed \"\n",
      "                            'by the Islamic State, the situation in '\n",
      "                            'Afghanistan, whether the Saudi crown prince '\n",
      "                            'ordered the murder of journalist Jamal Khashoggi, '\n",
      "                            'and whether Iran was in violation of the 2015 '\n",
      "                            'nuclear deal signed by President Obama.This story '\n",
      "                            \"has been updated.CNN's Jake Tapper, Jeremy Herb, \"\n",
      "                            'Manu Raju, Zach Cohen and Kaitlan Collins '\n",
      "                            'contributed to this report.')]))])\n"
     ]
    }
   ],
   "source": [
    "pprint(report(11401))"
   ]
  },
  {
   "cell_type": "code",
   "execution_count": null,
   "metadata": {},
   "outputs": [],
   "source": []
  }
 ],
 "metadata": {
  "kernelspec": {
   "display_name": "nlp",
   "language": "python",
   "name": "python3"
  },
  "language_info": {
   "codemirror_mode": {
    "name": "ipython",
    "version": 3
   },
   "file_extension": ".py",
   "mimetype": "text/x-python",
   "name": "python",
   "nbconvert_exporter": "python",
   "pygments_lexer": "ipython3",
   "version": "3.8.16"
  },
  "orig_nbformat": 4,
  "vscode": {
   "interpreter": {
    "hash": "8a7075bf2fd7d9443f5927cbe305d16adc40409c6450453d3f2d63137175e6ea"
   }
  }
 },
 "nbformat": 4,
 "nbformat_minor": 2
}
