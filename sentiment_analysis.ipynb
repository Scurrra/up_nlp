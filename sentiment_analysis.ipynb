{
 "cells": [
  {
   "attachments": {},
   "cell_type": "markdown",
   "metadata": {},
   "source": [
    "# Sentiment Analysis\n",
    "\n",
    "Для сентимент-анализа новостей предлагается использовать [TimeLMs](https://huggingface.co/cardiffnlp/twitter-roberta-base-sentiment-latest). Эта модель представляет собой RoBERTa, тюнингованную на датасете твитов (124M твитов с января 2018 по декабрь 2021, возможно позже). Благодаря тому, что RoBERTa была обучена на датасетах за большой период времени, содержащих тексты разных стилей. Тюнинг на твитах даёт обновление модели, параллельно давая некоторую временную деградацию, что не должно повлиять на задачу сентимент-анализа."
   ]
  },
  {
   "attachments": {},
   "cell_type": "markdown",
   "metadata": {},
   "source": [
    "## Data"
   ]
  },
  {
   "cell_type": "code",
   "execution_count": 1,
   "metadata": {},
   "outputs": [],
   "source": [
    "import pandas as pd\n",
    "import numpy as np\n",
    "import pymongo\n",
    "from pprint import pprint"
   ]
  },
  {
   "cell_type": "code",
   "execution_count": 2,
   "metadata": {},
   "outputs": [],
   "source": [
    "client = pymongo.MongoClient('localhost', 27017)\n",
    "db = client[\"news\"]\n",
    "data = db[\"data\"]"
   ]
  },
  {
   "attachments": {},
   "cell_type": "markdown",
   "metadata": {},
   "source": [
    "## Model"
   ]
  },
  {
   "cell_type": "code",
   "execution_count": 3,
   "metadata": {},
   "outputs": [
    {
     "name": "stderr",
     "output_type": "stream",
     "text": [
      "/home/scurrra/Programs/Anaconda/envs/nlp/lib/python3.8/site-packages/tqdm/auto.py:22: TqdmWarning: IProgress not found. Please update jupyter and ipywidgets. See https://ipywidgets.readthedocs.io/en/stable/user_install.html\n",
      "  from .autonotebook import tqdm as notebook_tqdm\n"
     ]
    }
   ],
   "source": [
    "from nltk.tokenize import sent_tokenize\n",
    "\n",
    "from transformers import AutoModelForSequenceClassification\n",
    "from transformers import TFAutoModelForSequenceClassification\n",
    "from transformers import AutoTokenizer, AutoConfig\n",
    "\n",
    "from scipy.special import softmax"
   ]
  },
  {
   "cell_type": "code",
   "execution_count": 4,
   "metadata": {},
   "outputs": [
    {
     "name": "stderr",
     "output_type": "stream",
     "text": [
      "Some weights of the model checkpoint at cardiffnlp/twitter-roberta-base-sentiment-latest were not used when initializing RobertaForSequenceClassification: ['roberta.pooler.dense.bias', 'roberta.pooler.dense.weight']\n",
      "- This IS expected if you are initializing RobertaForSequenceClassification from the checkpoint of a model trained on another task or with another architecture (e.g. initializing a BertForSequenceClassification model from a BertForPreTraining model).\n",
      "- This IS NOT expected if you are initializing RobertaForSequenceClassification from the checkpoint of a model that you expect to be exactly identical (initializing a BertForSequenceClassification model from a BertForSequenceClassification model).\n"
     ]
    }
   ],
   "source": [
    "MODEL = f\"cardiffnlp/twitter-roberta-base-sentiment-latest\"\n",
    "tokenizer = AutoTokenizer.from_pretrained(MODEL)\n",
    "config = AutoConfig.from_pretrained(MODEL)\n",
    "model = AutoModelForSequenceClassification.from_pretrained(MODEL)"
   ]
  },
  {
   "cell_type": "code",
   "execution_count": 5,
   "metadata": {},
   "outputs": [],
   "source": [
    "def se_eval(text : str):\n",
    "    encoded_input = tokenizer(text, return_tensors='pt')\n",
    "    output = model(**encoded_input)\n",
    "    return output[0][0]"
   ]
  },
  {
   "cell_type": "code",
   "execution_count": 6,
   "metadata": {},
   "outputs": [],
   "source": [
    "def se_score(output : list):\n",
    "    scores = output.detach().numpy()\n",
    "    scores = softmax(scores)\n",
    "\n",
    "    return {\n",
    "        config.id2label[i] : scores[i].item()\n",
    "        for i in range(3)\n",
    "    }"
   ]
  },
  {
   "cell_type": "markdown",
   "metadata": {},
   "source": [
    "### Test on one of the news"
   ]
  },
  {
   "cell_type": "code",
   "execution_count": 7,
   "metadata": {},
   "outputs": [
    {
     "data": {
      "text/plain": [
       "{'_id': ObjectId('63e51459fb0fef334ccf63b4'),\n",
       " 'index': 4712,\n",
       " 'source': 'CNN',\n",
       " 'date': datetime.datetime(2021, 7, 15, 0, 0),\n",
       " 'title': \"There's a shortage of truckers, but TuSimple thinks it has a solution: no driver needed - CNN\",\n",
       " 'category': 'news',\n",
       " 'description': 'The e-commerce boom has exacerbated a global truck driver shortage, but could autonomous trucks help fix the problem?',\n",
       " 'content': '(CNN)Right now, there\\'s a shortage of truck drivers in the US and worldwide, exacerbated by the e-commerce boom brought on by the pandemic. One solution to the problem is autonomous trucks, and several companies are in a race to be the first to launch one. Among them is San Diego-based TuSimple.Founded in 2015, TuSimple has completed about 2 million miles of road tests with its 70 prototype trucks across the US, China and Europe. Although these are simply commercially available trucks retrofitted with its technology, TuSimple has deals in place with two of the world\\'s largest truck manufacturers -- Navistar in the US and Traton, Volkswagen\\'s trucking business, in Europe -- to design and build fully autonomous models, which it hopes to launch by 2024. Photos: The Yara Birkeland is what its builders call the world\\'s first zero-emission, autonomous cargo ship. The ship is scheduled to make its first journey between two Norwegian towns before the end of the year. Click through to see more forms of transport set to transform the future.Hide Caption 1 of 13 Photos: Pictured here as a rendering, Oceanbird is a wind-powered transatlantic car carrier that cuts carbon emissions by 90%, compared to a standard car carrier.Hide Caption 2 of 13 Photos: It\\'s not just maritime ships that are going green. Cities around the world are adopting electric ferries. Norwegian startup Zeabuz hopes its self-driving electric ferry (pictured here as a rendering) will help revive urban waterways.Hide Caption 3 of 13 Photos: In China, a new Maglev high-speed train rolls off the production line in Qingdao, east China\\'s Shandong Province, on July 20. It has a top speed of 600 km per hour -- currently the fastest ground vehicle available globally. Hide Caption 4 of 13 Photos: Reaching speeds of up to 1,000 kilometers (620 miles) per hour, Hyperloop could be a sustainable replacement to short-haul flights. Dutch company Hardt (shown here as a rendering) started work on its Hyperloop test facility in Europe, anticipated to open in 2022.Hide Caption 5 of 13 Photos: Hyperloop is like a bullet train, without tracks and rails. Floating pods are propelled through a low-pressure steel tube using magnetic levitation. Virgin has been running tests with passengers on its XP-2 vehicle, pictured here.Hide Caption 6 of 13 Photos: Low carbon travel isn\\'t just about switching to sustainable fuel sources -- it\\'s also about redesigning the transport itself. A \"Flying-V\" plane designed by Delft\\'s University of Technology in the Netherlands and Dutch airline KLM can cut fuel consumption by 20%. Ultimately, researchers hope to switch out the kerosene with a sustainable fuel source, like liquid hydrogen.Hide Caption 7 of 13 Photos: Hydrogen aviation could provide a sustainable solution for short and medium-haul flights. In September, Airbus unveiled plans for three hydrogen-powered, zero-emission aircraft which can carry 100 to 200 passengers. It hopes to launch the first ZEROe aircraft in 2035.Hide Caption 8 of 13 Photos: In December 2019, Canadian airline Harbour Air flew the world\\'s first all-electric, zero-emission commercial aircraft. The six-seater seaplane was retrofitted with magniX\\'s magni500 all-electric motor. Harbour Air -- which carries half a million passengers annually -- hopes to become the world\\'s first all-electric airline. Hide Caption 9 of 13 Photos: In the case of electric bikes, the future is now: one retailer reported the sale of e-bikes and e-scooters had increased 230% this year. E-bikes give the user a boost to their pedaling, allowing them to go further with less effort. E-bikes are now even available on ride-share apps, like Uber.Hide Caption 10 of 13 Photos: While sleeper trains or buses might be the way most of us get some shut-eye on overnight travel, this rendering of a self-driving hotel suite from Toronto-based designer Steve Lee of Aprilli Design Studio might offer a plush alternative in the future.Hide Caption 11 of 13 Photos: In the UAE, these futuristic-looking pods are undergoing testing on a 400-meter line in Sharjah, which borders Dubai. Belarus-based uSky Transport says its pods can help cities solve traffic problems.Hide Caption 12 of 13 Photos: The Coradia iLint by French rail transport company Alstom is the world\\'s first hydrogen-powered passenger train. It began testing in Germany in 2018, and in September 2020 entered regular service in Austria.Hide Caption 13 of 13No sleepTuSimple\\'s latest road test involved hauling fresh produce 951 miles, from Nogales, Arizona to Oklahoma City. The pickup and the dropoff were handled by a human driver, but for the bulk of the route -- from Tucson to Dallas -- the truck drove itself. Read More\"Today, because the system is not fully ready, we have a safety driver and a safety engineer on board at all times when we\\'re testing, but we drove in full autonomy: the driver wasn\\'t touching the wheel,\" said Cheng Lu, TuSimple\\'s president and CEO. The journey was completed in 14 hours versus the usual 24 with a human driver, mostly because a truck doesn\\'t need to sleep. \"In the US, a driver can only work 11 hours a day. We simply had a handoff when our first pair of drivers had to stop because they reached their 11 hours of operation,\" said Lu. That, of course, negates the advantage of an autonomous system, so the idea is that once TuSimple\\'s trucks hit the market, there will be no need to have anyone onboard. Picking up the watermelons still required the human touch.Unlike self-driving cars, which are a still a way from being commercially available, TuSimple trucks won\\'t be required to operate in bustling city traffic, but only on stretches of highway that have been thoroughly mapped via the company\\'s own software. \"We collect data from the roads, and we create this very detailed, high definition map of each route. That adds another layer of safety for the vehicles,\" said Lu. As a result, TuSimple\\'s trucks will only be able to self-drive along these pre-mapped trade corridors, which Lu calls \"virtual railroads,\" and nowhere else. This swarm of robots gets smarter the more it worksAccording to the company, in the US 80% of goods travel through just 10% of the nation\\'s trade corridors, so even selective mapping allows for capturing a large portion of the business. TuSimple is currently mapping routes between Arizona and Texas, and plans to have mapped routes across the nation by 2024. Its plans are dependent on state legislation, however, because currently some states do not allow for testing of autonomous trucks on public roads. Happier drivers?The technology will add about $50,000 to the cost of a truck, making the final price roughly $200,000. According to Lu, that\\'s still cheaper than paying for a human driver. \"If you take $50,000 and divide it by 1 million miles, the average lifespan of a truck, that means you\\'re adding five cents per mile. But you\\'re saving the cost of a human driver, which based on average US wages is about $80,000 to $120,000 per year -- or 80 cents to $1.20 per mile. Today, the direct labor cost is about 50% of the cost of operating a truck,\" he said. Read: A robotic \\'Ironhand\\' could protect factory workers from injuriesThat doesn\\'t mean driverless trucks will take away jobs, according to Lu. By focusing on the \"middle mile,\" rather than on the pickup and delivery of the goods, TuSimple believes it can create new freight capacity without creating new demand for drivers, while at the same time protecting existing jobs. \"A UPS driver is dropping off 200 packages a day -- that\\'s not what autonomy is meant for. We believe that every driver will be able to retire as a driver, even if they enter the workforce today,\" said Lu. TuSimple\\'s autonomous fleet.Instead, TuSimple aims to take over the routes between terminals and distribution centers, which involve long stretches of monotonous driving. \"Take Phoenix to El Paso: that\\'s a six-hour drive. A person cannot make the round trip, because it\\'s more than 11 hours. But the truck can go back and forth all day, the most mundane job that drivers don\\'t want to do. That means you free up that human driver to do the first and the last mile (pickup and delivery).They get to work a full day, which is a more efficient use of their time, and they get to go home at night to their family,\" said Lu.No distractions Although Lu says that the reliability of both the software and the hardware still needs to be increased, TuSimple is planning its first fully autonomous tests, without a human safety driver in the cabin at all, before the end of the year. The results of such tests will indicate whether the company can meet its goal to launch its own trucks by 2024. Lu says that 7,000 have been reserved in the US alone. Photos: The robots running our warehouses Photos: The robots running our warehousesRobots are an increasingly familiar presence in warehouses. At the south-east London warehouse run by British online supermarket Ocado, 3,000 robots fulfill shopping orders. When an order is sent to the warehouse, the bots spring to life and head towards the container they require. Scroll through to see more robots that are revolutionizing warehouses.Hide Caption 1 of 8 Photos: The robots running our warehousesIn response to the coronavirus pandemic, MIT collaborated with Ava Robotics and the Greater Boston Food Bank to design a robot that can use UV light to sanitize the floor of a 4,000-square foot warehouse in just 30 minutes. Hide Caption 2 of 8 Photos: The robots running our warehousesSeven-foot \"Model-T\" robots produced by Japanese startup Telexistence have been stacking shelves in two of Tokyo\\'s largest convenience store franchises. Featuring cameras, microphones and sensors, the Model-T uses three \"fingers\" to stock items such as bottled drinks, cans and rice bowls. The robot is controlled by shop staff remotely.Hide Caption 3 of 8 Photos: The robots running our warehousesUS company Boston Dynamics has become known for its advanced work robots. \"Handle\" is made for the warehouse and equipped with an on-board vision system. It can lift boxes weighing over 30 pounds. Hide Caption 4 of 8 Photos: The robots running our warehousesStretch is the latest robot from Boston Dynamics and can work in warehouses and distribution centers. Designed to keep human workers out of harm\\'s way, Stretch\\'s tentacle-like grippers mean it can manipulate boxes. Hide Caption 5 of 8 Photos: The robots running our warehousesAlthough not specifically designed for warehouses, Boston Dynamics\\' dog-like robot \"Spot\" can lift objects, pick itself up after a fall, open and walk through doors, and even remind people to practice social distancing. Hide Caption 6 of 8 Photos: The robots running our warehousesThis robot is used to plant seeds and check plants at the \"Nordic Harvest\" vertical farm  based in Taastrup, Denmark. The indoor farm is one of the biggest in Europe.Hide Caption 7 of 8 Photos: The robots running our warehousesRobots sort packages at a warehouse run by JD.com -- one of China\\'s largest e-commerce firms, in Wuhan, China, ahead of the annual Singles Day online shopping bonanza, in 2019.Hide Caption 8 of 8 TuSimple has prominent competitors, such as Google spinoff Waymo and Uber-backed Aurora, but those are working on a wider range of self-driving vehicles, including passenger cars. TuSimple is working exclusively on driverless trucks, like US companies Plus and Embark. Grayson Brulte, an autonomy expert at consulting firm Brulte & Co., believes TuSimple is on the right track. \"The biggest competitive advantage that TuSimple has over its competitors is that their technology was purpose-built for trucking. They\\'re not trying to port an autonomy system built for passenger vehicles in dense urban environments to trucking or to build a virtual driver which can both drive passenger vehicles and class-8 trucks. These are different skills and different systems altogether,\" he said. Removing the human element on long trucking routes has other benefits. The company says its trucks react 15 times faster than human drivers, and can see farther down the road, even at night. \"In the US every year there are about 5,000 fatalities involving trucks, and most are due to human error,\" said Lu. \"The truck doesn\\'t get tired, doesn\\'t watch a movie or look at a phone. It doesn\\'t get distracted.\"'}"
      ]
     },
     "execution_count": 7,
     "metadata": {},
     "output_type": "execute_result"
    }
   ],
   "source": [
    "# new that has description (4712)\n",
    "new_test = data.find_one({\"index\": 4712})\n",
    "new_test"
   ]
  },
  {
   "cell_type": "markdown",
   "metadata": {},
   "source": [
    "#### Title"
   ]
  },
  {
   "cell_type": "code",
   "execution_count": 7,
   "metadata": {},
   "outputs": [],
   "source": [
    "def sa_title(title: str):\n",
    "    return se_score(se_eval(title))"
   ]
  },
  {
   "cell_type": "code",
   "execution_count": 9,
   "metadata": {},
   "outputs": [
    {
     "data": {
      "text/plain": [
       "\"There's a shortage of truckers, but TuSimple thinks it has a solution: no driver needed - CNN\""
      ]
     },
     "execution_count": 9,
     "metadata": {},
     "output_type": "execute_result"
    }
   ],
   "source": [
    "new_test[\"title\"]"
   ]
  },
  {
   "cell_type": "code",
   "execution_count": 10,
   "metadata": {},
   "outputs": [
    {
     "data": {
      "text/plain": [
       "{'negative': 0.2651931047439575,\n",
       " 'neutral': 0.6773514747619629,\n",
       " 'positive': 0.057455483824014664}"
      ]
     },
     "execution_count": 10,
     "metadata": {},
     "output_type": "execute_result"
    }
   ],
   "source": [
    "sa_title(new_test[\"title\"])"
   ]
  },
  {
   "attachments": {},
   "cell_type": "markdown",
   "metadata": {},
   "source": [
    "#### Description"
   ]
  },
  {
   "cell_type": "code",
   "execution_count": 8,
   "metadata": {},
   "outputs": [],
   "source": [
    "def sa_description(desc):\n",
    "    if isinstance(desc, str):\n",
    "        desc = sent_tokenize(desc)\n",
    "        \n",
    "        return [\n",
    "            se_score(se_eval(sent))\n",
    "            for sent in desc\n",
    "        ]\n",
    "    else: # np.NaN\n",
    "        return [{\n",
    "            config.id2label[i] : np.nan\n",
    "            for i in range(3)\n",
    "        }]"
   ]
  },
  {
   "cell_type": "code",
   "execution_count": 12,
   "metadata": {},
   "outputs": [
    {
     "data": {
      "text/plain": [
       "'The e-commerce boom has exacerbated a global truck driver shortage, but could autonomous trucks help fix the problem?'"
      ]
     },
     "execution_count": 12,
     "metadata": {},
     "output_type": "execute_result"
    }
   ],
   "source": [
    "new_test[\"description\"]"
   ]
  },
  {
   "cell_type": "code",
   "execution_count": 13,
   "metadata": {},
   "outputs": [
    {
     "data": {
      "text/plain": [
       "[{'negative': 0.30483901500701904,\n",
       "  'neutral': 0.6038489937782288,\n",
       "  'positive': 0.09131209552288055}]"
      ]
     },
     "execution_count": 13,
     "metadata": {},
     "output_type": "execute_result"
    }
   ],
   "source": [
    "sa_description(new_test[\"description\"])"
   ]
  },
  {
   "attachments": {},
   "cell_type": "markdown",
   "metadata": {},
   "source": [
    "#### Content"
   ]
  },
  {
   "cell_type": "code",
   "execution_count": 9,
   "metadata": {},
   "outputs": [],
   "source": [
    "def sa_content_full(content: str):\n",
    "    content = sent_tokenize(content)\n",
    "\n",
    "    return [\n",
    "        se_score(se_eval(sent))\n",
    "        for sent in content\n",
    "    ]"
   ]
  },
  {
   "cell_type": "code",
   "execution_count": 10,
   "metadata": {},
   "outputs": [],
   "source": [
    "def sa_content(content: str):\n",
    "    content = sent_tokenize(content)[:10]\n",
    "\n",
    "    return [\n",
    "        se_score(se_eval(sent))\n",
    "        for sent in content\n",
    "    ]"
   ]
  },
  {
   "cell_type": "code",
   "execution_count": 16,
   "metadata": {},
   "outputs": [],
   "source": [
    "new_test[\"content\"];"
   ]
  },
  {
   "cell_type": "code",
   "execution_count": 17,
   "metadata": {},
   "outputs": [],
   "source": [
    "sa_c = sa_content_full(new_test[\"content\"])"
   ]
  },
  {
   "cell_type": "markdown",
   "metadata": {},
   "source": [
    "#### Pipeline for the new"
   ]
  },
  {
   "cell_type": "code",
   "execution_count": 11,
   "metadata": {},
   "outputs": [],
   "source": [
    "from collections import Counter\n",
    "from operator import itemgetter"
   ]
  },
  {
   "cell_type": "code",
   "execution_count": 12,
   "metadata": {},
   "outputs": [],
   "source": [
    "def get_sentiment(score: dict):\n",
    "    return max(score, key=score.get)"
   ]
  },
  {
   "cell_type": "code",
   "execution_count": 13,
   "metadata": {},
   "outputs": [],
   "source": [
    "def the_most(key: str, scores: list):\n",
    "    st = max(enumerate(scores), key=lambda sa: sa[1][key])\n",
    "    return {\n",
    "        \"sentence_number\": st[0], \n",
    "        f\"{key} score\": st[1][key]\n",
    "    }"
   ]
  },
  {
   "cell_type": "code",
   "execution_count": 14,
   "metadata": {},
   "outputs": [],
   "source": [
    "def sa_report_full(new):\n",
    "    title = sa_title(new[\"title\"])\n",
    "    description = sa_description(new[\"description\"])\n",
    "    content = sa_content_full(new[\"content\"])\n",
    "\n",
    "    report = {\n",
    "        \"title_sentiment\": get_sentiment(title),\n",
    "        \"description_sentiment\": Counter(get_sentiment(sa) for sa in description),\n",
    "        \"content_sentiment_full\": Counter(get_sentiment(sa) for sa in content),\n",
    "        \"content_sentiment_f10\": Counter(get_sentiment(sa) for sa in content[:10]),\n",
    "        \"most_positive_sentense\": the_most(\"positive\", content),\n",
    "        \"most_negative_sentense\": the_most(\"negative\", content)\n",
    "    }\n",
    "\n",
    "    return {\n",
    "        \"index\": new[\"index\"],\n",
    "        \"report\": report,\n",
    "        \"details\": {\n",
    "            \"title\": title,\n",
    "            \"description\": description,\n",
    "            \"content\": content\n",
    "        }\n",
    "    }"
   ]
  },
  {
   "cell_type": "code",
   "execution_count": 15,
   "metadata": {},
   "outputs": [],
   "source": [
    "def sa_report(new):\n",
    "    title = sa_title(new[\"title\"])\n",
    "    description = sa_description(new[\"description\"])\n",
    "    content = sa_content(new[\"content\"])\n",
    "\n",
    "    report = {\n",
    "        \"title_sentiment\": get_sentiment(title),\n",
    "        \"description_sentiment\": Counter(get_sentiment(sa) for sa in description),\n",
    "        \"content_sentiment\": Counter(get_sentiment(sa) for sa in content)\n",
    "    }\n",
    "\n",
    "    return {\n",
    "        \"index\": new[\"index\"],\n",
    "        \"report\": report,\n",
    "        \"details\": {\n",
    "            \"title\": title,\n",
    "            \"description\": description,\n",
    "            \"content\": content\n",
    "        }\n",
    "    }"
   ]
  },
  {
   "cell_type": "code",
   "execution_count": 23,
   "metadata": {},
   "outputs": [
    {
     "data": {
      "text/plain": [
       "{'index': 4712,\n",
       " 'report': {'title_sentiment': 'neutral',\n",
       "  'description_sentiment': Counter({'neutral': 1}),\n",
       "  'content_sentiment': Counter({'negative': 1, 'neutral': 6, 'positive': 3})},\n",
       " 'details': {'title': {'negative': 0.2651931047439575,\n",
       "   'neutral': 0.6773514747619629,\n",
       "   'positive': 0.057455483824014664},\n",
       "  'description': [{'negative': 0.30483901500701904,\n",
       "    'neutral': 0.6038489937782288,\n",
       "    'positive': 0.09131209552288055}],\n",
       "  'content': [{'negative': 0.6836929321289062,\n",
       "    'neutral': 0.29760292172431946,\n",
       "    'positive': 0.018704118207097054},\n",
       "   {'negative': 0.03147675096988678,\n",
       "    'neutral': 0.6021249294281006,\n",
       "    'positive': 0.3663983941078186},\n",
       "   {'negative': 0.005951882340013981,\n",
       "    'neutral': 0.7542198300361633,\n",
       "    'positive': 0.23982815444469452},\n",
       "   {'negative': 0.009524310007691383,\n",
       "    'neutral': 0.6008063554763794,\n",
       "    'positive': 0.389669269323349},\n",
       "   {'negative': 0.0052651711739599705,\n",
       "    'neutral': 0.5081960558891296,\n",
       "    'positive': 0.486538827419281},\n",
       "   {'negative': 0.007141564041376114,\n",
       "    'neutral': 0.9138311147689819,\n",
       "    'positive': 0.0790272206068039},\n",
       "   {'negative': 0.008209709078073502,\n",
       "    'neutral': 0.48054298758506775,\n",
       "    'positive': 0.5112473368644714},\n",
       "   {'negative': 0.0072282725013792515,\n",
       "    'neutral': 0.7601931095123291,\n",
       "    'positive': 0.23257848620414734},\n",
       "   {'negative': 0.0030554754193872213,\n",
       "    'neutral': 0.2367967814207077,\n",
       "    'positive': 0.760147750377655},\n",
       "   {'negative': 0.002939739264547825,\n",
       "    'neutral': 0.09552045166492462,\n",
       "    'positive': 0.9015398025512695}]}}"
      ]
     },
     "execution_count": 23,
     "metadata": {},
     "output_type": "execute_result"
    }
   ],
   "source": [
    "sa_report(new_test)"
   ]
  },
  {
   "cell_type": "code",
   "execution_count": 24,
   "metadata": {},
   "outputs": [
    {
     "data": {
      "text/plain": [
       "{'index': 4712,\n",
       " 'report': {'title_sentiment': 'neutral',\n",
       "  'description_sentiment': Counter({'neutral': 1}),\n",
       "  'content_sentiment_full': Counter({'negative': 4,\n",
       "           'neutral': 60,\n",
       "           'positive': 14}),\n",
       "  'content_sentiment_f10': Counter({'negative': 1,\n",
       "           'neutral': 6,\n",
       "           'positive': 3}),\n",
       "  'most_positive_sentense': {'sentence_number': 9,\n",
       "   'positive score': 0.9015398025512695},\n",
       "  'most_negative_sentense': {'sentence_number': 45,\n",
       "   'negative score': 0.8231138586997986}},\n",
       " 'details': {'title': {'negative': 0.2651931047439575,\n",
       "   'neutral': 0.6773514747619629,\n",
       "   'positive': 0.057455483824014664},\n",
       "  'description': [{'negative': 0.30483901500701904,\n",
       "    'neutral': 0.6038489937782288,\n",
       "    'positive': 0.09131209552288055}],\n",
       "  'content': [{'negative': 0.6836929321289062,\n",
       "    'neutral': 0.29760292172431946,\n",
       "    'positive': 0.018704118207097054},\n",
       "   {'negative': 0.03147675096988678,\n",
       "    'neutral': 0.6021249294281006,\n",
       "    'positive': 0.3663983941078186},\n",
       "   {'negative': 0.005951882340013981,\n",
       "    'neutral': 0.7542198300361633,\n",
       "    'positive': 0.23982815444469452},\n",
       "   {'negative': 0.009524310007691383,\n",
       "    'neutral': 0.6008063554763794,\n",
       "    'positive': 0.389669269323349},\n",
       "   {'negative': 0.0052651711739599705,\n",
       "    'neutral': 0.5081960558891296,\n",
       "    'positive': 0.486538827419281},\n",
       "   {'negative': 0.007141564041376114,\n",
       "    'neutral': 0.9138311147689819,\n",
       "    'positive': 0.0790272206068039},\n",
       "   {'negative': 0.008209709078073502,\n",
       "    'neutral': 0.48054298758506775,\n",
       "    'positive': 0.5112473368644714},\n",
       "   {'negative': 0.0072282725013792515,\n",
       "    'neutral': 0.7601931095123291,\n",
       "    'positive': 0.23257848620414734},\n",
       "   {'negative': 0.0030554754193872213,\n",
       "    'neutral': 0.2367967814207077,\n",
       "    'positive': 0.760147750377655},\n",
       "   {'negative': 0.002939739264547825,\n",
       "    'neutral': 0.09552045166492462,\n",
       "    'positive': 0.9015398025512695},\n",
       "   {'negative': 0.005402034148573875,\n",
       "    'neutral': 0.3736423850059509,\n",
       "    'positive': 0.6209557056427002},\n",
       "   {'negative': 0.007572077214717865,\n",
       "    'neutral': 0.8592166900634766,\n",
       "    'positive': 0.13321124017238617},\n",
       "   {'negative': 0.026770615950226784,\n",
       "    'neutral': 0.8794031739234924,\n",
       "    'positive': 0.09382616728544235},\n",
       "   {'negative': 0.007909126579761505,\n",
       "    'neutral': 0.8331398367881775,\n",
       "    'positive': 0.15895111858844757},\n",
       "   {'negative': 0.014686211943626404,\n",
       "    'neutral': 0.5731608271598816,\n",
       "    'positive': 0.4121530055999756},\n",
       "   {'negative': 0.009607536718249321,\n",
       "    'neutral': 0.5051834583282471,\n",
       "    'positive': 0.4852089583873749},\n",
       "   {'negative': 0.0053867860697209835,\n",
       "    'neutral': 0.528587281703949,\n",
       "    'positive': 0.46602582931518555},\n",
       "   {'negative': 0.0031812512315809727,\n",
       "    'neutral': 0.4494495987892151,\n",
       "    'positive': 0.547369122505188},\n",
       "   {'negative': 0.00785284023731947,\n",
       "    'neutral': 0.8877517580986023,\n",
       "    'positive': 0.1043953076004982},\n",
       "   {'negative': 0.003277477575466037,\n",
       "    'neutral': 0.2623603045940399,\n",
       "    'positive': 0.7343621253967285},\n",
       "   {'negative': 0.004702761769294739,\n",
       "    'neutral': 0.45795002579689026,\n",
       "    'positive': 0.5373470783233643},\n",
       "   {'negative': 0.006407538428902626,\n",
       "    'neutral': 0.18145297467708588,\n",
       "    'positive': 0.8121395111083984},\n",
       "   {'negative': 0.007121150381863117,\n",
       "    'neutral': 0.5648526549339294,\n",
       "    'positive': 0.42802631855010986},\n",
       "   {'negative': 0.004573083948343992,\n",
       "    'neutral': 0.4575030505657196,\n",
       "    'positive': 0.5379238128662109},\n",
       "   {'negative': 0.08830251544713974,\n",
       "    'neutral': 0.8646783232688904,\n",
       "    'positive': 0.047019168734550476},\n",
       "   {'negative': 0.011498167179524899,\n",
       "    'neutral': 0.9278140068054199,\n",
       "    'positive': 0.060687754303216934},\n",
       "   {'negative': 0.09537826478481293,\n",
       "    'neutral': 0.8241982460021973,\n",
       "    'positive': 0.08042357116937637},\n",
       "   {'negative': 0.05589044839143753,\n",
       "    'neutral': 0.7583903074264526,\n",
       "    'positive': 0.18571928143501282},\n",
       "   {'negative': 0.16277627646923065,\n",
       "    'neutral': 0.7961933016777039,\n",
       "    'positive': 0.04103036969900131},\n",
       "   {'negative': 0.03792281076312065,\n",
       "    'neutral': 0.8958036303520203,\n",
       "    'positive': 0.06627345085144043},\n",
       "   {'negative': 0.4717062711715698,\n",
       "    'neutral': 0.5018301010131836,\n",
       "    'positive': 0.026463573798537254},\n",
       "   {'negative': 0.10377911478281021,\n",
       "    'neutral': 0.8202402591705322,\n",
       "    'positive': 0.07598069310188293},\n",
       "   {'negative': 0.009234778583049774,\n",
       "    'neutral': 0.8707159757614136,\n",
       "    'positive': 0.12004924565553665},\n",
       "   {'negative': 0.01652376912534237,\n",
       "    'neutral': 0.6299378275871277,\n",
       "    'positive': 0.35353830456733704},\n",
       "   {'negative': 0.469047486782074,\n",
       "    'neutral': 0.5150641202926636,\n",
       "    'positive': 0.01588832214474678},\n",
       "   {'negative': 0.023891063407063484,\n",
       "    'neutral': 0.5657986402511597,\n",
       "    'positive': 0.410310298204422},\n",
       "   {'negative': 0.0042854552157223225,\n",
       "    'neutral': 0.8837838172912598,\n",
       "    'positive': 0.11193080246448517},\n",
       "   {'negative': 0.29502758383750916,\n",
       "    'neutral': 0.6902838945388794,\n",
       "    'positive': 0.014688431285321712},\n",
       "   {'negative': 0.020614394918084145,\n",
       "    'neutral': 0.39156705141067505,\n",
       "    'positive': 0.5878186821937561},\n",
       "   {'negative': 0.15572360157966614,\n",
       "    'neutral': 0.7682216167449951,\n",
       "    'positive': 0.07605476677417755},\n",
       "   {'negative': 0.15735706686973572,\n",
       "    'neutral': 0.7438228726387024,\n",
       "    'positive': 0.09881997853517532},\n",
       "   {'negative': 0.18705201148986816,\n",
       "    'neutral': 0.690153181552887,\n",
       "    'positive': 0.12279491126537323},\n",
       "   {'negative': 0.17805540561676025,\n",
       "    'neutral': 0.776474118232727,\n",
       "    'positive': 0.045470453798770905},\n",
       "   {'negative': 0.14212875068187714,\n",
       "    'neutral': 0.7959660887718201,\n",
       "    'positive': 0.06190510094165802},\n",
       "   {'negative': 0.03144694119691849,\n",
       "    'neutral': 0.8162781596183777,\n",
       "    'positive': 0.15227492153644562},\n",
       "   {'negative': 0.8231138586997986,\n",
       "    'neutral': 0.16620773077011108,\n",
       "    'positive': 0.010678284801542759},\n",
       "   {'negative': 0.009298108518123627,\n",
       "    'neutral': 0.6337425112724304,\n",
       "    'positive': 0.3569592237472534},\n",
       "   {'negative': 0.12258841842412949,\n",
       "    'neutral': 0.8121750354766846,\n",
       "    'positive': 0.06523661315441132},\n",
       "   {'negative': 0.19905830919742584,\n",
       "    'neutral': 0.7643836736679077,\n",
       "    'positive': 0.03655802085995674},\n",
       "   {'negative': 0.4789395034313202,\n",
       "    'neutral': 0.492551326751709,\n",
       "    'positive': 0.02850911021232605},\n",
       "   {'negative': 0.6153152585029602,\n",
       "    'neutral': 0.32479941844940186,\n",
       "    'positive': 0.059885408729314804},\n",
       "   {'negative': 0.016575166955590248,\n",
       "    'neutral': 0.44513195753097534,\n",
       "    'positive': 0.5382928848266602},\n",
       "   {'negative': 0.005168385803699493,\n",
       "    'neutral': 0.6649462580680847,\n",
       "    'positive': 0.32988542318344116},\n",
       "   {'negative': 0.011137026362121105,\n",
       "    'neutral': 0.9495334625244141,\n",
       "    'positive': 0.03932939097285271},\n",
       "   {'negative': 0.01016032975167036,\n",
       "    'neutral': 0.786720871925354,\n",
       "    'positive': 0.20311880111694336},\n",
       "   {'negative': 0.007069272454828024,\n",
       "    'neutral': 0.7989498972892761,\n",
       "    'positive': 0.19398076832294464},\n",
       "   {'negative': 0.015341156162321568,\n",
       "    'neutral': 0.8683220744132996,\n",
       "    'positive': 0.11633674055337906},\n",
       "   {'negative': 0.004239292815327644,\n",
       "    'neutral': 0.3743150234222412,\n",
       "    'positive': 0.6214457750320435},\n",
       "   {'negative': 0.028286149725317955,\n",
       "    'neutral': 0.9371755719184875,\n",
       "    'positive': 0.034538280218839645},\n",
       "   {'negative': 0.007758654188364744,\n",
       "    'neutral': 0.9072921872138977,\n",
       "    'positive': 0.0849490761756897},\n",
       "   {'negative': 0.004059588070958853,\n",
       "    'neutral': 0.7779805064201355,\n",
       "    'positive': 0.21796000003814697},\n",
       "   {'negative': 0.010911055840551853,\n",
       "    'neutral': 0.9086392521858215,\n",
       "    'positive': 0.08044955879449844},\n",
       "   {'negative': 0.02409421280026436,\n",
       "    'neutral': 0.6597213745117188,\n",
       "    'positive': 0.316184401512146},\n",
       "   {'negative': 0.0043867831118404865,\n",
       "    'neutral': 0.8570107817649841,\n",
       "    'positive': 0.13860245048999786},\n",
       "   {'negative': 0.25467246770858765,\n",
       "    'neutral': 0.6876929998397827,\n",
       "    'positive': 0.05763447657227516},\n",
       "   {'negative': 0.02593885362148285,\n",
       "    'neutral': 0.8560603857040405,\n",
       "    'positive': 0.11800079047679901},\n",
       "   {'negative': 0.009164332412183285,\n",
       "    'neutral': 0.9600792527198792,\n",
       "    'positive': 0.030756404623389244},\n",
       "   {'negative': 0.006110603921115398,\n",
       "    'neutral': 0.6405045986175537,\n",
       "    'positive': 0.3533848524093628},\n",
       "   {'negative': 0.02137218974530697,\n",
       "    'neutral': 0.862076461315155,\n",
       "    'positive': 0.11655138432979584},\n",
       "   {'negative': 0.006401128601282835,\n",
       "    'neutral': 0.6577262878417969,\n",
       "    'positive': 0.33587250113487244},\n",
       "   {'negative': 0.010214834474027157,\n",
       "    'neutral': 0.292194664478302,\n",
       "    'positive': 0.6975904703140259},\n",
       "   {'negative': 0.2855667769908905,\n",
       "    'neutral': 0.6849653720855713,\n",
       "    'positive': 0.029467890039086342},\n",
       "   {'negative': 0.04591669887304306,\n",
       "    'neutral': 0.8703991174697876,\n",
       "    'positive': 0.08368423581123352},\n",
       "   {'negative': 0.02838030830025673,\n",
       "    'neutral': 0.5844318270683289,\n",
       "    'positive': 0.38718780875205994},\n",
       "   {'negative': 0.009443425573408604,\n",
       "    'neutral': 0.3783991038799286,\n",
       "    'positive': 0.6121575236320496},\n",
       "   {'negative': 0.8126049637794495,\n",
       "    'neutral': 0.17829908430576324,\n",
       "    'positive': 0.009095833636820316},\n",
       "   {'negative': 0.12526313960552216,\n",
       "    'neutral': 0.7296883463859558,\n",
       "    'positive': 0.14504843950271606},\n",
       "   {'negative': 0.08852711319923401,\n",
       "    'neutral': 0.7208947539329529,\n",
       "    'positive': 0.19057802855968475}]}}"
      ]
     },
     "execution_count": 24,
     "metadata": {},
     "output_type": "execute_result"
    }
   ],
   "source": [
    "sa_report_full(new_test)"
   ]
  },
  {
   "attachments": {},
   "cell_type": "markdown",
   "metadata": {},
   "source": [
    "## Evaluating"
   ]
  },
  {
   "cell_type": "code",
   "execution_count": 16,
   "metadata": {},
   "outputs": [],
   "source": [
    "from tqdm import tqdm"
   ]
  },
  {
   "attachments": {},
   "cell_type": "markdown",
   "metadata": {},
   "source": [
    "### Full text"
   ]
  },
  {
   "cell_type": "code",
   "execution_count": 26,
   "metadata": {},
   "outputs": [],
   "source": [
    "FULL_TEXT_SA_N_SAMPLES = 100"
   ]
  },
  {
   "cell_type": "code",
   "execution_count": 27,
   "metadata": {},
   "outputs": [],
   "source": [
    "sa_full = db[\"sa_full\"]"
   ]
  },
  {
   "cell_type": "code",
   "execution_count": 28,
   "metadata": {},
   "outputs": [
    {
     "name": "stderr",
     "output_type": "stream",
     "text": [
      "100%|██████████| 100/100 [05:15<00:00,  3.15s/it]"
     ]
    },
    {
     "name": "stdout",
     "output_type": "stream",
     "text": [
      "News faild: [21744, 17840, 7281]\n",
      "News reported: [29414, 4820, 9094, 11401, 36626, 17819, 16669, 5312, 5346, 20062, 32465, 6550, 27956, 29595, 22301, 24623, 9259, 29425, 36863, 9292, 24153, 2520, 6662, 14245, 39356, 8482, 23585, 3360, 10790, 30223, 9997, 38124, 11708, 14211, 42525, 22383, 38975, 14444, 29438, 39222, 37516, 8029, 26606, 17396, 12658, 27818, 19484, 18200, 30764, 14534, 32857, 38530, 22327, 32351, 33321, 6589, 17578, 22902, 7214, 7368, 21724, 30647, 41448, 10178, 17765, 36117, 12506, 38183, 34449, 42591, 25902, 30698, 33197, 26557, 33074, 27396, 13433, 29753, 30787, 29740, 20585, 12801, 24916, 39635, 17088, 27065, 42539, 16187, 39318, 38824, 9139, 11232, 17624, 42341, 19544, 25320, 24559]\n"
     ]
    },
    {
     "name": "stderr",
     "output_type": "stream",
     "text": [
      "\n"
     ]
    }
   ],
   "source": [
    "sa_full_report_data = []\n",
    "sa_full_report_indices = []\n",
    "sa_full_report_failed = []\n",
    "for new in tqdm(data.aggregate([{\"$sample\": {\"size\": FULL_TEXT_SA_N_SAMPLES}}]), total=FULL_TEXT_SA_N_SAMPLES):\n",
    "    try:\n",
    "        report = sa_report_full(new)\n",
    "        sa_full_report_data.append(report)\n",
    "        sa_full_report_indices.append(new[\"index\"])\n",
    "    except RuntimeError:\n",
    "        sa_full_report_failed.append(new[\"index\"])\n",
    "print(\"News failed: {}\".format(sa_full_report_failed))\n",
    "print(\"News reported: {}\".format(sa_full_report_indices))"
   ]
  },
  {
   "cell_type": "code",
   "execution_count": 29,
   "metadata": {},
   "outputs": [
    {
     "data": {
      "text/plain": [
       "<pymongo.results.InsertManyResult at 0x7f520bc01700>"
      ]
     },
     "execution_count": 29,
     "metadata": {},
     "output_type": "execute_result"
    }
   ],
   "source": [
    "sa_full.insert_many(sa_full_report_data)"
   ]
  },
  {
   "attachments": {},
   "cell_type": "markdown",
   "metadata": {},
   "source": [
    "### First 10 sentences"
   ]
  },
  {
   "cell_type": "code",
   "execution_count": 17,
   "metadata": {},
   "outputs": [
    {
     "data": {
      "text/plain": [
       "42635"
      ]
     },
     "execution_count": 17,
     "metadata": {},
     "output_type": "execute_result"
    }
   ],
   "source": [
    "F10_TEXT_SA_N_SAMPLES = db.command(\"collstats\", \"data\")[\"count\"]\n",
    "F10_TEXT_SA_N_SAMPLES"
   ]
  },
  {
   "cell_type": "code",
   "execution_count": 24,
   "metadata": {},
   "outputs": [],
   "source": [
    "F10_TEXT_SA_N_SAMPLES_MAX = 9000 #F10_TEXT_SA_N_SAMPLES"
   ]
  },
  {
   "cell_type": "code",
   "execution_count": 19,
   "metadata": {},
   "outputs": [],
   "source": [
    "sa_first10 = db[\"sa_first10\"]"
   ]
  },
  {
   "cell_type": "code",
   "execution_count": 25,
   "metadata": {},
   "outputs": [
    {
     "data": {
      "text/plain": [
       "8000"
      ]
     },
     "execution_count": 25,
     "metadata": {},
     "output_type": "execute_result"
    }
   ],
   "source": [
    "F10_TEXT_SA_IND_LAST = 8000 #[sa[\"index\"] for sa in sa_first10.find()][-1] + 1 #0\n",
    "F10_TEXT_SA_IND_LAST"
   ]
  },
  {
   "cell_type": "code",
   "execution_count": 26,
   "metadata": {},
   "outputs": [
    {
     "name": "stderr",
     "output_type": "stream",
     "text": [
      "100%|██████████| 1000/1000 [16:43<00:00,  1.00s/it]"
     ]
    },
    {
     "name": "stdout",
     "output_type": "stream",
     "text": [
      "News failed: [8606, 8632, 8654, 8792, 8794]\n",
      "News reported: [8000, 8001, 8002, 8003, 8004, 8005, 8006, 8007, 8008, 8009, 8010, 8011, 8012, 8013, 8014, 8015, 8016, 8017, 8018, 8019, 8020, 8021, 8022, 8023, 8024, 8025, 8026, 8027, 8028, 8029, 8030, 8031, 8032, 8033, 8034, 8035, 8036, 8037, 8038, 8039, 8040, 8041, 8042, 8043, 8044, 8045, 8046, 8047, 8048, 8049, 8050, 8051, 8052, 8053, 8054, 8055, 8056, 8057, 8058, 8059, 8060, 8061, 8062, 8063, 8064, 8065, 8066, 8067, 8068, 8069, 8070, 8071, 8072, 8073, 8074, 8075, 8076, 8077, 8078, 8079, 8080, 8081, 8082, 8083, 8084, 8085, 8086, 8087, 8088, 8089, 8090, 8091, 8092, 8093, 8094, 8095, 8096, 8097, 8098, 8099, 8100, 8101, 8102, 8103, 8104, 8105, 8106, 8107, 8108, 8109, 8110, 8111, 8112, 8113, 8114, 8115, 8116, 8117, 8118, 8119, 8120, 8121, 8122, 8123, 8124, 8125, 8126, 8127, 8128, 8129, 8130, 8131, 8132, 8133, 8134, 8135, 8136, 8137, 8138, 8139, 8140, 8141, 8142, 8143, 8144, 8145, 8146, 8147, 8148, 8149, 8150, 8151, 8152, 8153, 8154, 8155, 8156, 8157, 8158, 8159, 8160, 8161, 8162, 8163, 8164, 8165, 8166, 8167, 8168, 8169, 8170, 8171, 8172, 8173, 8174, 8175, 8176, 8177, 8178, 8179, 8180, 8181, 8182, 8183, 8184, 8185, 8186, 8187, 8188, 8189, 8190, 8191, 8192, 8193, 8194, 8195, 8196, 8197, 8198, 8199, 8200, 8201, 8202, 8203, 8204, 8205, 8206, 8207, 8208, 8209, 8210, 8211, 8212, 8213, 8214, 8215, 8216, 8217, 8218, 8219, 8220, 8221, 8222, 8223, 8224, 8225, 8226, 8227, 8228, 8229, 8230, 8231, 8232, 8233, 8234, 8235, 8236, 8237, 8238, 8239, 8240, 8241, 8242, 8243, 8244, 8245, 8246, 8247, 8248, 8249, 8250, 8251, 8252, 8253, 8254, 8255, 8256, 8257, 8258, 8259, 8260, 8261, 8262, 8263, 8264, 8265, 8266, 8267, 8268, 8269, 8270, 8271, 8272, 8273, 8274, 8275, 8276, 8277, 8278, 8279, 8280, 8281, 8282, 8283, 8284, 8285, 8286, 8287, 8288, 8289, 8290, 8291, 8292, 8293, 8294, 8295, 8296, 8297, 8298, 8299, 8300, 8301, 8302, 8303, 8304, 8305, 8306, 8307, 8308, 8309, 8310, 8311, 8312, 8313, 8314, 8315, 8316, 8317, 8318, 8319, 8320, 8321, 8322, 8323, 8324, 8325, 8326, 8327, 8328, 8329, 8330, 8331, 8332, 8333, 8334, 8335, 8336, 8337, 8338, 8339, 8340, 8341, 8342, 8343, 8344, 8345, 8346, 8347, 8348, 8349, 8350, 8351, 8352, 8353, 8354, 8355, 8356, 8357, 8358, 8359, 8360, 8361, 8362, 8363, 8364, 8365, 8366, 8367, 8368, 8369, 8370, 8371, 8372, 8373, 8374, 8375, 8376, 8377, 8378, 8379, 8380, 8381, 8382, 8383, 8384, 8385, 8386, 8387, 8388, 8389, 8390, 8391, 8392, 8393, 8394, 8395, 8396, 8397, 8398, 8399, 8400, 8401, 8402, 8403, 8404, 8405, 8406, 8407, 8408, 8409, 8410, 8411, 8412, 8413, 8414, 8415, 8416, 8417, 8418, 8419, 8420, 8421, 8422, 8423, 8424, 8425, 8426, 8427, 8428, 8429, 8430, 8431, 8432, 8433, 8434, 8435, 8436, 8437, 8438, 8439, 8440, 8441, 8442, 8443, 8444, 8445, 8446, 8447, 8448, 8449, 8450, 8451, 8452, 8453, 8454, 8455, 8456, 8457, 8458, 8459, 8460, 8461, 8462, 8463, 8464, 8465, 8466, 8467, 8468, 8469, 8470, 8471, 8472, 8473, 8474, 8475, 8476, 8477, 8478, 8479, 8480, 8481, 8482, 8483, 8484, 8485, 8486, 8487, 8488, 8489, 8490, 8491, 8492, 8493, 8494, 8495, 8496, 8497, 8498, 8499, 8500, 8501, 8502, 8503, 8504, 8505, 8506, 8507, 8508, 8509, 8510, 8511, 8512, 8513, 8514, 8515, 8516, 8517, 8518, 8519, 8520, 8521, 8522, 8523, 8524, 8525, 8526, 8527, 8528, 8529, 8530, 8531, 8532, 8533, 8534, 8535, 8536, 8537, 8538, 8539, 8540, 8541, 8542, 8543, 8544, 8545, 8546, 8547, 8548, 8549, 8550, 8551, 8552, 8553, 8554, 8555, 8556, 8557, 8558, 8559, 8560, 8561, 8562, 8563, 8564, 8565, 8566, 8567, 8568, 8569, 8570, 8571, 8572, 8573, 8574, 8575, 8576, 8577, 8578, 8579, 8580, 8581, 8582, 8583, 8584, 8585, 8586, 8587, 8588, 8589, 8590, 8591, 8592, 8593, 8594, 8595, 8596, 8597, 8598, 8599, 8600, 8601, 8602, 8603, 8604, 8605, 8607, 8608, 8609, 8610, 8611, 8612, 8613, 8614, 8615, 8616, 8617, 8618, 8619, 8620, 8621, 8622, 8623, 8624, 8625, 8626, 8627, 8628, 8629, 8630, 8631, 8633, 8634, 8635, 8636, 8637, 8638, 8639, 8640, 8641, 8642, 8643, 8644, 8645, 8646, 8647, 8648, 8649, 8650, 8651, 8652, 8653, 8655, 8656, 8657, 8658, 8659, 8660, 8661, 8662, 8663, 8664, 8665, 8666, 8667, 8668, 8669, 8670, 8671, 8672, 8673, 8674, 8675, 8676, 8677, 8678, 8679, 8680, 8681, 8682, 8683, 8684, 8685, 8686, 8687, 8688, 8689, 8690, 8691, 8692, 8693, 8694, 8695, 8696, 8697, 8698, 8699, 8700, 8701, 8702, 8703, 8704, 8705, 8706, 8707, 8708, 8709, 8710, 8711, 8712, 8713, 8714, 8715, 8716, 8717, 8718, 8719, 8720, 8721, 8722, 8723, 8724, 8725, 8726, 8727, 8728, 8729, 8730, 8731, 8732, 8733, 8734, 8735, 8736, 8737, 8738, 8739, 8740, 8741, 8742, 8743, 8744, 8745, 8746, 8747, 8748, 8749, 8750, 8751, 8752, 8753, 8754, 8755, 8756, 8757, 8758, 8759, 8760, 8761, 8762, 8763, 8764, 8765, 8766, 8767, 8768, 8769, 8770, 8771, 8772, 8773, 8774, 8775, 8776, 8777, 8778, 8779, 8780, 8781, 8782, 8783, 8784, 8785, 8786, 8787, 8788, 8789, 8790, 8791, 8793, 8795, 8796, 8797, 8798, 8799, 8800, 8801, 8802, 8803, 8804, 8805, 8806, 8807, 8808, 8809, 8810, 8811, 8812, 8813, 8814, 8815, 8816, 8817, 8818, 8819, 8820, 8821, 8822, 8823, 8824, 8825, 8826, 8827, 8828, 8829, 8830, 8831, 8832, 8833, 8834, 8835, 8836, 8837, 8838, 8839, 8840, 8841, 8842, 8843, 8844, 8845, 8846, 8847, 8848, 8849, 8850, 8851, 8852, 8853, 8854, 8855, 8856, 8857, 8858, 8859, 8860, 8861, 8862, 8863, 8864, 8865, 8866, 8867, 8868, 8869, 8870, 8871, 8872, 8873, 8874, 8875, 8876, 8877, 8878, 8879, 8880, 8881, 8882, 8883, 8884, 8885, 8886, 8887, 8888, 8889, 8890, 8891, 8892, 8893, 8894, 8895, 8896, 8897, 8898, 8899, 8900, 8901, 8902, 8903, 8904, 8905, 8906, 8907, 8908, 8909, 8910, 8911, 8912, 8913, 8914, 8915, 8916, 8917, 8918, 8919, 8920, 8921, 8922, 8923, 8924, 8925, 8926, 8927, 8928, 8929, 8930, 8931, 8932, 8933, 8934, 8935, 8936, 8937, 8938, 8939, 8940, 8941, 8942, 8943, 8944, 8945, 8946, 8947, 8948, 8949, 8950, 8951, 8952, 8953, 8954, 8955, 8956, 8957, 8958, 8959, 8960, 8961, 8962, 8963, 8964, 8965, 8966, 8967, 8968, 8969, 8970, 8971, 8972, 8973, 8974, 8975, 8976, 8977, 8978, 8979, 8980, 8981, 8982, 8983, 8984, 8985, 8986, 8987, 8988, 8989, 8990, 8991, 8992, 8993, 8994, 8995, 8996, 8997, 8998, 8999]\n"
     ]
    },
    {
     "name": "stderr",
     "output_type": "stream",
     "text": [
      "\n"
     ]
    }
   ],
   "source": [
    "sa_first10_report_data = []\n",
    "sa_first10_report_indices = []\n",
    "sa_first10_report_failed = []\n",
    "for new in tqdm(data.find({\"index\": {\"$gte\": F10_TEXT_SA_IND_LAST, \"$lt\": F10_TEXT_SA_N_SAMPLES_MAX}}), total=F10_TEXT_SA_N_SAMPLES_MAX-F10_TEXT_SA_IND_LAST):\n",
    "    try:\n",
    "        report = sa_report(new)\n",
    "        sa_first10_report_data.append(report)\n",
    "        sa_first10_report_indices.append(new[\"index\"])\n",
    "    except:\n",
    "        sa_first10_report_failed.append(new[\"index\"])\n",
    "print(\"News failed: {}\".format(sa_first10_report_failed))\n",
    "print(\"News reported: {}\".format(sa_first10_report_indices))"
   ]
  },
  {
   "cell_type": "code",
   "execution_count": 27,
   "metadata": {},
   "outputs": [
    {
     "data": {
      "text/plain": [
       "<pymongo.results.InsertManyResult at 0x7f57474d8680>"
      ]
     },
     "execution_count": 27,
     "metadata": {},
     "output_type": "execute_result"
    }
   ],
   "source": [
    "sa_first10.insert_many(sa_first10_report_data)"
   ]
  },
  {
   "cell_type": "code",
   "execution_count": 28,
   "metadata": {},
   "outputs": [
    {
     "data": {
      "text/plain": [
       "8999"
      ]
     },
     "execution_count": 28,
     "metadata": {},
     "output_type": "execute_result"
    }
   ],
   "source": [
    "sa_first10_report_indices[-1]"
   ]
  },
  {
   "cell_type": "code",
   "execution_count": null,
   "metadata": {},
   "outputs": [],
   "source": []
  },
  {
   "cell_type": "code",
   "execution_count": null,
   "metadata": {},
   "outputs": [],
   "source": []
  }
 ],
 "metadata": {
  "kernelspec": {
   "display_name": "nlp",
   "language": "python",
   "name": "python3"
  },
  "language_info": {
   "codemirror_mode": {
    "name": "ipython",
    "version": 3
   },
   "file_extension": ".py",
   "mimetype": "text/x-python",
   "name": "python",
   "nbconvert_exporter": "python",
   "pygments_lexer": "ipython3",
   "version": "3.8.16"
  },
  "orig_nbformat": 4,
  "vscode": {
   "interpreter": {
    "hash": "8a7075bf2fd7d9443f5927cbe305d16adc40409c6450453d3f2d63137175e6ea"
   }
  }
 },
 "nbformat": 4,
 "nbformat_minor": 2
}
