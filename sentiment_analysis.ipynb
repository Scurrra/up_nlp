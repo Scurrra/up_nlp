{
 "cells": [
  {
   "attachments": {},
   "cell_type": "markdown",
   "metadata": {},
   "source": [
    "# Sentiment Analysis\n",
    "\n",
    "Для сентимент-анализа новостей предлагается использовать [TimeLMs](https://huggingface.co/cardiffnlp/twitter-roberta-base-sentiment-latest). Эта модель представляет собой RoBERTa, тюнингованную на датасете твитов (124M твитов с января 2018 по декабрь 2021, возможно позже). Благодаря тому, что RoBERTa была обучена на датасетах за большой период времени, содержащих тексты разных стилей. Тюнинг на твитах даёт обновление модели, параллельно давая некоторую временную деградацию, что не должно повлиять на задачу сентимент-анализа."
   ]
  },
  {
   "attachments": {},
   "cell_type": "markdown",
   "metadata": {},
   "source": [
    "## Data"
   ]
  },
  {
   "cell_type": "code",
   "execution_count": 1,
   "metadata": {},
   "outputs": [],
   "source": [
    "import pandas as pd\n",
    "import numpy as np\n",
    "import pymongo\n",
    "from pprint import pprint"
   ]
  },
  {
   "cell_type": "code",
   "execution_count": 2,
   "metadata": {},
   "outputs": [],
   "source": [
    "client = pymongo.MongoClient('localhost', 27017)\n",
    "db = client[\"news\"]\n",
    "data = db[\"data\"]"
   ]
  },
  {
   "attachments": {},
   "cell_type": "markdown",
   "metadata": {},
   "source": [
    "## Model"
   ]
  },
  {
   "cell_type": "code",
   "execution_count": 3,
   "metadata": {},
   "outputs": [
    {
     "name": "stderr",
     "output_type": "stream",
     "text": [
      "/home/scurrra/Programs/Anaconda/envs/nlp/lib/python3.8/site-packages/tqdm/auto.py:22: TqdmWarning: IProgress not found. Please update jupyter and ipywidgets. See https://ipywidgets.readthedocs.io/en/stable/user_install.html\n",
      "  from .autonotebook import tqdm as notebook_tqdm\n"
     ]
    }
   ],
   "source": [
    "from nltk.tokenize import sent_tokenize\n",
    "\n",
    "from transformers import AutoModelForSequenceClassification\n",
    "from transformers import TFAutoModelForSequenceClassification\n",
    "from transformers import AutoTokenizer, AutoConfig\n",
    "\n",
    "from scipy.special import softmax"
   ]
  },
  {
   "cell_type": "code",
   "execution_count": 4,
   "metadata": {},
   "outputs": [
    {
     "name": "stderr",
     "output_type": "stream",
     "text": [
      "Some weights of the model checkpoint at cardiffnlp/twitter-roberta-base-sentiment-latest were not used when initializing RobertaForSequenceClassification: ['roberta.pooler.dense.weight', 'roberta.pooler.dense.bias']\n",
      "- This IS expected if you are initializing RobertaForSequenceClassification from the checkpoint of a model trained on another task or with another architecture (e.g. initializing a BertForSequenceClassification model from a BertForPreTraining model).\n",
      "- This IS NOT expected if you are initializing RobertaForSequenceClassification from the checkpoint of a model that you expect to be exactly identical (initializing a BertForSequenceClassification model from a BertForSequenceClassification model).\n"
     ]
    }
   ],
   "source": [
    "MODEL = f\"cardiffnlp/twitter-roberta-base-sentiment-latest\"\n",
    "tokenizer = AutoTokenizer.from_pretrained(MODEL)\n",
    "config = AutoConfig.from_pretrained(MODEL)\n",
    "model = AutoModelForSequenceClassification.from_pretrained(MODEL)"
   ]
  },
  {
   "cell_type": "code",
   "execution_count": 5,
   "metadata": {},
   "outputs": [],
   "source": [
    "def se_eval(text : str):\n",
    "    encoded_input = tokenizer(text, return_tensors='pt')\n",
    "    output = model(**encoded_input)\n",
    "    return output[0][0]"
   ]
  },
  {
   "cell_type": "code",
   "execution_count": 6,
   "metadata": {},
   "outputs": [],
   "source": [
    "def se_score(output : list):\n",
    "    scores = output.detach().numpy()\n",
    "    scores = softmax(scores)\n",
    "\n",
    "    return {\n",
    "        config.id2label[i] : scores[i]\n",
    "        for i in range(3)\n",
    "    }"
   ]
  },
  {
   "cell_type": "markdown",
   "metadata": {},
   "source": [
    "### Test on one of the news"
   ]
  },
  {
   "cell_type": "code",
   "execution_count": 7,
   "metadata": {},
   "outputs": [
    {
     "data": {
      "text/plain": [
       "{'_id': ObjectId('63e51459fb0fef334ccf63b4'),\n",
       " 'index': 4712,\n",
       " 'source': 'CNN',\n",
       " 'date': datetime.datetime(2021, 7, 15, 0, 0),\n",
       " 'title': \"There's a shortage of truckers, but TuSimple thinks it has a solution: no driver needed - CNN\",\n",
       " 'category': 'news',\n",
       " 'description': 'The e-commerce boom has exacerbated a global truck driver shortage, but could autonomous trucks help fix the problem?',\n",
       " 'content': '(CNN)Right now, there\\'s a shortage of truck drivers in the US and worldwide, exacerbated by the e-commerce boom brought on by the pandemic. One solution to the problem is autonomous trucks, and several companies are in a race to be the first to launch one. Among them is San Diego-based TuSimple.Founded in 2015, TuSimple has completed about 2 million miles of road tests with its 70 prototype trucks across the US, China and Europe. Although these are simply commercially available trucks retrofitted with its technology, TuSimple has deals in place with two of the world\\'s largest truck manufacturers -- Navistar in the US and Traton, Volkswagen\\'s trucking business, in Europe -- to design and build fully autonomous models, which it hopes to launch by 2024. Photos: The Yara Birkeland is what its builders call the world\\'s first zero-emission, autonomous cargo ship. The ship is scheduled to make its first journey between two Norwegian towns before the end of the year. Click through to see more forms of transport set to transform the future.Hide Caption 1 of 13 Photos: Pictured here as a rendering, Oceanbird is a wind-powered transatlantic car carrier that cuts carbon emissions by 90%, compared to a standard car carrier.Hide Caption 2 of 13 Photos: It\\'s not just maritime ships that are going green. Cities around the world are adopting electric ferries. Norwegian startup Zeabuz hopes its self-driving electric ferry (pictured here as a rendering) will help revive urban waterways.Hide Caption 3 of 13 Photos: In China, a new Maglev high-speed train rolls off the production line in Qingdao, east China\\'s Shandong Province, on July 20. It has a top speed of 600 km per hour -- currently the fastest ground vehicle available globally. Hide Caption 4 of 13 Photos: Reaching speeds of up to 1,000 kilometers (620 miles) per hour, Hyperloop could be a sustainable replacement to short-haul flights. Dutch company Hardt (shown here as a rendering) started work on its Hyperloop test facility in Europe, anticipated to open in 2022.Hide Caption 5 of 13 Photos: Hyperloop is like a bullet train, without tracks and rails. Floating pods are propelled through a low-pressure steel tube using magnetic levitation. Virgin has been running tests with passengers on its XP-2 vehicle, pictured here.Hide Caption 6 of 13 Photos: Low carbon travel isn\\'t just about switching to sustainable fuel sources -- it\\'s also about redesigning the transport itself. A \"Flying-V\" plane designed by Delft\\'s University of Technology in the Netherlands and Dutch airline KLM can cut fuel consumption by 20%. Ultimately, researchers hope to switch out the kerosene with a sustainable fuel source, like liquid hydrogen.Hide Caption 7 of 13 Photos: Hydrogen aviation could provide a sustainable solution for short and medium-haul flights. In September, Airbus unveiled plans for three hydrogen-powered, zero-emission aircraft which can carry 100 to 200 passengers. It hopes to launch the first ZEROe aircraft in 2035.Hide Caption 8 of 13 Photos: In December 2019, Canadian airline Harbour Air flew the world\\'s first all-electric, zero-emission commercial aircraft. The six-seater seaplane was retrofitted with magniX\\'s magni500 all-electric motor. Harbour Air -- which carries half a million passengers annually -- hopes to become the world\\'s first all-electric airline. Hide Caption 9 of 13 Photos: In the case of electric bikes, the future is now: one retailer reported the sale of e-bikes and e-scooters had increased 230% this year. E-bikes give the user a boost to their pedaling, allowing them to go further with less effort. E-bikes are now even available on ride-share apps, like Uber.Hide Caption 10 of 13 Photos: While sleeper trains or buses might be the way most of us get some shut-eye on overnight travel, this rendering of a self-driving hotel suite from Toronto-based designer Steve Lee of Aprilli Design Studio might offer a plush alternative in the future.Hide Caption 11 of 13 Photos: In the UAE, these futuristic-looking pods are undergoing testing on a 400-meter line in Sharjah, which borders Dubai. Belarus-based uSky Transport says its pods can help cities solve traffic problems.Hide Caption 12 of 13 Photos: The Coradia iLint by French rail transport company Alstom is the world\\'s first hydrogen-powered passenger train. It began testing in Germany in 2018, and in September 2020 entered regular service in Austria.Hide Caption 13 of 13No sleepTuSimple\\'s latest road test involved hauling fresh produce 951 miles, from Nogales, Arizona to Oklahoma City. The pickup and the dropoff were handled by a human driver, but for the bulk of the route -- from Tucson to Dallas -- the truck drove itself. Read More\"Today, because the system is not fully ready, we have a safety driver and a safety engineer on board at all times when we\\'re testing, but we drove in full autonomy: the driver wasn\\'t touching the wheel,\" said Cheng Lu, TuSimple\\'s president and CEO. The journey was completed in 14 hours versus the usual 24 with a human driver, mostly because a truck doesn\\'t need to sleep. \"In the US, a driver can only work 11 hours a day. We simply had a handoff when our first pair of drivers had to stop because they reached their 11 hours of operation,\" said Lu. That, of course, negates the advantage of an autonomous system, so the idea is that once TuSimple\\'s trucks hit the market, there will be no need to have anyone onboard. Picking up the watermelons still required the human touch.Unlike self-driving cars, which are a still a way from being commercially available, TuSimple trucks won\\'t be required to operate in bustling city traffic, but only on stretches of highway that have been thoroughly mapped via the company\\'s own software. \"We collect data from the roads, and we create this very detailed, high definition map of each route. That adds another layer of safety for the vehicles,\" said Lu. As a result, TuSimple\\'s trucks will only be able to self-drive along these pre-mapped trade corridors, which Lu calls \"virtual railroads,\" and nowhere else. This swarm of robots gets smarter the more it worksAccording to the company, in the US 80% of goods travel through just 10% of the nation\\'s trade corridors, so even selective mapping allows for capturing a large portion of the business. TuSimple is currently mapping routes between Arizona and Texas, and plans to have mapped routes across the nation by 2024. Its plans are dependent on state legislation, however, because currently some states do not allow for testing of autonomous trucks on public roads. Happier drivers?The technology will add about $50,000 to the cost of a truck, making the final price roughly $200,000. According to Lu, that\\'s still cheaper than paying for a human driver. \"If you take $50,000 and divide it by 1 million miles, the average lifespan of a truck, that means you\\'re adding five cents per mile. But you\\'re saving the cost of a human driver, which based on average US wages is about $80,000 to $120,000 per year -- or 80 cents to $1.20 per mile. Today, the direct labor cost is about 50% of the cost of operating a truck,\" he said. Read: A robotic \\'Ironhand\\' could protect factory workers from injuriesThat doesn\\'t mean driverless trucks will take away jobs, according to Lu. By focusing on the \"middle mile,\" rather than on the pickup and delivery of the goods, TuSimple believes it can create new freight capacity without creating new demand for drivers, while at the same time protecting existing jobs. \"A UPS driver is dropping off 200 packages a day -- that\\'s not what autonomy is meant for. We believe that every driver will be able to retire as a driver, even if they enter the workforce today,\" said Lu. TuSimple\\'s autonomous fleet.Instead, TuSimple aims to take over the routes between terminals and distribution centers, which involve long stretches of monotonous driving. \"Take Phoenix to El Paso: that\\'s a six-hour drive. A person cannot make the round trip, because it\\'s more than 11 hours. But the truck can go back and forth all day, the most mundane job that drivers don\\'t want to do. That means you free up that human driver to do the first and the last mile (pickup and delivery).They get to work a full day, which is a more efficient use of their time, and they get to go home at night to their family,\" said Lu.No distractions Although Lu says that the reliability of both the software and the hardware still needs to be increased, TuSimple is planning its first fully autonomous tests, without a human safety driver in the cabin at all, before the end of the year. The results of such tests will indicate whether the company can meet its goal to launch its own trucks by 2024. Lu says that 7,000 have been reserved in the US alone. Photos: The robots running our warehouses Photos: The robots running our warehousesRobots are an increasingly familiar presence in warehouses. At the south-east London warehouse run by British online supermarket Ocado, 3,000 robots fulfill shopping orders. When an order is sent to the warehouse, the bots spring to life and head towards the container they require. Scroll through to see more robots that are revolutionizing warehouses.Hide Caption 1 of 8 Photos: The robots running our warehousesIn response to the coronavirus pandemic, MIT collaborated with Ava Robotics and the Greater Boston Food Bank to design a robot that can use UV light to sanitize the floor of a 4,000-square foot warehouse in just 30 minutes. Hide Caption 2 of 8 Photos: The robots running our warehousesSeven-foot \"Model-T\" robots produced by Japanese startup Telexistence have been stacking shelves in two of Tokyo\\'s largest convenience store franchises. Featuring cameras, microphones and sensors, the Model-T uses three \"fingers\" to stock items such as bottled drinks, cans and rice bowls. The robot is controlled by shop staff remotely.Hide Caption 3 of 8 Photos: The robots running our warehousesUS company Boston Dynamics has become known for its advanced work robots. \"Handle\" is made for the warehouse and equipped with an on-board vision system. It can lift boxes weighing over 30 pounds. Hide Caption 4 of 8 Photos: The robots running our warehousesStretch is the latest robot from Boston Dynamics and can work in warehouses and distribution centers. Designed to keep human workers out of harm\\'s way, Stretch\\'s tentacle-like grippers mean it can manipulate boxes. Hide Caption 5 of 8 Photos: The robots running our warehousesAlthough not specifically designed for warehouses, Boston Dynamics\\' dog-like robot \"Spot\" can lift objects, pick itself up after a fall, open and walk through doors, and even remind people to practice social distancing. Hide Caption 6 of 8 Photos: The robots running our warehousesThis robot is used to plant seeds and check plants at the \"Nordic Harvest\" vertical farm  based in Taastrup, Denmark. The indoor farm is one of the biggest in Europe.Hide Caption 7 of 8 Photos: The robots running our warehousesRobots sort packages at a warehouse run by JD.com -- one of China\\'s largest e-commerce firms, in Wuhan, China, ahead of the annual Singles Day online shopping bonanza, in 2019.Hide Caption 8 of 8 TuSimple has prominent competitors, such as Google spinoff Waymo and Uber-backed Aurora, but those are working on a wider range of self-driving vehicles, including passenger cars. TuSimple is working exclusively on driverless trucks, like US companies Plus and Embark. Grayson Brulte, an autonomy expert at consulting firm Brulte & Co., believes TuSimple is on the right track. \"The biggest competitive advantage that TuSimple has over its competitors is that their technology was purpose-built for trucking. They\\'re not trying to port an autonomy system built for passenger vehicles in dense urban environments to trucking or to build a virtual driver which can both drive passenger vehicles and class-8 trucks. These are different skills and different systems altogether,\" he said. Removing the human element on long trucking routes has other benefits. The company says its trucks react 15 times faster than human drivers, and can see farther down the road, even at night. \"In the US every year there are about 5,000 fatalities involving trucks, and most are due to human error,\" said Lu. \"The truck doesn\\'t get tired, doesn\\'t watch a movie or look at a phone. It doesn\\'t get distracted.\"'}"
      ]
     },
     "execution_count": 7,
     "metadata": {},
     "output_type": "execute_result"
    }
   ],
   "source": [
    "# new that has description (4712)\n",
    "new_test = data.find_one({\"index\": 4712})\n",
    "new_test"
   ]
  },
  {
   "cell_type": "markdown",
   "metadata": {},
   "source": [
    "#### Title"
   ]
  },
  {
   "cell_type": "code",
   "execution_count": 8,
   "metadata": {},
   "outputs": [],
   "source": [
    "def sa_title(title: str):\n",
    "    return se_score(se_eval(title))"
   ]
  },
  {
   "cell_type": "code",
   "execution_count": 9,
   "metadata": {},
   "outputs": [
    {
     "data": {
      "text/plain": [
       "\"There's a shortage of truckers, but TuSimple thinks it has a solution: no driver needed - CNN\""
      ]
     },
     "execution_count": 9,
     "metadata": {},
     "output_type": "execute_result"
    }
   ],
   "source": [
    "new_test[\"title\"]"
   ]
  },
  {
   "cell_type": "code",
   "execution_count": 10,
   "metadata": {},
   "outputs": [
    {
     "data": {
      "text/plain": [
       "{'negative': 0.2651931, 'neutral': 0.6773515, 'positive': 0.057455484}"
      ]
     },
     "execution_count": 10,
     "metadata": {},
     "output_type": "execute_result"
    }
   ],
   "source": [
    "sa_title(new_test[\"title\"])"
   ]
  },
  {
   "attachments": {},
   "cell_type": "markdown",
   "metadata": {},
   "source": [
    "#### Description"
   ]
  },
  {
   "cell_type": "code",
   "execution_count": 11,
   "metadata": {},
   "outputs": [],
   "source": [
    "def sa_description(desc):\n",
    "    if isinstance(desc, str):\n",
    "        desc = sent_tokenize(desc)\n",
    "        \n",
    "        return [\n",
    "            se_score(se_eval(sent))\n",
    "            for sent in desc\n",
    "        ]\n",
    "    else: # np.NaN\n",
    "        return [{\n",
    "            config.id2label[i] : np.nan\n",
    "            for i in range(3)\n",
    "        }]"
   ]
  },
  {
   "cell_type": "code",
   "execution_count": 12,
   "metadata": {},
   "outputs": [
    {
     "data": {
      "text/plain": [
       "'The e-commerce boom has exacerbated a global truck driver shortage, but could autonomous trucks help fix the problem?'"
      ]
     },
     "execution_count": 12,
     "metadata": {},
     "output_type": "execute_result"
    }
   ],
   "source": [
    "new_test[\"description\"]"
   ]
  },
  {
   "cell_type": "code",
   "execution_count": 13,
   "metadata": {},
   "outputs": [
    {
     "data": {
      "text/plain": [
       "[{'negative': 0.30483902, 'neutral': 0.603849, 'positive': 0.091312096}]"
      ]
     },
     "execution_count": 13,
     "metadata": {},
     "output_type": "execute_result"
    }
   ],
   "source": [
    "sa_description(new_test[\"description\"])"
   ]
  },
  {
   "attachments": {},
   "cell_type": "markdown",
   "metadata": {},
   "source": [
    "#### Content"
   ]
  },
  {
   "cell_type": "code",
   "execution_count": 14,
   "metadata": {},
   "outputs": [],
   "source": [
    "def sa_content_full(content: str):\n",
    "    content = sent_tokenize(content)\n",
    "\n",
    "    return [\n",
    "        se_score(se_eval(sent))\n",
    "        for sent in content\n",
    "    ]"
   ]
  },
  {
   "cell_type": "code",
   "execution_count": 15,
   "metadata": {},
   "outputs": [],
   "source": [
    "def sa_content(content: str):\n",
    "    content = sent_tokenize(content)[:10]\n",
    "\n",
    "    return [\n",
    "        se_score(se_eval(sent))\n",
    "        for sent in content\n",
    "    ]"
   ]
  },
  {
   "cell_type": "code",
   "execution_count": 16,
   "metadata": {},
   "outputs": [],
   "source": [
    "new_test[\"content\"];"
   ]
  },
  {
   "cell_type": "code",
   "execution_count": 17,
   "metadata": {},
   "outputs": [],
   "source": [
    "sa_c = sa_content_full(new_test[\"content\"])"
   ]
  },
  {
   "cell_type": "markdown",
   "metadata": {},
   "source": [
    "#### Pipeline for the new"
   ]
  },
  {
   "cell_type": "code",
   "execution_count": 18,
   "metadata": {},
   "outputs": [],
   "source": [
    "from collections import Counter\n",
    "from operator import itemgetter"
   ]
  },
  {
   "cell_type": "code",
   "execution_count": 19,
   "metadata": {},
   "outputs": [],
   "source": [
    "def get_sentiment(score: dict):\n",
    "    return max(score, key=score.get)"
   ]
  },
  {
   "cell_type": "code",
   "execution_count": 20,
   "metadata": {},
   "outputs": [],
   "source": [
    "def the_most(key: str, scores: list):\n",
    "    st = max(enumerate(scores), key=lambda sa: sa[1][key])\n",
    "    return {\n",
    "        \"sentence_number\": st[0], \n",
    "        f\"{key} score\": st[1][key]\n",
    "    }"
   ]
  },
  {
   "cell_type": "code",
   "execution_count": 21,
   "metadata": {},
   "outputs": [],
   "source": [
    "def sa_report_full(new):\n",
    "    title = sa_title(new[\"title\"])\n",
    "    description = sa_description(new[\"description\"])\n",
    "    content = sa_content_full(new[\"content\"])\n",
    "\n",
    "    report = {\n",
    "        \"title_sentiment\": get_sentiment(title),\n",
    "        \"description_sentiment\": Counter(get_sentiment(sa) for sa in description),\n",
    "        \"content_sentiment_full\": Counter(get_sentiment(sa) for sa in content),\n",
    "        \"content_sentiment_f10\": Counter(get_sentiment(sa) for sa in content[:10]),\n",
    "        \"most_positive_sentense\": the_most(\"positive\", content),\n",
    "        \"most_negative_sentense\": the_most(\"negative\", content)\n",
    "    }\n",
    "\n",
    "    return {\n",
    "        \"index\": new[\"index\"],\n",
    "        \"report\": report,\n",
    "        \"details\": {\n",
    "            \"title\": title,\n",
    "            \"description\": description,\n",
    "            \"content\": content\n",
    "        }\n",
    "    }"
   ]
  },
  {
   "cell_type": "code",
   "execution_count": 22,
   "metadata": {},
   "outputs": [],
   "source": [
    "def sa_report(new):\n",
    "    title = sa_title(new[\"title\"])\n",
    "    description = sa_description(new[\"description\"])\n",
    "    content = sa_content(new[\"content\"])\n",
    "\n",
    "    report = {\n",
    "        \"title_sentiment\": get_sentiment(title),\n",
    "        \"description_sentiment\": Counter(get_sentiment(sa) for sa in description),\n",
    "        \"content_sentiment\": Counter(get_sentiment(sa) for sa in content)\n",
    "    }\n",
    "\n",
    "    return {\n",
    "        \"index\": new[\"index\"],\n",
    "        \"report\": report,\n",
    "        \"details\": {\n",
    "            \"title\": title,\n",
    "            \"description\": description,\n",
    "            \"content\": content\n",
    "        }\n",
    "    }"
   ]
  },
  {
   "cell_type": "code",
   "execution_count": 23,
   "metadata": {},
   "outputs": [
    {
     "data": {
      "text/plain": [
       "{'index': 4712,\n",
       " 'report': {'title_sentiment': 'neutral',\n",
       "  'description_sentiment': Counter({'neutral': 1}),\n",
       "  'content_sentiment': Counter({'negative': 1, 'neutral': 6, 'positive': 3})},\n",
       " 'details': {'title': {'negative': 0.2651931,\n",
       "   'neutral': 0.6773515,\n",
       "   'positive': 0.057455484},\n",
       "  'description': [{'negative': 0.30483902,\n",
       "    'neutral': 0.603849,\n",
       "    'positive': 0.091312096}],\n",
       "  'content': [{'negative': 0.68369293,\n",
       "    'neutral': 0.29760292,\n",
       "    'positive': 0.018704118},\n",
       "   {'negative': 0.03147675, 'neutral': 0.6021249, 'positive': 0.3663984},\n",
       "   {'negative': 0.0059518823, 'neutral': 0.75421983, 'positive': 0.23982815},\n",
       "   {'negative': 0.00952431, 'neutral': 0.60080636, 'positive': 0.38966927},\n",
       "   {'negative': 0.005265171, 'neutral': 0.50819606, 'positive': 0.48653883},\n",
       "   {'negative': 0.007141564, 'neutral': 0.9138311, 'positive': 0.07902722},\n",
       "   {'negative': 0.008209709, 'neutral': 0.480543, 'positive': 0.51124734},\n",
       "   {'negative': 0.0072282725, 'neutral': 0.7601931, 'positive': 0.23257849},\n",
       "   {'negative': 0.0030554754, 'neutral': 0.23679678, 'positive': 0.76014775},\n",
       "   {'negative': 0.0029397393, 'neutral': 0.09552045, 'positive': 0.9015398}]}}"
      ]
     },
     "execution_count": 23,
     "metadata": {},
     "output_type": "execute_result"
    }
   ],
   "source": [
    "sa_report(new_test)"
   ]
  },
  {
   "cell_type": "code",
   "execution_count": 24,
   "metadata": {},
   "outputs": [
    {
     "data": {
      "text/plain": [
       "{'index': 4712,\n",
       " 'report': {'title_sentiment': 'neutral',\n",
       "  'description_sentiment': Counter({'neutral': 1}),\n",
       "  'content_sentiment_full': Counter({'negative': 4,\n",
       "           'neutral': 60,\n",
       "           'positive': 14}),\n",
       "  'content_sentiment_f10': Counter({'negative': 1,\n",
       "           'neutral': 6,\n",
       "           'positive': 3}),\n",
       "  'most_positive_sentense': {'sentence_number': 9,\n",
       "   'positive score': 0.9015398},\n",
       "  'most_negative_sentense': {'sentence_number': 45,\n",
       "   'negative score': 0.82311386}},\n",
       " 'details': {'title': {'negative': 0.2651931,\n",
       "   'neutral': 0.6773515,\n",
       "   'positive': 0.057455484},\n",
       "  'description': [{'negative': 0.30483902,\n",
       "    'neutral': 0.603849,\n",
       "    'positive': 0.091312096}],\n",
       "  'content': [{'negative': 0.68369293,\n",
       "    'neutral': 0.29760292,\n",
       "    'positive': 0.018704118},\n",
       "   {'negative': 0.03147675, 'neutral': 0.6021249, 'positive': 0.3663984},\n",
       "   {'negative': 0.0059518823, 'neutral': 0.75421983, 'positive': 0.23982815},\n",
       "   {'negative': 0.00952431, 'neutral': 0.60080636, 'positive': 0.38966927},\n",
       "   {'negative': 0.005265171, 'neutral': 0.50819606, 'positive': 0.48653883},\n",
       "   {'negative': 0.007141564, 'neutral': 0.9138311, 'positive': 0.07902722},\n",
       "   {'negative': 0.008209709, 'neutral': 0.480543, 'positive': 0.51124734},\n",
       "   {'negative': 0.0072282725, 'neutral': 0.7601931, 'positive': 0.23257849},\n",
       "   {'negative': 0.0030554754, 'neutral': 0.23679678, 'positive': 0.76014775},\n",
       "   {'negative': 0.0029397393, 'neutral': 0.09552045, 'positive': 0.9015398},\n",
       "   {'negative': 0.005402034, 'neutral': 0.37364239, 'positive': 0.6209557},\n",
       "   {'negative': 0.007572077, 'neutral': 0.8592167, 'positive': 0.13321124},\n",
       "   {'negative': 0.026770616, 'neutral': 0.8794032, 'positive': 0.09382617},\n",
       "   {'negative': 0.007909127, 'neutral': 0.83313984, 'positive': 0.15895112},\n",
       "   {'negative': 0.014686212, 'neutral': 0.5731608, 'positive': 0.412153},\n",
       "   {'negative': 0.009607537, 'neutral': 0.50518346, 'positive': 0.48520896},\n",
       "   {'negative': 0.005386786, 'neutral': 0.5285873, 'positive': 0.46602583},\n",
       "   {'negative': 0.0031812512, 'neutral': 0.4494496, 'positive': 0.5473691},\n",
       "   {'negative': 0.00785284, 'neutral': 0.88775176, 'positive': 0.10439531},\n",
       "   {'negative': 0.0032774776, 'neutral': 0.2623603, 'positive': 0.7343621},\n",
       "   {'negative': 0.004702762, 'neutral': 0.45795003, 'positive': 0.5373471},\n",
       "   {'negative': 0.0064075384, 'neutral': 0.18145297, 'positive': 0.8121395},\n",
       "   {'negative': 0.0071211504, 'neutral': 0.56485265, 'positive': 0.42802632},\n",
       "   {'negative': 0.004573084, 'neutral': 0.45750305, 'positive': 0.5379238},\n",
       "   {'negative': 0.088302515, 'neutral': 0.8646783, 'positive': 0.04701917},\n",
       "   {'negative': 0.011498167, 'neutral': 0.927814, 'positive': 0.060687754},\n",
       "   {'negative': 0.095378265, 'neutral': 0.82419825, 'positive': 0.08042357},\n",
       "   {'negative': 0.05589045, 'neutral': 0.7583903, 'positive': 0.18571928},\n",
       "   {'negative': 0.16277628, 'neutral': 0.7961933, 'positive': 0.04103037},\n",
       "   {'negative': 0.03792281, 'neutral': 0.89580363, 'positive': 0.06627345},\n",
       "   {'negative': 0.47170627, 'neutral': 0.5018301, 'positive': 0.026463574},\n",
       "   {'negative': 0.103779115, 'neutral': 0.82024026, 'positive': 0.07598069},\n",
       "   {'negative': 0.009234779, 'neutral': 0.870716, 'positive': 0.120049246},\n",
       "   {'negative': 0.01652377, 'neutral': 0.6299378, 'positive': 0.3535383},\n",
       "   {'negative': 0.4690475, 'neutral': 0.5150641, 'positive': 0.015888322},\n",
       "   {'negative': 0.023891063, 'neutral': 0.56579864, 'positive': 0.4103103},\n",
       "   {'negative': 0.004285455, 'neutral': 0.8837838, 'positive': 0.1119308},\n",
       "   {'negative': 0.29502758, 'neutral': 0.6902839, 'positive': 0.014688431},\n",
       "   {'negative': 0.020614395, 'neutral': 0.39156705, 'positive': 0.5878187},\n",
       "   {'negative': 0.1557236, 'neutral': 0.7682216, 'positive': 0.07605477},\n",
       "   {'negative': 0.15735707, 'neutral': 0.7438229, 'positive': 0.09881998},\n",
       "   {'negative': 0.18705201, 'neutral': 0.6901532, 'positive': 0.12279491},\n",
       "   {'negative': 0.1780554, 'neutral': 0.7764741, 'positive': 0.045470454},\n",
       "   {'negative': 0.14212875, 'neutral': 0.7959661, 'positive': 0.0619051},\n",
       "   {'negative': 0.03144694, 'neutral': 0.81627816, 'positive': 0.15227492},\n",
       "   {'negative': 0.82311386, 'neutral': 0.16620773, 'positive': 0.010678285},\n",
       "   {'negative': 0.0092981085, 'neutral': 0.6337425, 'positive': 0.35695922},\n",
       "   {'negative': 0.12258842, 'neutral': 0.81217504, 'positive': 0.06523661},\n",
       "   {'negative': 0.19905831, 'neutral': 0.7643837, 'positive': 0.03655802},\n",
       "   {'negative': 0.4789395, 'neutral': 0.49255133, 'positive': 0.02850911},\n",
       "   {'negative': 0.61531526, 'neutral': 0.32479942, 'positive': 0.05988541},\n",
       "   {'negative': 0.016575167, 'neutral': 0.44513196, 'positive': 0.5382929},\n",
       "   {'negative': 0.005168386, 'neutral': 0.66494626, 'positive': 0.32988542},\n",
       "   {'negative': 0.011137026, 'neutral': 0.94953346, 'positive': 0.03932939},\n",
       "   {'negative': 0.01016033, 'neutral': 0.7867209, 'positive': 0.2031188},\n",
       "   {'negative': 0.0070692725, 'neutral': 0.7989499, 'positive': 0.19398077},\n",
       "   {'negative': 0.015341156, 'neutral': 0.8683221, 'positive': 0.11633674},\n",
       "   {'negative': 0.004239293, 'neutral': 0.37431502, 'positive': 0.6214458},\n",
       "   {'negative': 0.02828615, 'neutral': 0.9371756, 'positive': 0.03453828},\n",
       "   {'negative': 0.007758654, 'neutral': 0.9072922, 'positive': 0.084949076},\n",
       "   {'negative': 0.004059588, 'neutral': 0.7779805, 'positive': 0.21796},\n",
       "   {'negative': 0.010911056, 'neutral': 0.90863925, 'positive': 0.08044956},\n",
       "   {'negative': 0.024094213, 'neutral': 0.6597214, 'positive': 0.3161844},\n",
       "   {'negative': 0.004386783, 'neutral': 0.8570108, 'positive': 0.13860245},\n",
       "   {'negative': 0.25467247, 'neutral': 0.687693, 'positive': 0.057634477},\n",
       "   {'negative': 0.025938854, 'neutral': 0.8560604, 'positive': 0.11800079},\n",
       "   {'negative': 0.009164332, 'neutral': 0.96007925, 'positive': 0.030756405},\n",
       "   {'negative': 0.006110604, 'neutral': 0.6405046, 'positive': 0.35338485},\n",
       "   {'negative': 0.02137219, 'neutral': 0.86207646, 'positive': 0.116551384},\n",
       "   {'negative': 0.0064011286, 'neutral': 0.6577263, 'positive': 0.3358725},\n",
       "   {'negative': 0.0102148345, 'neutral': 0.29219466, 'positive': 0.6975905},\n",
       "   {'negative': 0.28556678, 'neutral': 0.6849654, 'positive': 0.02946789},\n",
       "   {'negative': 0.0459167, 'neutral': 0.8703991, 'positive': 0.083684236},\n",
       "   {'negative': 0.028380308, 'neutral': 0.5844318, 'positive': 0.3871878},\n",
       "   {'negative': 0.009443426, 'neutral': 0.3783991, 'positive': 0.6121575},\n",
       "   {'negative': 0.81260496, 'neutral': 0.17829908, 'positive': 0.009095834},\n",
       "   {'negative': 0.12526314, 'neutral': 0.72968835, 'positive': 0.14504844},\n",
       "   {'negative': 0.08852711, 'neutral': 0.72089475, 'positive': 0.19057803}]}}"
      ]
     },
     "execution_count": 24,
     "metadata": {},
     "output_type": "execute_result"
    }
   ],
   "source": [
    "sa_report_full(new_test)"
   ]
  },
  {
   "cell_type": "code",
   "execution_count": null,
   "metadata": {},
   "outputs": [],
   "source": []
  }
 ],
 "metadata": {
  "kernelspec": {
   "display_name": "nlp",
   "language": "python",
   "name": "python3"
  },
  "language_info": {
   "codemirror_mode": {
    "name": "ipython",
    "version": 3
   },
   "file_extension": ".py",
   "mimetype": "text/x-python",
   "name": "python",
   "nbconvert_exporter": "python",
   "pygments_lexer": "ipython3",
   "version": "3.8.16"
  },
  "orig_nbformat": 4,
  "vscode": {
   "interpreter": {
    "hash": "8a7075bf2fd7d9443f5927cbe305d16adc40409c6450453d3f2d63137175e6ea"
   }
  }
 },
 "nbformat": 4,
 "nbformat_minor": 2
}
