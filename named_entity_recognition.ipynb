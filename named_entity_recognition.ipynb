{
 "cells": [
  {
   "attachments": {},
   "cell_type": "markdown",
   "metadata": {},
   "source": [
    "# Named Entity Recognition"
   ]
  },
  {
   "attachments": {},
   "cell_type": "markdown",
   "metadata": {},
   "source": [
    "## Data"
   ]
  },
  {
   "cell_type": "code",
   "execution_count": 1,
   "metadata": {},
   "outputs": [],
   "source": [
    "import pandas as pd\n",
    "import numpy as np\n",
    "import pymongo\n",
    "from pprint import pprint\n",
    "\n",
    "from collections import defaultdict\n",
    "import json"
   ]
  },
  {
   "cell_type": "code",
   "execution_count": 2,
   "metadata": {},
   "outputs": [],
   "source": [
    "client = pymongo.MongoClient('localhost', 27017)\n",
    "db = client[\"news\"]\n",
    "data = db[\"data\"]"
   ]
  },
  {
   "attachments": {},
   "cell_type": "markdown",
   "metadata": {},
   "source": [
    "## Model"
   ]
  },
  {
   "cell_type": "code",
   "execution_count": 3,
   "metadata": {},
   "outputs": [
    {
     "name": "stderr",
     "output_type": "stream",
     "text": [
      "/home/scurrra/Programs/Anaconda/envs/nlp/lib/python3.8/site-packages/tqdm/auto.py:22: TqdmWarning: IProgress not found. Please update jupyter and ipywidgets. See https://ipywidgets.readthedocs.io/en/stable/user_install.html\n",
      "  from .autonotebook import tqdm as notebook_tqdm\n"
     ]
    }
   ],
   "source": [
    "import flair, torch\n",
    "from flair.models import SequenceTagger\n",
    "from flair.tokenization import SegtokSentenceSplitter\n",
    "from flair.data import Sentence"
   ]
  },
  {
   "cell_type": "code",
   "execution_count": 4,
   "metadata": {},
   "outputs": [
    {
     "data": {
      "text/plain": [
       "True"
      ]
     },
     "execution_count": 4,
     "metadata": {},
     "output_type": "execute_result"
    }
   ],
   "source": [
    "torch.cuda.is_available()"
   ]
  },
  {
   "cell_type": "code",
   "execution_count": 5,
   "metadata": {},
   "outputs": [
    {
     "name": "stdout",
     "output_type": "stream",
     "text": [
      "Fri Feb 17 09:08:26 2023       \n",
      "+-----------------------------------------------------------------------------+\n",
      "| NVIDIA-SMI 525.89.02    Driver Version: 525.89.02    CUDA Version: 12.0     |\n",
      "|-------------------------------+----------------------+----------------------+\n",
      "| GPU  Name        Persistence-M| Bus-Id        Disp.A | Volatile Uncorr. ECC |\n",
      "| Fan  Temp  Perf  Pwr:Usage/Cap|         Memory-Usage | GPU-Util  Compute M. |\n",
      "|                               |                      |               MIG M. |\n",
      "|===============================+======================+======================|\n",
      "|   0  NVIDIA GeForce ...  Off  | 00000000:01:00.0 Off |                  N/A |\n",
      "| N/A   37C    P8    N/A /  N/A |      6MiB /  2048MiB |      0%      Default |\n",
      "|                               |                      |                  N/A |\n",
      "+-------------------------------+----------------------+----------------------+\n",
      "                                                                               \n",
      "+-----------------------------------------------------------------------------+\n",
      "| Processes:                                                                  |\n",
      "|  GPU   GI   CI        PID   Type   Process name                  GPU Memory |\n",
      "|        ID   ID                                                   Usage      |\n",
      "|=============================================================================|\n",
      "|    0   N/A  N/A      1406      G   /usr/lib/Xorg                       4MiB |\n",
      "+-----------------------------------------------------------------------------+\n"
     ]
    }
   ],
   "source": [
    "!nvidia-smi"
   ]
  },
  {
   "cell_type": "code",
   "execution_count": 6,
   "metadata": {},
   "outputs": [],
   "source": [
    "flair.device = torch.device(\"cuda:0\")"
   ]
  },
  {
   "cell_type": "code",
   "execution_count": 7,
   "metadata": {},
   "outputs": [
    {
     "name": "stdout",
     "output_type": "stream",
     "text": [
      "2023-02-17 09:08:27,925 loading file /home/scurrra/.flair/models/ner-english-fast/4c58e7191ff952c030b82db25b3694b58800b0e722ff15427f527e1631ed6142.e13c7c4664ffe2bbfa8f1f5375bd0dced866b8c1dd7ff89a6d705518abf0a611\n"
     ]
    },
    {
     "name": "stderr",
     "output_type": "stream",
     "text": [
      "/home/scurrra/Programs/Anaconda/envs/nlp/lib/python3.8/site-packages/huggingface_hub/file_download.py:629: FutureWarning: `cached_download` is the legacy way to download files from the HF hub, please consider upgrading to `hf_hub_download`\n",
      "  warnings.warn(\n"
     ]
    },
    {
     "name": "stdout",
     "output_type": "stream",
     "text": [
      "2023-02-17 09:08:29,762 SequenceTagger predicts: Dictionary with 20 tags: <unk>, O, S-ORG, S-MISC, B-PER, E-PER, S-LOC, B-ORG, E-ORG, I-PER, S-PER, B-MISC, I-MISC, E-MISC, I-ORG, B-LOC, E-LOC, I-LOC, <START>, <STOP>\n"
     ]
    }
   ],
   "source": [
    "splitter = SegtokSentenceSplitter()\n",
    "#tagger = SequenceTagger.load('ner')\n",
    "tagger = SequenceTagger.load('ner-fast')"
   ]
  },
  {
   "cell_type": "code",
   "execution_count": 8,
   "metadata": {},
   "outputs": [],
   "source": [
    "stats = {\n",
    "    \"last_new_indx\": -1,\n",
    "    \"PER\":  defaultdict(list),\n",
    "    \"LOC\":  defaultdict(list),\n",
    "    \"ORG\":  defaultdict(list),\n",
    "    \"MISC\": defaultdict(list)\n",
    "}"
   ]
  },
  {
   "cell_type": "code",
   "execution_count": 10,
   "metadata": {},
   "outputs": [],
   "source": [
    "def ner_eval(stats: dict, new: dict):\n",
    "    splitted = splitter.split(new[\"content\"])\n",
    "    splitted.append(Sentence(new[\"title\"]))\n",
    "    if isinstance(new[\"description\"], str):\n",
    "        splitted.extend(\n",
    "            splitter.split(new[\"description\"])\n",
    "        )\n",
    "\n",
    "    tagger.predict(splitted)\n",
    "\n",
    "    buf_stats = {\n",
    "        \"PER\":  defaultdict(int),\n",
    "        \"LOC\":  defaultdict(int),\n",
    "        \"ORG\":  defaultdict(int),\n",
    "        \"MISC\": defaultdict(int)\n",
    "    }     # костыль\n",
    "\n",
    "    # число вхождений в текст\n",
    "    for sentence in splitted:\n",
    "        for entity in sentence.get_spans(\"ner\"):\n",
    "            #print(entity)\n",
    "            buf_stats[entity.tag][entity.text] += 1 \n",
    "\n",
    "    for key in buf_stats.keys():\n",
    "        for entity in buf_stats[key].keys():\n",
    "            stats[key][entity].append((new[\"index\"], buf_stats[key][entity]))"
   ]
  },
  {
   "cell_type": "code",
   "execution_count": 12,
   "metadata": {},
   "outputs": [],
   "source": [
    "ner_stats = db[\"ner_stats\"]\n",
    "# ner_stats.insert_one(stats)\n",
    "\n",
    "ner_stats__sa_full = db[\"ner_stats__sa_full\"]\n",
    "# ner_stats__sa_full.insert_one({\n",
    "#     \"PER\":  defaultdict(list),\n",
    "#     \"LOC\":  defaultdict(list),\n",
    "#     \"ORG\":  defaultdict(list),\n",
    "#     \"MISC\": defaultdict(list)\n",
    "# })"
   ]
  },
  {
   "attachments": {},
   "cell_type": "markdown",
   "metadata": {},
   "source": [
    "### Test on one of the news"
   ]
  },
  {
   "cell_type": "code",
   "execution_count": 11,
   "metadata": {},
   "outputs": [],
   "source": [
    "stats = {\n",
    "    \"PER\":  defaultdict(list),\n",
    "    \"LOC\":  defaultdict(list),\n",
    "    \"ORG\":  defaultdict(list),\n",
    "    \"MISC\": defaultdict(list)\n",
    "}"
   ]
  },
  {
   "cell_type": "code",
   "execution_count": 12,
   "metadata": {},
   "outputs": [],
   "source": [
    "new_test = data.find_one({\"index\": 4712})\n",
    "new_test;"
   ]
  },
  {
   "cell_type": "code",
   "execution_count": 13,
   "metadata": {},
   "outputs": [
    {
     "data": {
      "text/plain": [
       "[Sentence: \"( CNN ) Right now , there 's a shortage of truck drivers in the US and worldwide , exacerbated by the e-commerce boom brought on by the pandemic .\",\n",
       " Sentence: \"One solution to the problem is autonomous trucks , and several companies are in a race to be the first to launch one .\",\n",
       " Sentence: \"Among them is San Diego-based TuSimple.Founded in 2015 , TuSimple has completed about 2 million miles of road tests with its 70 prototype trucks across the US , China and Europe .\",\n",
       " Sentence: \"Although these are simply commercially available trucks retrofitted with its technology , TuSimple has deals in place with two of the world 's largest truck manufacturers -- Navistar in the US and Traton , Volkswagen 's trucking business , in Europe -- to design and build fully autonomous models , which it hopes to launch by 2024 .\",\n",
       " Sentence: \"Photos : The Yara Birkeland is what its builders call the world 's first zero-emission , autonomous cargo ship .\",\n",
       " Sentence: \"The ship is scheduled to make its first journey between two Norwegian towns before the end of the year .\",\n",
       " Sentence: \"Click through to see more forms of transport set to transform the future.Hide Caption 1 of 13 Photos : Pictured here as a rendering , Oceanbird is a wind-powered transatlantic car carrier that cuts carbon emissions by 90 % , compared to a standard car carrier.Hide Caption 2 of 13 Photos : It 's not just maritime ships that are going green .\",\n",
       " Sentence: \"Cities around the world are adopting electric ferries .\",\n",
       " Sentence: \"Norwegian startup Zeabuz hopes its self-driving electric ferry ( pictured here as a rendering ) will help revive urban waterways.Hide Caption 3 of 13 Photos : In China , a new Maglev high-speed train rolls off the production line in Qingdao , east China 's Shandong Province , on July 20 .\",\n",
       " Sentence: \"It has a top speed of 600 km per hour -- currently the fastest ground vehicle available globally .\",\n",
       " Sentence: \"Hide Caption 4 of 13 Photos : Reaching speeds of up to 1,000 kilometers ( 620 miles ) per hour , Hyperloop could be a sustainable replacement to short-haul flights .\",\n",
       " Sentence: \"Dutch company Hardt ( shown here as a rendering ) started work on its Hyperloop test facility in Europe , anticipated to open in 2022.Hide Caption 5 of 13 Photos : Hyperloop is like a bullet train , without tracks and rails .\",\n",
       " Sentence: \"Floating pods are propelled through a low-pressure steel tube using magnetic levitation .\",\n",
       " Sentence: \"Virgin has been running tests with passengers on its XP-2 vehicle , pictured here.Hide Caption 6 of 13 Photos : Low carbon travel is n't just about switching to sustainable fuel sources -- it 's also about redesigning the transport itself .\",\n",
       " Sentence: \"A \" Flying-V \" plane designed by Delft 's University of Technology in the Netherlands and Dutch airline KLM can cut fuel consumption by 20 % .\",\n",
       " Sentence: \"Ultimately , researchers hope to switch out the kerosene with a sustainable fuel source , like liquid hydrogen.Hide Caption 7 of 13 Photos : Hydrogen aviation could provide a sustainable solution for short and medium-haul flights .\",\n",
       " Sentence: \"In September , Airbus unveiled plans for three hydrogen-powered , zero-emission aircraft which can carry 100 to 200 passengers .\",\n",
       " Sentence: \"It hopes to launch the first ZEROe aircraft in 2035.Hide Caption 8 of 13 Photos : In December 2019 , Canadian airline Harbour Air flew the world 's first all-electric , zero-emission commercial aircraft .\",\n",
       " Sentence: \"The six-seater seaplane was retrofitted with magniX 's magni500 all-electric motor .\",\n",
       " Sentence: \"Harbour Air -- which carries half a million passengers annually -- hopes to become the world 's first all-electric airline .\",\n",
       " Sentence: \"Hide Caption 9 of 13 Photos : In the case of electric bikes , the future is now : one retailer reported the sale of e-bikes and e-scooters had increased 230 % this year .\",\n",
       " Sentence: \"E-bikes give the user a boost to their pedaling , allowing them to go further with less effort .\",\n",
       " Sentence: \"E-bikes are now even available on ride-share apps , like Uber.Hide Caption 10 of 13 Photos : While sleeper trains or buses might be the way most of us get some shut-eye on overnight travel , this rendering of a self-driving hotel suite from Toronto-based designer Steve Lee of Aprilli Design Studio might offer a plush alternative in the future.Hide Caption 11 of 13 Photos : In the UAE , these futuristic-looking pods are undergoing testing on a 400-meter line in Sharjah , which borders Dubai .\",\n",
       " Sentence: \"Belarus-based uSky Transport says its pods can help cities solve traffic problems.Hide Caption 12 of 13 Photos : The Coradia iLint by French rail transport company Alstom is the world 's first hydrogen-powered passenger train .\",\n",
       " Sentence: \"It began testing in Germany in 2018 , and in September 2020 entered regular service in Austria.Hide Caption 13 of 13No sleepTuSimple 's latest road test involved hauling fresh produce 951 miles , from Nogales , Arizona to Oklahoma City .\",\n",
       " Sentence: \"The pickup and the dropoff were handled by a human driver , but for the bulk of the route -- from Tucson to Dallas -- the truck drove itself .\",\n",
       " Sentence: \"Read More \" Today , because the system is not fully ready , we have a safety driver and a safety engineer on board at all times when we 're testing , but we drove in full autonomy : the driver was n't touching the wheel ,\" said Cheng Lu , TuSimple 's president and CEO .\",\n",
       " Sentence: \"The journey was completed in 14 hours versus the usual 24 with a human driver , mostly because a truck does n't need to sleep .\",\n",
       " Sentence: \"\" In the US , a driver can only work 11 hours a day .\",\n",
       " Sentence: \"We simply had a handoff when our first pair of drivers had to stop because they reached their 11 hours of operation ,\" said Lu .\",\n",
       " Sentence: \"That , of course , negates the advantage of an autonomous system , so the idea is that once TuSimple 's trucks hit the market , there will be no need to have anyone onboard .\",\n",
       " Sentence: \"Picking up the watermelons still required the human touch.Unlike self-driving cars , which are a still a way from being commercially available , TuSimple trucks wo n't be required to operate in bustling city traffic , but only on stretches of highway that have been thoroughly mapped via the company 's own software .\",\n",
       " Sentence: \"\" We collect data from the roads , and we create this very detailed , high definition map of each route .\",\n",
       " Sentence: \"That adds another layer of safety for the vehicles ,\" said Lu .\",\n",
       " Sentence: \"As a result , TuSimple 's trucks will only be able to self-drive along these pre-mapped trade corridors , which Lu calls \" virtual railroads ,\" and nowhere else .\",\n",
       " Sentence: \"This swarm of robots gets smarter the more it worksAccording to the company , in the US 80 % of goods travel through just 10 % of the nation 's trade corridors , so even selective mapping allows for capturing a large portion of the business .\",\n",
       " Sentence: \"TuSimple is currently mapping routes between Arizona and Texas , and plans to have mapped routes across the nation by 2024 .\",\n",
       " Sentence: \"Its plans are dependent on state legislation , however , because currently some states do not allow for testing of autonomous trucks on public roads .\",\n",
       " Sentence: \"Happier drivers ? The technology will add about $ 50,000 to the cost of a truck , making the final price roughly $ 200,000 .\",\n",
       " Sentence: \"According to Lu , that 's still cheaper than paying for a human driver .\",\n",
       " Sentence: \"\" If you take $ 50,000 and divide it by 1 million miles , the average lifespan of a truck , that means you 're adding five cents per mile .\",\n",
       " Sentence: \"But you 're saving the cost of a human driver , which based on average US wages is about $ 80,000 to $ 120,000 per year -- or 80 cents to $ 1.20 per mile .\",\n",
       " Sentence: \"Today , the direct labor cost is about 50 % of the cost of operating a truck ,\" he said .\",\n",
       " Sentence: \"Read : A robotic ' Ironhand ' could protect factory workers from injuriesThat does n't mean driverless trucks will take away jobs , according to Lu .\",\n",
       " Sentence: \"By focusing on the \" middle mile ,\" rather than on the pickup and delivery of the goods , TuSimple believes it can create new freight capacity without creating new demand for drivers , while at the same time protecting existing jobs .\",\n",
       " Sentence: \"\" A UPS driver is dropping off 200 packages a day -- that 's not what autonomy is meant for .\",\n",
       " Sentence: \"We believe that every driver will be able to retire as a driver , even if they enter the workforce today ,\" said Lu .\",\n",
       " Sentence: \"TuSimple 's autonomous fleet.Instead , TuSimple aims to take over the routes between terminals and distribution centers , which involve long stretches of monotonous driving .\",\n",
       " Sentence: \"\" Take Phoenix to El Paso : that 's a six-hour drive .\",\n",
       " Sentence: \"A person cannot make the round trip , because it 's more than 11 hours .\",\n",
       " Sentence: \"But the truck can go back and forth all day , the most mundane job that drivers do n't want to do .\",\n",
       " Sentence: \"That means you free up that human driver to do the first and the last mile ( pickup and delivery ). They get to work a full day , which is a more efficient use of their time , and they get to go home at night to their family ,\" said Lu.No distractions Although Lu says that the reliability of both the software and the hardware still needs to be increased , TuSimple is planning its first fully autonomous tests , without a human safety driver in the cabin at all , before the end of the year .\",\n",
       " Sentence: \"The results of such tests will indicate whether the company can meet its goal to launch its own trucks by 2024 .\",\n",
       " Sentence: \"Lu says that 7,000 have been reserved in the US alone .\",\n",
       " Sentence: \"Photos : The robots running our warehouses Photos : The robots running our warehousesRobots are an increasingly familiar presence in warehouses .\",\n",
       " Sentence: \"At the south-east London warehouse run by British online supermarket Ocado , 3,000 robots fulfill shopping orders .\",\n",
       " Sentence: \"When an order is sent to the warehouse , the bots spring to life and head towards the container they require .\",\n",
       " Sentence: \"Scroll through to see more robots that are revolutionizing warehouses.Hide Caption 1 of 8 Photos : The robots running our warehousesIn response to the coronavirus pandemic , MIT collaborated with Ava Robotics and the Greater Boston Food Bank to design a robot that can use UV light to sanitize the floor of a 4,000-square foot warehouse in just 30 minutes .\",\n",
       " Sentence: \"Hide Caption 2 of 8 Photos : The robots running our warehousesSeven-foot \" Model-T \" robots produced by Japanese startup Telexistence have been stacking shelves in two of Tokyo 's largest convenience store franchises .\",\n",
       " Sentence: \"Featuring cameras , microphones and sensors , the Model-T uses three \" fingers \" to stock items such as bottled drinks , cans and rice bowls .\",\n",
       " Sentence: \"The robot is controlled by shop staff remotely.Hide Caption 3 of 8 Photos : The robots running our warehousesUS company Boston Dynamics has become known for its advanced work robots .\",\n",
       " Sentence: \"\" Handle \" is made for the warehouse and equipped with an on-board vision system .\",\n",
       " Sentence: \"It can lift boxes weighing over 30 pounds .\",\n",
       " Sentence: \"Hide Caption 4 of 8 Photos : The robots running our warehousesStretch is the latest robot from Boston Dynamics and can work in warehouses and distribution centers .\",\n",
       " Sentence: \"Designed to keep human workers out of harm 's way , Stretch 's tentacle-like grippers mean it can manipulate boxes .\",\n",
       " Sentence: \"Hide Caption 5 of 8 Photos : The robots running our warehousesAlthough not specifically designed for warehouses , Boston Dynamics' dog-like robot \" Spot \" can lift objects , pick itself up after a fall , open and walk through doors , and even remind people to practice social distancing .\",\n",
       " Sentence: \"Hide Caption 6 of 8 Photos : The robots running our warehousesThis robot is used to plant seeds and check plants at the \" Nordic Harvest \" vertical farm based in Taastrup , Denmark .\",\n",
       " Sentence: \"The indoor farm is one of the biggest in Europe.Hide Caption 7 of 8 Photos : The robots running our warehousesRobots sort packages at a warehouse run by JD.com -- one of China 's largest e-commerce firms , in Wuhan , China , ahead of the annual Singles Day online shopping bonanza , in 2019.Hide Caption 8 of 8 TuSimple has prominent competitors , such as Google spinoff Waymo and Uber-backed Aurora , but those are working on a wider range of self-driving vehicles , including passenger cars .\",\n",
       " Sentence: \"TuSimple is working exclusively on driverless trucks , like US companies Plus and Embark .\",\n",
       " Sentence: \"Grayson Brulte , an autonomy expert at consulting firm Brulte & Co. , believes TuSimple is on the right track .\",\n",
       " Sentence: \"\" The biggest competitive advantage that TuSimple has over its competitors is that their technology was purpose-built for trucking .\",\n",
       " Sentence: \"They 're not trying to port an autonomy system built for passenger vehicles in dense urban environments to trucking or to build a virtual driver which can both drive passenger vehicles and class-8 trucks .\",\n",
       " Sentence: \"These are different skills and different systems altogether ,\" he said .\",\n",
       " Sentence: \"Removing the human element on long trucking routes has other benefits .\",\n",
       " Sentence: \"The company says its trucks react 15 times faster than human drivers , and can see farther down the road , even at night .\",\n",
       " Sentence: \"\" In the US every year there are about 5,000 fatalities involving trucks , and most are due to human error ,\" said Lu .\",\n",
       " Sentence: \"\" The truck does n't get tired , does n't watch a movie or look at a phone .\",\n",
       " Sentence: \"It does n't get distracted . \"\",\n",
       " Sentence: \"There 's a shortage of truckers , but TuSimple thinks it has a solution : no driver needed - CNN\",\n",
       " Sentence: \"The e-commerce boom has exacerbated a global truck driver shortage , but could autonomous trucks help fix the problem ?\"]"
      ]
     },
     "execution_count": 13,
     "metadata": {},
     "output_type": "execute_result"
    }
   ],
   "source": [
    "test_splitted = splitter.split(new_test[\"content\"])\n",
    "test_splitted.append(Sentence(new_test[\"title\"]))\n",
    "if isinstance(new_test[\"description\"], str):\n",
    "    test_splitted.extend(\n",
    "        splitter.split(new_test[\"description\"])\n",
    "    )\n",
    "\n",
    "test_splitted"
   ]
  },
  {
   "cell_type": "code",
   "execution_count": 14,
   "metadata": {},
   "outputs": [],
   "source": [
    "tagger.predict(test_splitted)"
   ]
  },
  {
   "cell_type": "code",
   "execution_count": 15,
   "metadata": {},
   "outputs": [
    {
     "data": {
      "text/plain": [
       "'Span[15:16]: \"US\"'/'LOC' (0.999)"
      ]
     },
     "execution_count": 15,
     "metadata": {},
     "output_type": "execute_result"
    }
   ],
   "source": [
    "test_splitted[0].get_spans(\"ner\")[0].get_label()"
   ]
  },
  {
   "cell_type": "code",
   "execution_count": 16,
   "metadata": {},
   "outputs": [
    {
     "data": {
      "text/plain": [
       "'US'"
      ]
     },
     "execution_count": 16,
     "metadata": {},
     "output_type": "execute_result"
    }
   ],
   "source": [
    "test_splitted[0].get_spans(\"ner\")[0].text"
   ]
  },
  {
   "cell_type": "code",
   "execution_count": 17,
   "metadata": {},
   "outputs": [
    {
     "data": {
      "text/plain": [
       "'LOC'"
      ]
     },
     "execution_count": 17,
     "metadata": {},
     "output_type": "execute_result"
    }
   ],
   "source": [
    "test_splitted[0].get_spans(\"ner\")[0].tag"
   ]
  },
  {
   "cell_type": "code",
   "execution_count": 18,
   "metadata": {},
   "outputs": [
    {
     "data": {
      "text/plain": [
       "0.9989510774612427"
      ]
     },
     "execution_count": 18,
     "metadata": {},
     "output_type": "execute_result"
    }
   ],
   "source": [
    "test_splitted[0].get_spans(\"ner\")[0].score"
   ]
  },
  {
   "cell_type": "code",
   "execution_count": 19,
   "metadata": {},
   "outputs": [],
   "source": [
    "INDX = 4712"
   ]
  },
  {
   "cell_type": "code",
   "execution_count": 20,
   "metadata": {},
   "outputs": [
    {
     "name": "stdout",
     "output_type": "stream",
     "text": [
      "PER\n",
      "defaultdict(<class 'list'>,\n",
      "            {'Cheng Lu': [(4712, 1)],\n",
      "             'Grayson Brulte': [(4712, 1)],\n",
      "             'Lu': [(4712, 9)],\n",
      "             'Steve Lee': [(4712, 1)],\n",
      "             'Stretch': [(4712, 1)],\n",
      "             'TuSimple': [(4712, 2)]})\n",
      "LOC\n",
      "defaultdict(<class 'list'>,\n",
      "            {'Arizona': [(4712, 2)],\n",
      "             'Aurora': [(4712, 1)],\n",
      "             'Boston': [(4712, 1)],\n",
      "             'China': [(4712, 5)],\n",
      "             'Dallas': [(4712, 1)],\n",
      "             'Denmark': [(4712, 1)],\n",
      "             'Dubai': [(4712, 1)],\n",
      "             'El Paso': [(4712, 1)],\n",
      "             'Europe': [(4712, 3)],\n",
      "             'Germany': [(4712, 1)],\n",
      "             'London': [(4712, 1)],\n",
      "             'Maglev': [(4712, 1)],\n",
      "             'Netherlands': [(4712, 1)],\n",
      "             'Nogales': [(4712, 1)],\n",
      "             'Oklahoma City': [(4712, 1)],\n",
      "             'Phoenix': [(4712, 1)],\n",
      "             'Qingdao': [(4712, 1)],\n",
      "             'Shandong Province': [(4712, 1)],\n",
      "             'Sharjah': [(4712, 1)],\n",
      "             'Taastrup': [(4712, 1)],\n",
      "             'Texas': [(4712, 1)],\n",
      "             'Tokyo': [(4712, 1)],\n",
      "             'TuSimple': [(4712, 2)],\n",
      "             'Tucson': [(4712, 1)],\n",
      "             'UAE': [(4712, 1)],\n",
      "             'US': [(4712, 9)],\n",
      "             'Wuhan': [(4712, 1)]})\n",
      "ORG\n",
      "defaultdict(<class 'list'>,\n",
      "            {'13No sleepTuSimple': [(4712, 1)],\n",
      "             'Airbus': [(4712, 1)],\n",
      "             'Alstom': [(4712, 1)],\n",
      "             'Aprilli Design Studio': [(4712, 1)],\n",
      "             'Ava Robotics': [(4712, 1)],\n",
      "             'Boston Dynamics': [(4712, 2)],\n",
      "             'Brulte & Co.': [(4712, 1)],\n",
      "             'CNN': [(4712, 1)],\n",
      "             \"Delft 's University of Technology\": [(4712, 1)],\n",
      "             'Embark': [(4712, 1)],\n",
      "             'Google': [(4712, 1)],\n",
      "             'Greater Boston Food Bank': [(4712, 1)],\n",
      "             'Harbour Air': [(4712, 2)],\n",
      "             'Hardt': [(4712, 1)],\n",
      "             'Hyperloop': [(4712, 1)],\n",
      "             'KLM': [(4712, 1)],\n",
      "             'MIT': [(4712, 1)],\n",
      "             'Model-T': [(4712, 1)],\n",
      "             'Navistar': [(4712, 1)],\n",
      "             'Nordic Harvest': [(4712, 1)],\n",
      "             'Ocado': [(4712, 1)],\n",
      "             'Plus': [(4712, 1)],\n",
      "             'Telexistence': [(4712, 1)],\n",
      "             'Traton': [(4712, 1)],\n",
      "             'TuSimple': [(4712, 12)],\n",
      "             'TuSimple.Founded': [(4712, 1)],\n",
      "             'UPS': [(4712, 1)],\n",
      "             'Virgin': [(4712, 1)],\n",
      "             'Volkswagen': [(4712, 1)],\n",
      "             'Waymo': [(4712, 1)],\n",
      "             'ZEROe': [(4712, 1)],\n",
      "             'Zeabuz': [(4712, 1)],\n",
      "             'uSky Transport': [(4712, 1)]})\n",
      "MISC\n",
      "defaultdict(<class 'list'>,\n",
      "            {'Belarus-based': [(4712, 1)],\n",
      "             'British': [(4712, 1)],\n",
      "             'Canadian': [(4712, 1)],\n",
      "             'Dutch': [(4712, 2)],\n",
      "             'French': [(4712, 1)],\n",
      "             'Hyperloop': [(4712, 2)],\n",
      "             'Ironhand': [(4712, 1)],\n",
      "             'JD.com': [(4712, 1)],\n",
      "             'Japanese': [(4712, 1)],\n",
      "             'Norwegian': [(4712, 2)],\n",
      "             'Oceanbird': [(4712, 1)],\n",
      "             'San Diego-based': [(4712, 1)],\n",
      "             'Singles Day': [(4712, 1)],\n",
      "             'Toronto-based': [(4712, 1)],\n",
      "             'XP-2': [(4712, 1)],\n",
      "             'Yara Birkeland': [(4712, 1)]})\n"
     ]
    },
    {
     "data": {
      "text/plain": [
       "{'PER': defaultdict(list,\n",
       "             {'Steve Lee': [(4712, 1)],\n",
       "              'Cheng Lu': [(4712, 1)],\n",
       "              'TuSimple': [(4712, 2)],\n",
       "              'Lu': [(4712, 9)],\n",
       "              'Stretch': [(4712, 1)],\n",
       "              'Grayson Brulte': [(4712, 1)]}),\n",
       " 'LOC': defaultdict(list,\n",
       "             {'US': [(4712, 9)],\n",
       "              'China': [(4712, 5)],\n",
       "              'Europe': [(4712, 3)],\n",
       "              'Maglev': [(4712, 1)],\n",
       "              'Qingdao': [(4712, 1)],\n",
       "              'Shandong Province': [(4712, 1)],\n",
       "              'Netherlands': [(4712, 1)],\n",
       "              'UAE': [(4712, 1)],\n",
       "              'Sharjah': [(4712, 1)],\n",
       "              'Dubai': [(4712, 1)],\n",
       "              'Germany': [(4712, 1)],\n",
       "              'Nogales': [(4712, 1)],\n",
       "              'Arizona': [(4712, 2)],\n",
       "              'Oklahoma City': [(4712, 1)],\n",
       "              'Tucson': [(4712, 1)],\n",
       "              'Dallas': [(4712, 1)],\n",
       "              'TuSimple': [(4712, 2)],\n",
       "              'Texas': [(4712, 1)],\n",
       "              'Phoenix': [(4712, 1)],\n",
       "              'El Paso': [(4712, 1)],\n",
       "              'London': [(4712, 1)],\n",
       "              'Tokyo': [(4712, 1)],\n",
       "              'Boston': [(4712, 1)],\n",
       "              'Taastrup': [(4712, 1)],\n",
       "              'Denmark': [(4712, 1)],\n",
       "              'Wuhan': [(4712, 1)],\n",
       "              'Aurora': [(4712, 1)]}),\n",
       " 'ORG': defaultdict(list,\n",
       "             {'TuSimple.Founded': [(4712, 1)],\n",
       "              'TuSimple': [(4712, 12)],\n",
       "              'Navistar': [(4712, 1)],\n",
       "              'Traton': [(4712, 1)],\n",
       "              'Volkswagen': [(4712, 1)],\n",
       "              'Zeabuz': [(4712, 1)],\n",
       "              'Hyperloop': [(4712, 1)],\n",
       "              'Hardt': [(4712, 1)],\n",
       "              'Virgin': [(4712, 1)],\n",
       "              \"Delft 's University of Technology\": [(4712, 1)],\n",
       "              'KLM': [(4712, 1)],\n",
       "              'Airbus': [(4712, 1)],\n",
       "              'ZEROe': [(4712, 1)],\n",
       "              'Harbour Air': [(4712, 2)],\n",
       "              'Aprilli Design Studio': [(4712, 1)],\n",
       "              'uSky Transport': [(4712, 1)],\n",
       "              'Alstom': [(4712, 1)],\n",
       "              '13No sleepTuSimple': [(4712, 1)],\n",
       "              'UPS': [(4712, 1)],\n",
       "              'Ocado': [(4712, 1)],\n",
       "              'MIT': [(4712, 1)],\n",
       "              'Ava Robotics': [(4712, 1)],\n",
       "              'Greater Boston Food Bank': [(4712, 1)],\n",
       "              'Telexistence': [(4712, 1)],\n",
       "              'Model-T': [(4712, 1)],\n",
       "              'Boston Dynamics': [(4712, 2)],\n",
       "              'Nordic Harvest': [(4712, 1)],\n",
       "              'Google': [(4712, 1)],\n",
       "              'Waymo': [(4712, 1)],\n",
       "              'Plus': [(4712, 1)],\n",
       "              'Embark': [(4712, 1)],\n",
       "              'Brulte & Co.': [(4712, 1)],\n",
       "              'CNN': [(4712, 1)]}),\n",
       " 'MISC': defaultdict(list,\n",
       "             {'San Diego-based': [(4712, 1)],\n",
       "              'Yara Birkeland': [(4712, 1)],\n",
       "              'Norwegian': [(4712, 2)],\n",
       "              'Oceanbird': [(4712, 1)],\n",
       "              'Dutch': [(4712, 2)],\n",
       "              'Hyperloop': [(4712, 2)],\n",
       "              'XP-2': [(4712, 1)],\n",
       "              'Canadian': [(4712, 1)],\n",
       "              'Toronto-based': [(4712, 1)],\n",
       "              'Belarus-based': [(4712, 1)],\n",
       "              'French': [(4712, 1)],\n",
       "              'Ironhand': [(4712, 1)],\n",
       "              'British': [(4712, 1)],\n",
       "              'Japanese': [(4712, 1)],\n",
       "              'JD.com': [(4712, 1)],\n",
       "              'Singles Day': [(4712, 1)]})}"
      ]
     },
     "execution_count": 20,
     "metadata": {},
     "output_type": "execute_result"
    }
   ],
   "source": [
    "buf_stats = {\n",
    "    \"PER\":  defaultdict(list),\n",
    "    \"LOC\":  defaultdict(list),\n",
    "    \"ORG\":  defaultdict(list),\n",
    "    \"MISC\": defaultdict(list)\n",
    "}     # костыль\n",
    "\n",
    "for sentence in test_splitted:\n",
    "    for entity in sentence.get_spans(\"ner\"):\n",
    "        #print(entity)\n",
    "        buf_stats[entity.tag][entity.text].append(1) \n",
    "\n",
    "for key in buf_stats.keys():\n",
    "    for entity in buf_stats[key].keys():\n",
    "        stats[key][entity].append((INDX, sum(buf_stats[key][entity])))\n",
    "    print(key)\n",
    "    pprint(stats[key])\n",
    "\n",
    "stats"
   ]
  },
  {
   "attachments": {},
   "cell_type": "markdown",
   "metadata": {},
   "source": [
    "## Evaluating"
   ]
  },
  {
   "cell_type": "code",
   "execution_count": 26,
   "metadata": {},
   "outputs": [],
   "source": [
    "from tqdm import tqdm"
   ]
  },
  {
   "attachments": {},
   "cell_type": "markdown",
   "metadata": {},
   "source": [
    "### SA-Full dataset"
   ]
  },
  {
   "cell_type": "code",
   "execution_count": 20,
   "metadata": {},
   "outputs": [],
   "source": [
    "sa_full_indx = sorted([_[\"index\"] for _ in db[\"sa_full\"].find()])"
   ]
  },
  {
   "cell_type": "code",
   "execution_count": 34,
   "metadata": {},
   "outputs": [
    {
     "data": {
      "text/plain": [
       "{'PER': 2409, 'LOC': 630, 'ORG': 895, 'MISC': 1100}"
      ]
     },
     "execution_count": 34,
     "metadata": {},
     "output_type": "execute_result"
    }
   ],
   "source": [
    "stats__sa_full = list(ner_stats__sa_full.find())[-1]\n",
    "\n",
    "for key in [\"PER\", \"LOC\", \"ORG\", \"MISC\"]:\n",
    "    stats__sa_full[key] = defaultdict(list, stats__sa_full[key])\n",
    "\n",
    "{key: len(stats__sa_full[key]) for key in [\"PER\", \"LOC\", \"ORG\", \"MISC\"]}"
   ]
  },
  {
   "cell_type": "code",
   "execution_count": 25,
   "metadata": {},
   "outputs": [],
   "source": [
    "samples = data.find({\"index\": {\"$in\": sa_full_indx}})"
   ]
  },
  {
   "cell_type": "code",
   "execution_count": 27,
   "metadata": {},
   "outputs": [
    {
     "name": "stderr",
     "output_type": "stream",
     "text": [
      "100%|██████████| 97/97 [03:17<00:00,  2.03s/it]"
     ]
    },
    {
     "name": "stdout",
     "output_type": "stream",
     "text": [
      "[]\n"
     ]
    },
    {
     "name": "stderr",
     "output_type": "stream",
     "text": [
      "\n"
     ]
    }
   ],
   "source": [
    "ner_samples_failed__sa_full = []\n",
    "for new in tqdm(samples, total=len(sa_full_indx)):\n",
    "    try:\n",
    "        ner_eval(stats__sa_full, new)\n",
    "    except:\n",
    "        ner_samples_failed__sa_full.append(new[\"index\"])\n",
    "print(ner_samples_failed__sa_full)"
   ]
  },
  {
   "cell_type": "code",
   "execution_count": 33,
   "metadata": {},
   "outputs": [
    {
     "data": {
      "text/plain": [
       "{'PER': 2409, 'LOC': 630, 'ORG': 895, 'MISC': 1100}"
      ]
     },
     "execution_count": 33,
     "metadata": {},
     "output_type": "execute_result"
    }
   ],
   "source": [
    "{key: len(stats__sa_full[key]) for key in [\"PER\", \"LOC\", \"ORG\", \"MISC\"]}"
   ]
  },
  {
   "cell_type": "code",
   "execution_count": 29,
   "metadata": {},
   "outputs": [
    {
     "data": {
      "text/plain": [
       "<pymongo.results.UpdateResult at 0x7f3e441ab580>"
      ]
     },
     "execution_count": 29,
     "metadata": {},
     "output_type": "execute_result"
    }
   ],
   "source": [
    "ner_stats__sa_full.update_one({\"_id\": stats__sa_full[\"_id\"]}, {\"$set\": stats__sa_full})"
   ]
  },
  {
   "attachments": {},
   "cell_type": "markdown",
   "metadata": {},
   "source": [
    "### Full dataset"
   ]
  },
  {
   "cell_type": "code",
   "execution_count": 35,
   "metadata": {},
   "outputs": [
    {
     "data": {
      "text/plain": [
       "{'PER': 9122, 'LOC': 2053, 'ORG': 7823, 'MISC': 3845}"
      ]
     },
     "execution_count": 35,
     "metadata": {},
     "output_type": "execute_result"
    }
   ],
   "source": [
    "stats = list(ner_stats.find())[-1]\n",
    "\n",
    "for key in [\"PER\", \"LOC\", \"ORG\", \"MISC\"]:\n",
    "    stats[key] = defaultdict(list, stats[key])\n",
    "\n",
    "{key: len(stats[key]) for key in [\"PER\", \"LOC\", \"ORG\", \"MISC\"]}"
   ]
  },
  {
   "cell_type": "code",
   "execution_count": 37,
   "metadata": {},
   "outputs": [],
   "source": [
    "N_SAMPLES = 1000"
   ]
  },
  {
   "cell_type": "code",
   "execution_count": 48,
   "metadata": {},
   "outputs": [],
   "source": [
    "samples = data.find({\"index\": {\"$gt\": stats[\"last_new_indx\"], \"$lte\": stats[\"last_new_indx\"]+N_SAMPLES}})"
   ]
  },
  {
   "cell_type": "code",
   "execution_count": 49,
   "metadata": {},
   "outputs": [
    {
     "name": "stderr",
     "output_type": "stream",
     "text": [
      "100%|██████████| 1000/1000 [26:21<00:00,  1.58s/it]"
     ]
    },
    {
     "name": "stdout",
     "output_type": "stream",
     "text": [
      "[5295]\n"
     ]
    },
    {
     "name": "stderr",
     "output_type": "stream",
     "text": [
      "\n"
     ]
    }
   ],
   "source": [
    "ner_samples_failed = []\n",
    "for new in tqdm(samples, total=N_SAMPLES):\n",
    "    try:\n",
    "        ner_eval(stats, new)\n",
    "    except:\n",
    "        ner_samples_failed.append(new[\"index\"])\n",
    "stats[\"last_new_indx\"] += N_SAMPLES\n",
    "print(ner_samples_failed)"
   ]
  },
  {
   "cell_type": "code",
   "execution_count": 50,
   "metadata": {},
   "outputs": [
    {
     "data": {
      "text/plain": [
       "5999"
      ]
     },
     "execution_count": 50,
     "metadata": {},
     "output_type": "execute_result"
    }
   ],
   "source": [
    "stats[\"last_new_indx\"]"
   ]
  },
  {
   "cell_type": "code",
   "execution_count": 51,
   "metadata": {},
   "outputs": [
    {
     "data": {
      "text/plain": [
       "{'PER': 27780, 'LOC': 7065, 'ORG': 18536, 'MISC': 11428}"
      ]
     },
     "execution_count": 51,
     "metadata": {},
     "output_type": "execute_result"
    }
   ],
   "source": [
    "{key: len(stats[key]) for key in [\"PER\", \"LOC\", \"ORG\", \"MISC\"]}"
   ]
  },
  {
   "cell_type": "code",
   "execution_count": 52,
   "metadata": {},
   "outputs": [
    {
     "data": {
      "text/plain": [
       "<pymongo.results.UpdateResult at 0x7f3e3f63b340>"
      ]
     },
     "execution_count": 52,
     "metadata": {},
     "output_type": "execute_result"
    }
   ],
   "source": [
    "ner_stats.update_one({\"_id\": stats[\"_id\"]}, {\"$set\": stats})"
   ]
  },
  {
   "cell_type": "code",
   "execution_count": 30,
   "metadata": {},
   "outputs": [],
   "source": [
    "# ner_stats.remove({\"_id\": stats[\"_id\"]})"
   ]
  },
  {
   "cell_type": "code",
   "execution_count": null,
   "metadata": {},
   "outputs": [],
   "source": []
  }
 ],
 "metadata": {
  "kernelspec": {
   "display_name": "nlp",
   "language": "python",
   "name": "python3"
  },
  "language_info": {
   "codemirror_mode": {
    "name": "ipython",
    "version": 3
   },
   "file_extension": ".py",
   "mimetype": "text/x-python",
   "name": "python",
   "nbconvert_exporter": "python",
   "pygments_lexer": "ipython3",
   "version": "3.8.16"
  },
  "orig_nbformat": 4,
  "vscode": {
   "interpreter": {
    "hash": "8a7075bf2fd7d9443f5927cbe305d16adc40409c6450453d3f2d63137175e6ea"
   }
  }
 },
 "nbformat": 4,
 "nbformat_minor": 2
}
