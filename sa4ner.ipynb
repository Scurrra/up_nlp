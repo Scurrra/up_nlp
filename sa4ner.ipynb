{
 "cells": [
  {
   "attachments": {},
   "cell_type": "markdown",
   "metadata": {},
   "source": [
    "# Sentiment Analysis for Named Entities"
   ]
  },
  {
   "cell_type": "code",
   "execution_count": 1,
   "metadata": {},
   "outputs": [],
   "source": [
    "from collections import defaultdict\n",
    "import json\n",
    "import numpy as np\n",
    "import pandas as pd"
   ]
  },
  {
   "attachments": {},
   "cell_type": "markdown",
   "metadata": {},
   "source": [
    "## SA model"
   ]
  },
  {
   "cell_type": "code",
   "execution_count": 2,
   "metadata": {},
   "outputs": [],
   "source": [
    "from nltk.tokenize import sent_tokenize\n",
    "from transformers import AutoModelForSequenceClassification\n",
    "from transformers import AutoTokenizer, AutoConfig\n",
    "from scipy.special import softmax"
   ]
  },
  {
   "cell_type": "code",
   "execution_count": 3,
   "metadata": {},
   "outputs": [
    {
     "name": "stderr",
     "output_type": "stream",
     "text": [
      "Some weights of the model checkpoint at cardiffnlp/twitter-roberta-base-sentiment-latest were not used when initializing RobertaForSequenceClassification: ['roberta.pooler.dense.weight', 'roberta.pooler.dense.bias']\n",
      "- This IS expected if you are initializing RobertaForSequenceClassification from the checkpoint of a model trained on another task or with another architecture (e.g. initializing a BertForSequenceClassification model from a BertForPreTraining model).\n",
      "- This IS NOT expected if you are initializing RobertaForSequenceClassification from the checkpoint of a model that you expect to be exactly identical (initializing a BertForSequenceClassification model from a BertForSequenceClassification model).\n"
     ]
    }
   ],
   "source": [
    "SA_MODEL = f\"cardiffnlp/twitter-roberta-base-sentiment-latest\"\n",
    "sa_tokenizer = AutoTokenizer.from_pretrained(SA_MODEL)\n",
    "sa_config = AutoConfig.from_pretrained(SA_MODEL)\n",
    "sa_model = AutoModelForSequenceClassification.from_pretrained(SA_MODEL)"
   ]
  },
  {
   "cell_type": "code",
   "execution_count": 4,
   "metadata": {},
   "outputs": [],
   "source": [
    "def se_eval(text : str):\n",
    "    encoded_input = sa_tokenizer(text, return_tensors='pt')\n",
    "    output = sa_model(**encoded_input)\n",
    "    return output[0][0]\n",
    "\n",
    "def se_score(output : list):\n",
    "    scores = output.detach().numpy()\n",
    "    scores = softmax(scores)\n",
    "\n",
    "    return {\n",
    "        sa_config.id2label[i] : scores[i].item()\n",
    "        for i in range(3)\n",
    "    }\n",
    "\n",
    "def sa_sentence(title: str):\n",
    "    return se_score(se_eval(title))"
   ]
  },
  {
   "cell_type": "code",
   "execution_count": 5,
   "metadata": {},
   "outputs": [],
   "source": [
    "sa_dict = {\n",
    "    \"negative\": -1,\n",
    "    \"neutral\": 0,\n",
    "    \"positive\": 1\n",
    "}\n",
    "\n",
    "def get_sentiment(score: dict):\n",
    "    return max(score, key=score.get)\n",
    "\n",
    "def the_most(key: str, scores: list):\n",
    "    st = max(enumerate(scores), key=lambda sa: sa[1][key])\n",
    "    return {\n",
    "        \"sentence_number\": st[0], \n",
    "        f\"{key} score\": st[1][key]\n",
    "    }"
   ]
  },
  {
   "attachments": {},
   "cell_type": "markdown",
   "metadata": {},
   "source": [
    "## NER model"
   ]
  },
  {
   "cell_type": "code",
   "execution_count": 6,
   "metadata": {},
   "outputs": [],
   "source": [
    "import flair, torch\n",
    "from flair.models import SequenceTagger\n",
    "from flair.tokenization import SegtokSentenceSplitter\n",
    "from flair.data import Sentence"
   ]
  },
  {
   "cell_type": "code",
   "execution_count": 7,
   "metadata": {},
   "outputs": [
    {
     "data": {
      "text/plain": [
       "True"
      ]
     },
     "execution_count": 7,
     "metadata": {},
     "output_type": "execute_result"
    }
   ],
   "source": [
    "torch.cuda.is_available()"
   ]
  },
  {
   "cell_type": "code",
   "execution_count": 8,
   "metadata": {},
   "outputs": [
    {
     "name": "stdout",
     "output_type": "stream",
     "text": [
      "Wed Feb 22 18:36:10 2023       \n",
      "+-----------------------------------------------------------------------------+\n",
      "| NVIDIA-SMI 525.89.02    Driver Version: 525.89.02    CUDA Version: 12.0     |\n",
      "|-------------------------------+----------------------+----------------------+\n",
      "| GPU  Name        Persistence-M| Bus-Id        Disp.A | Volatile Uncorr. ECC |\n",
      "| Fan  Temp  Perf  Pwr:Usage/Cap|         Memory-Usage | GPU-Util  Compute M. |\n",
      "|                               |                      |               MIG M. |\n",
      "|===============================+======================+======================|\n",
      "|   0  NVIDIA GeForce ...  Off  | 00000000:01:00.0 Off |                  N/A |\n",
      "| N/A   54C    P8    N/A /  N/A |      6MiB /  2048MiB |      0%      Default |\n",
      "|                               |                      |                  N/A |\n",
      "+-------------------------------+----------------------+----------------------+\n",
      "                                                                               \n",
      "+-----------------------------------------------------------------------------+\n",
      "| Processes:                                                                  |\n",
      "|  GPU   GI   CI        PID   Type   Process name                  GPU Memory |\n",
      "|        ID   ID                                                   Usage      |\n",
      "|=============================================================================|\n",
      "|    0   N/A  N/A      1463      G   /usr/lib/Xorg                       4MiB |\n",
      "+-----------------------------------------------------------------------------+\n"
     ]
    }
   ],
   "source": [
    "!nvidia-smi"
   ]
  },
  {
   "cell_type": "code",
   "execution_count": 9,
   "metadata": {},
   "outputs": [],
   "source": [
    "flair.device = torch.device(\"cuda:0\")"
   ]
  },
  {
   "cell_type": "code",
   "execution_count": 10,
   "metadata": {},
   "outputs": [
    {
     "name": "stderr",
     "output_type": "stream",
     "text": [
      "/home/scurrra/Programs/Anaconda/envs/nlp/lib/python3.8/site-packages/huggingface_hub/file_download.py:588: FutureWarning: `cached_download` is the legacy way to download files from the HF hub, please consider upgrading to `hf_hub_download`\n",
      "  warnings.warn(\n"
     ]
    },
    {
     "name": "stdout",
     "output_type": "stream",
     "text": [
      "2023-02-22 18:36:14,632 loading file /home/scurrra/.flair/models/ner-english-fast/4c58e7191ff952c030b82db25b3694b58800b0e722ff15427f527e1631ed6142.e13c7c4664ffe2bbfa8f1f5375bd0dced866b8c1dd7ff89a6d705518abf0a611\n",
      "2023-02-22 18:36:16,603 SequenceTagger predicts: Dictionary with 20 tags: <unk>, O, S-ORG, S-MISC, B-PER, E-PER, S-LOC, B-ORG, E-ORG, I-PER, S-PER, B-MISC, I-MISC, E-MISC, I-ORG, B-LOC, E-LOC, I-LOC, <START>, <STOP>\n"
     ]
    }
   ],
   "source": [
    "ner_splitter = SegtokSentenceSplitter()\n",
    "# ner_tagger = SequenceTagger.load('ner')\n",
    "ner_tagger = SequenceTagger.load('ner-fast')"
   ]
  },
  {
   "cell_type": "code",
   "execution_count": 11,
   "metadata": {},
   "outputs": [],
   "source": [
    "def split_news(news: dict):\n",
    "    splitted = ner_splitter.split(news[\"content\"])\n",
    "    splitted.append(Sentence(news[\"title\"]))\n",
    "    if isinstance(news[\"description\"], str):\n",
    "        splitted.extend(\n",
    "            ner_splitter.split(news[\"description\"])\n",
    "        )\n",
    "    return splitted"
   ]
  },
  {
   "attachments": {},
   "cell_type": "markdown",
   "metadata": {},
   "source": [
    "## Data"
   ]
  },
  {
   "cell_type": "code",
   "execution_count": 12,
   "metadata": {},
   "outputs": [],
   "source": [
    "import pymongo\n",
    "from pprint import pprint"
   ]
  },
  {
   "cell_type": "code",
   "execution_count": 13,
   "metadata": {},
   "outputs": [],
   "source": [
    "client = pymongo.MongoClient('localhost', 27017)\n",
    "db = client[\"news\"]\n",
    "data = db[\"data\"]"
   ]
  },
  {
   "cell_type": "code",
   "execution_count": 14,
   "metadata": {},
   "outputs": [],
   "source": [
    "FULL_TEXT_SA_N_SAMPLES = 1"
   ]
  },
  {
   "cell_type": "code",
   "execution_count": 15,
   "metadata": {},
   "outputs": [
    {
     "data": {
      "text/plain": [
       "[21942]"
      ]
     },
     "execution_count": 15,
     "metadata": {},
     "output_type": "execute_result"
    }
   ],
   "source": [
    "news = list(\n",
    "    data.aggregate([\n",
    "        {\"$sample\": {\"size\": FULL_TEXT_SA_N_SAMPLES}},  # take `FULL_TEXT_SA_N_SAMPLES` random samples\n",
    "        {\"$sort\": {\"index\": 1}}                         # sort them by `index` field\n",
    "    ])\n",
    ")\n",
    "\n",
    "[_[\"index\"] for _ in news]"
   ]
  },
  {
   "cell_type": "code",
   "execution_count": 22,
   "metadata": {},
   "outputs": [],
   "source": [
    "# sample = list(\n",
    "#     data.aggregate([\n",
    "#         {\"$sample\": {\"size\": 1}}\n",
    "#     ])\n",
    "# )[0]\n",
    "\n",
    "# sample = data.find_one({\"index\": 1984})\n",
    "\n",
    "sample = news[0]"
   ]
  },
  {
   "attachments": {},
   "cell_type": "markdown",
   "metadata": {},
   "source": [
    "## Evaluating"
   ]
  },
  {
   "cell_type": "code",
   "execution_count": 23,
   "metadata": {},
   "outputs": [],
   "source": [
    "stats = {\n",
    "    \"SAMPLES\": [],\n",
    "    \"PER\":  defaultdict(list),\n",
    "    \"LOC\":  defaultdict(list),\n",
    "    \"ORG\":  defaultdict(list),\n",
    "    \"MISC\": defaultdict(list)\n",
    "}"
   ]
  },
  {
   "cell_type": "code",
   "execution_count": 24,
   "metadata": {},
   "outputs": [
    {
     "data": {
      "text/plain": [
       "{'_id': ObjectId('63e51459fb0fef334ccfa702'),\n",
       " 'index': 21942,\n",
       " 'source': 'CNN',\n",
       " 'date': datetime.datetime(2014, 4, 11, 0, 0),\n",
       " 'title': 'NATO chief urges Russia to pull its troops from Ukraine border - CNN',\n",
       " 'category': 'news',\n",
       " 'description': \"NATO's chief urged Russia on Friday to pull back its troops from its border with Ukraine.\",\n",
       " 'content': 'Story highlightsNATO\\'s secretary general says Russia should de-escalate border buildupNATO releases more photos that it says shows buildup to rebut Russia\\'s denialsDestroyer USS Donald Cook enters the Black SeaRussia has no plans to annex southeastern Ukraine, the country\\'s foreign minister saysNATO\\'s chief urged Russia on Friday to pull back its troops from its border with Ukraine.Russia should contribute \"to a de-escalation of the situation\" and engage in a direct dialogue with the Ukrainian government, NATO Secretary General Anders Fogh Rasmussen said during a visit to Sofia, Bulgaria. NATO is \"not discussing military actions\" but is focused on protecting its allies, and it \"will take all steps necessary to make sure that this collective defense is effective,\" Rasmussen said. Meanwhile, the organization is reinforcing support to its allies, \"from the Baltic to the Black Sea,\" to deal with the instability created by Russia, Rasmussen said via Twitter.NATO released additional satellite images Friday purportedly showing the Russian military buildup and rebutted Russian claims that other satellite photos released a day earlier were outdated. NATO said the photos were recent, gathered between late March and earlier this month. \"It is clear that the military buildup of forces occurred in early March 2014,\" NATO said.Meanwhile, the destroyer USS Donald Cook has entered the Black Sea on a mission to demonstrate the U.S. \"commitment to our allies and to enhance security readiness in the region,\" Navy spokesman Lt. Shawn P. Eklund said Friday.Russia has called the U.S. military move, however, part of a systemic NATO buildup in the Black Sea.An international crisis arose in Ukraine after Russia annexed its Crimean Peninsula in March under a pact signed by Russian President Vladimir Putin with the Prime Minister of Crimea and the mayor of the city of Sevastopol. Earlier, in a Crimean referendum, 96.7% of ballots favored Crimea leaving Ukraine and being annexed by Russia.The United States now estimates there are up to 40,000 Russian troops near the border, based on classified and commercial satellite imagery.Russia has no intention to additionally annex the southeastern regions of Ukraine, Foreign Minister Sergey Lavrov said Friday in a televised interview on Russian state television, the state-run ITAR-Tass news agency reported. \"This would run counter to the vital interests of Russia,\" Lavrov said, while adding that there is no need to deploy peacekeepers in Ukraine nor any need for United Nations Security Council decisions on the matter. Lavrov went on to say that there are no Russian troops or Russian secret services agents in southeastern Ukraine.'}"
      ]
     },
     "execution_count": 24,
     "metadata": {},
     "output_type": "execute_result"
    }
   ],
   "source": [
    "sample = news[0]\n",
    "sample"
   ]
  },
  {
   "cell_type": "code",
   "execution_count": 25,
   "metadata": {},
   "outputs": [],
   "source": [
    "def sa4ner_eval(stats: dict, news: dict):\n",
    "    splitted = split_news(news)\n",
    "\n",
    "    sa_stats = [sa_sentence(sentence.text) for sentence in splitted]\n",
    "    ner_tagger.predict(splitted)\n",
    "\n",
    "    sample_stats = {\n",
    "        \"PER\":  defaultdict(list),\n",
    "        \"LOC\":  defaultdict(list),\n",
    "        \"ORG\":  defaultdict(list),\n",
    "        \"MISC\": defaultdict(list)\n",
    "    }     \n",
    "\n",
    "    # ---\n",
    "    # `sa`-statistic is added for analysis on full dataset\n",
    "    # title\n",
    "    title_sa = sa_dict[get_sentiment(sa_stats[-1])]\n",
    "    for entity in splitted[len(splitted)-1].get_spans(\"ner\"):\n",
    "        # title is the `minus 1-st` sentence in the list of sentences\n",
    "        sample_stats[entity.tag][entity.text].append(\n",
    "            (-1, title_sa)\n",
    "        )\n",
    "    # content and description\n",
    "    for sentence_i in range(len(splitted)-1):\n",
    "        sentence_sa = sa_dict[get_sentiment(sa_stats[sentence_i])]\n",
    "        for entity in splitted[sentence_i].get_spans(\"ner\"):\n",
    "            sample_stats[entity.tag][entity.text].append(\n",
    "                (sentence_i, sentence_sa)\n",
    "            )\n",
    "    # ---\n",
    "\n",
    "    # write stats for full dataset\n",
    "    stats[\"SAMPLES\"].append(news[\"index\"])\n",
    "    for key in sample_stats.keys():\n",
    "        for entity in sample_stats[key].keys():\n",
    "            stats[key][entity].append((news[\"index\"], sample_stats[key][entity]))\n",
    "    \n",
    "    # but return stats for the sample\n",
    "    return {\n",
    "        \"INDX\": news[\"index\"],\n",
    "        \"SENTENCES\": splitted,\n",
    "        \"SA\": sa_stats,\n",
    "        \"NER\": sample_stats\n",
    "    }"
   ]
  },
  {
   "cell_type": "code",
   "execution_count": 26,
   "metadata": {},
   "outputs": [],
   "source": [
    "sample_stats = sa4ner_eval(\n",
    "    stats,\n",
    "    sample\n",
    ")"
   ]
  },
  {
   "cell_type": "code",
   "execution_count": 28,
   "metadata": {},
   "outputs": [
    {
     "data": {
      "text/plain": [
       "{'INDX': 21942,\n",
       " 'SENTENCES': [Sentence: \"Story highlightsNATO 's secretary general says Russia should de-escalate border buildupNATO releases more photos that it says shows buildup to rebut Russia 's denialsDestroyer USS Donald Cook enters the Black SeaRussia has no plans to annex southeastern Ukraine , the country 's foreign minister saysNATO 's chief urged Russia on Friday to pull back its troops from its border with Ukraine.Russia should contribute \" to a de-escalation of the situation \" and engage in a direct dialogue with the Ukrainian government , NATO Secretary General Anders Fogh Rasmussen said during a visit to Sofia , Bulgaria .\" → [\"highlightsNATO\"/ORG, \"Russia\"/LOC, \"Russia\"/LOC, \"USS\"/MISC, \"Donald Cook\"/PER, \"Black SeaRussia\"/LOC, \"Ukraine\"/LOC, \"saysNATO\"/ORG, \"Russia\"/LOC, \"Ukraine.Russia\"/LOC, \"Ukrainian\"/MISC, \"NATO\"/ORG, \"Anders Fogh Rasmussen\"/PER, \"Sofia\"/LOC, \"Bulgaria\"/LOC],\n",
       "  Sentence: \"NATO is \" not discussing military actions \" but is focused on protecting its allies , and it \" will take all steps necessary to make sure that this collective defense is effective ,\" Rasmussen said .\" → [\"NATO\"/ORG, \"Rasmussen\"/PER],\n",
       "  Sentence: \"Meanwhile , the organization is reinforcing support to its allies , \" from the Baltic to the Black Sea ,\" to deal with the instability created by Russia , Rasmussen said via Twitter.NATO released additional satellite images Friday purportedly showing the Russian military buildup and rebutted Russian claims that other satellite photos released a day earlier were outdated .\" → [\"Baltic\"/MISC, \"Black Sea\"/LOC, \"Russia\"/LOC, \"Rasmussen\"/PER, \"Twitter.NATO\"/ORG, \"Russian\"/MISC, \"Russian\"/MISC],\n",
       "  Sentence: \"NATO said the photos were recent , gathered between late March and earlier this month .\" → [\"NATO\"/ORG],\n",
       "  Sentence: \"\" It is clear that the military buildup of forces occurred in early March 2014 ,\" NATO said.Meanwhile , the destroyer USS Donald Cook has entered the Black Sea on a mission to demonstrate the U.S. \" commitment to our allies and to enhance security readiness in the region ,\" Navy spokesman Lt .\" → [\"NATO\"/ORG, \"Donald Cook\"/PER, \"Black Sea\"/LOC, \"U.S.\"/LOC, \"Navy\"/ORG],\n",
       "  Sentence: \"Shawn P. Eklund said Friday.Russia has called the U.S. military move , however , part of a systemic NATO buildup in the Black Sea.An international crisis arose in Ukraine after Russia annexed its Crimean Peninsula in March under a pact signed by Russian President Vladimir Putin with the Prime Minister of Crimea and the mayor of the city of Sevastopol .\" → [\"Shawn P. Eklund\"/PER, \"Friday.Russia\"/LOC, \"U.S.\"/LOC, \"NATO\"/ORG, \"Black Sea.An\"/MISC, \"Ukraine\"/LOC, \"Russia\"/LOC, \"Crimean Peninsula\"/LOC, \"Russian\"/MISC, \"Vladimir Putin\"/PER, \"Crimea\"/LOC, \"Sevastopol\"/LOC],\n",
       "  Sentence: \"Earlier , in a Crimean referendum , 96.7 % of ballots favored Crimea leaving Ukraine and being annexed by Russia.The United States now estimates there are up to 40,000 Russian troops near the border , based on classified and commercial satellite imagery.Russia has no intention to additionally annex the southeastern regions of Ukraine , Foreign Minister Sergey Lavrov said Friday in a televised interview on Russian state television , the state-run ITAR-Tass news agency reported .\" → [\"Crimean\"/MISC, \"Crimea\"/LOC, \"Ukraine\"/LOC, \"Russia.The\"/MISC, \"United States\"/LOC, \"Russian\"/MISC, \"Ukraine\"/LOC, \"Sergey Lavrov\"/PER, \"Russian\"/MISC, \"ITAR-Tass\"/ORG],\n",
       "  Sentence: \"\" This would run counter to the vital interests of Russia ,\" Lavrov said , while adding that there is no need to deploy peacekeepers in Ukraine nor any need for United Nations Security Council decisions on the matter .\" → [\"Russia\"/LOC, \"Lavrov\"/PER, \"Ukraine\"/LOC, \"United Nations Security Council\"/ORG],\n",
       "  Sentence: \"Lavrov went on to say that there are no Russian troops or Russian secret services agents in southeastern Ukraine .\" → [\"Lavrov\"/PER, \"Russian\"/MISC, \"Russian\"/MISC, \"Ukraine\"/LOC],\n",
       "  Sentence: \"NATO chief urges Russia to pull its troops from Ukraine border - CNN\" → [\"NATO\"/ORG, \"Russia\"/LOC, \"Ukraine\"/LOC, \"CNN\"/ORG],\n",
       "  Sentence: \"NATO 's chief urged Russia on Friday to pull back its troops from its border with Ukraine .\" → [\"NATO\"/ORG, \"Russia\"/LOC, \"Ukraine\"/LOC]],\n",
       " 'SA': [{'negative': 0.02961876429617405,\n",
       "   'neutral': 0.9137746095657349,\n",
       "   'positive': 0.0566067211329937},\n",
       "  {'negative': 0.0190619844943285,\n",
       "   'neutral': 0.7399227023124695,\n",
       "   'positive': 0.24101532995700836},\n",
       "  {'negative': 0.015866953879594803,\n",
       "   'neutral': 0.8186132311820984,\n",
       "   'positive': 0.1655198633670807},\n",
       "  {'negative': 0.01418994925916195,\n",
       "   'neutral': 0.9472795128822327,\n",
       "   'positive': 0.038530509918928146},\n",
       "  {'negative': 0.008769304491579533,\n",
       "   'neutral': 0.9207848906517029,\n",
       "   'positive': 0.07044585049152374},\n",
       "  {'negative': 0.24746708571910858,\n",
       "   'neutral': 0.7375168800354004,\n",
       "   'positive': 0.015016051009297371},\n",
       "  {'negative': 0.0870354026556015,\n",
       "   'neutral': 0.8791617751121521,\n",
       "   'positive': 0.033802784979343414},\n",
       "  {'negative': 0.5595948100090027,\n",
       "   'neutral': 0.4284525513648987,\n",
       "   'positive': 0.011952630244195461},\n",
       "  {'negative': 0.1472523808479309,\n",
       "   'neutral': 0.8240840435028076,\n",
       "   'positive': 0.02866349183022976},\n",
       "  {'negative': 0.06617517024278641,\n",
       "   'neutral': 0.9054710268974304,\n",
       "   'positive': 0.028353873640298843},\n",
       "  {'negative': 0.030955417081713676,\n",
       "   'neutral': 0.9256187677383423,\n",
       "   'positive': 0.0434257835149765}],\n",
       " 'NER': {'PER': defaultdict(list,\n",
       "              {'Donald Cook': [(0, 0), (4, 0)],\n",
       "               'Anders Fogh Rasmussen': [(0, 0)],\n",
       "               'Rasmussen': [(1, 0), (2, 0)],\n",
       "               'Shawn P. Eklund': [(5, 0)],\n",
       "               'Vladimir Putin': [(5, 0)],\n",
       "               'Sergey Lavrov': [(6, 0)],\n",
       "               'Lavrov': [(7, -1), (8, 0)]}),\n",
       "  'LOC': defaultdict(list,\n",
       "              {'Russia': [(-1, 0),\n",
       "                (0, 0),\n",
       "                (0, 0),\n",
       "                (0, 0),\n",
       "                (2, 0),\n",
       "                (5, 0),\n",
       "                (7, -1),\n",
       "                (9, 0)],\n",
       "               'Ukraine': [(-1, 0),\n",
       "                (0, 0),\n",
       "                (5, 0),\n",
       "                (6, 0),\n",
       "                (6, 0),\n",
       "                (7, -1),\n",
       "                (8, 0),\n",
       "                (9, 0)],\n",
       "               'Black SeaRussia': [(0, 0)],\n",
       "               'Ukraine.Russia': [(0, 0)],\n",
       "               'Sofia': [(0, 0)],\n",
       "               'Bulgaria': [(0, 0)],\n",
       "               'Black Sea': [(2, 0), (4, 0)],\n",
       "               'U.S.': [(4, 0), (5, 0)],\n",
       "               'Friday.Russia': [(5, 0)],\n",
       "               'Crimean Peninsula': [(5, 0)],\n",
       "               'Crimea': [(5, 0), (6, 0)],\n",
       "               'Sevastopol': [(5, 0)],\n",
       "               'United States': [(6, 0)]}),\n",
       "  'ORG': defaultdict(list,\n",
       "              {'NATO': [(-1, 0),\n",
       "                (0, 0),\n",
       "                (1, 0),\n",
       "                (3, 0),\n",
       "                (4, 0),\n",
       "                (5, 0),\n",
       "                (9, 0)],\n",
       "               'highlightsNATO': [(0, 0)],\n",
       "               'saysNATO': [(0, 0)],\n",
       "               'Twitter.NATO': [(2, 0)],\n",
       "               'Navy': [(4, 0)],\n",
       "               'ITAR-Tass': [(6, 0)],\n",
       "               'United Nations Security Council': [(7, -1)],\n",
       "               'CNN': [(9, 0)]}),\n",
       "  'MISC': defaultdict(list,\n",
       "              {'USS': [(0, 0)],\n",
       "               'Ukrainian': [(0, 0)],\n",
       "               'Baltic': [(2, 0)],\n",
       "               'Russian': [(2, 0),\n",
       "                (2, 0),\n",
       "                (5, 0),\n",
       "                (6, 0),\n",
       "                (6, 0),\n",
       "                (8, 0),\n",
       "                (8, 0)],\n",
       "               'Black Sea.An': [(5, 0)],\n",
       "               'Crimean': [(6, 0)],\n",
       "               'Russia.The': [(6, 0)]})}}"
      ]
     },
     "execution_count": 28,
     "metadata": {},
     "output_type": "execute_result"
    }
   ],
   "source": [
    "sample_stats"
   ]
  },
  {
   "attachments": {},
   "cell_type": "markdown",
   "metadata": {},
   "source": [
    "## Analysis"
   ]
  }
 ],
 "metadata": {
  "kernelspec": {
   "display_name": "nlp",
   "language": "python",
   "name": "python3"
  },
  "language_info": {
   "codemirror_mode": {
    "name": "ipython",
    "version": 3
   },
   "file_extension": ".py",
   "mimetype": "text/x-python",
   "name": "python",
   "nbconvert_exporter": "python",
   "pygments_lexer": "ipython3",
   "version": "3.8.16"
  },
  "orig_nbformat": 4,
  "vscode": {
   "interpreter": {
    "hash": "8a7075bf2fd7d9443f5927cbe305d16adc40409c6450453d3f2d63137175e6ea"
   }
  }
 },
 "nbformat": 4,
 "nbformat_minor": 2
}
